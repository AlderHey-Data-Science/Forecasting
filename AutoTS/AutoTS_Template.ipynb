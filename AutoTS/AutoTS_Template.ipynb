{
 "cells": [
  {
   "cell_type": "markdown",
   "metadata": {},
   "source": [
    "AutoTS MODEL EVALUATIONS"
   ]
  },
  {
   "cell_type": "code",
   "execution_count": 1,
   "metadata": {},
   "outputs": [],
   "source": [
    "#Imports\n",
    "from autots import AutoTS\n",
    "from autots.models import *\n",
    "\n",
    "import pandas as pd \n",
    "import numpy as np\n"
   ]
  },
  {
   "cell_type": "code",
   "execution_count": 2,
   "metadata": {},
   "outputs": [
    {
     "data": {
      "text/html": [
       "<div>\n",
       "<style scoped>\n",
       "    .dataframe tbody tr th:only-of-type {\n",
       "        vertical-align: middle;\n",
       "    }\n",
       "\n",
       "    .dataframe tbody tr th {\n",
       "        vertical-align: top;\n",
       "    }\n",
       "\n",
       "    .dataframe thead th {\n",
       "        text-align: right;\n",
       "    }\n",
       "</style>\n",
       "<table border=\"1\" class=\"dataframe\">\n",
       "  <thead>\n",
       "    <tr style=\"text-align: right;\">\n",
       "      <th></th>\n",
       "      <th>Date</th>\n",
       "      <th>SG_Y</th>\n",
       "    </tr>\n",
       "  </thead>\n",
       "  <tbody>\n",
       "    <tr>\n",
       "      <th>0</th>\n",
       "      <td>2017/12</td>\n",
       "      <td>76.500</td>\n",
       "    </tr>\n",
       "    <tr>\n",
       "      <th>1</th>\n",
       "      <td>2018/01</td>\n",
       "      <td>82.750</td>\n",
       "    </tr>\n",
       "    <tr>\n",
       "      <th>2</th>\n",
       "      <td>2018/02</td>\n",
       "      <td>85.500</td>\n",
       "    </tr>\n",
       "    <tr>\n",
       "      <th>3</th>\n",
       "      <td>2018/03</td>\n",
       "      <td>86.125</td>\n",
       "    </tr>\n",
       "    <tr>\n",
       "      <th>4</th>\n",
       "      <td>2018/04</td>\n",
       "      <td>88.700</td>\n",
       "    </tr>\n",
       "  </tbody>\n",
       "</table>\n",
       "</div>"
      ],
      "text/plain": [
       "      Date    SG_Y\n",
       "0  2017/12  76.500\n",
       "1  2018/01  82.750\n",
       "2  2018/02  85.500\n",
       "3  2018/03  86.125\n",
       "4  2018/04  88.700"
      ]
     },
     "execution_count": 2,
     "metadata": {},
     "output_type": "execute_result"
    }
   ],
   "source": [
    "#Load Data\n",
    "data = pd.read_csv('data_for_inequalities.csv', usecols=['Date', 'SG_Y'])\n",
    "data.head()"
   ]
  },
  {
   "cell_type": "code",
   "execution_count": 3,
   "metadata": {},
   "outputs": [
    {
     "data": {
      "text/html": [
       "<div>\n",
       "<style scoped>\n",
       "    .dataframe tbody tr th:only-of-type {\n",
       "        vertical-align: middle;\n",
       "    }\n",
       "\n",
       "    .dataframe tbody tr th {\n",
       "        vertical-align: top;\n",
       "    }\n",
       "\n",
       "    .dataframe thead th {\n",
       "        text-align: right;\n",
       "    }\n",
       "</style>\n",
       "<table border=\"1\" class=\"dataframe\">\n",
       "  <thead>\n",
       "    <tr style=\"text-align: right;\">\n",
       "      <th></th>\n",
       "      <th>Date</th>\n",
       "      <th>SG_Y</th>\n",
       "    </tr>\n",
       "  </thead>\n",
       "  <tbody>\n",
       "    <tr>\n",
       "      <th>43</th>\n",
       "      <td>2022/07</td>\n",
       "      <td>101.208333</td>\n",
       "    </tr>\n",
       "    <tr>\n",
       "      <th>44</th>\n",
       "      <td>2022/08</td>\n",
       "      <td>100.125000</td>\n",
       "    </tr>\n",
       "    <tr>\n",
       "      <th>45</th>\n",
       "      <td>2022/09</td>\n",
       "      <td>99.791667</td>\n",
       "    </tr>\n",
       "    <tr>\n",
       "      <th>46</th>\n",
       "      <td>2022/10</td>\n",
       "      <td>100.791667</td>\n",
       "    </tr>\n",
       "    <tr>\n",
       "      <th>47</th>\n",
       "      <td>2022/11</td>\n",
       "      <td>102.958333</td>\n",
       "    </tr>\n",
       "  </tbody>\n",
       "</table>\n",
       "</div>"
      ],
      "text/plain": [
       "       Date        SG_Y\n",
       "43  2022/07  101.208333\n",
       "44  2022/08  100.125000\n",
       "45  2022/09   99.791667\n",
       "46  2022/10  100.791667\n",
       "47  2022/11  102.958333"
      ]
     },
     "execution_count": 3,
     "metadata": {},
     "output_type": "execute_result"
    }
   ],
   "source": [
    "data.tail()"
   ]
  },
  {
   "cell_type": "code",
   "execution_count": 6,
   "metadata": {},
   "outputs": [],
   "source": [
    "#Make sure date col is of daa type datetime \n",
    "data['Date']= pd.to_datetime(data['Date'], format='%Y/%m')"
   ]
  },
  {
   "cell_type": "code",
   "execution_count": 7,
   "metadata": {},
   "outputs": [
    {
     "data": {
      "text/html": [
       "<div>\n",
       "<style scoped>\n",
       "    .dataframe tbody tr th:only-of-type {\n",
       "        vertical-align: middle;\n",
       "    }\n",
       "\n",
       "    .dataframe tbody tr th {\n",
       "        vertical-align: top;\n",
       "    }\n",
       "\n",
       "    .dataframe thead th {\n",
       "        text-align: right;\n",
       "    }\n",
       "</style>\n",
       "<table border=\"1\" class=\"dataframe\">\n",
       "  <thead>\n",
       "    <tr style=\"text-align: right;\">\n",
       "      <th></th>\n",
       "      <th>Date</th>\n",
       "      <th>SG_Y</th>\n",
       "    </tr>\n",
       "  </thead>\n",
       "  <tbody>\n",
       "    <tr>\n",
       "      <th>31</th>\n",
       "      <td>2021-07-01</td>\n",
       "      <td>104.000000</td>\n",
       "    </tr>\n",
       "    <tr>\n",
       "      <th>32</th>\n",
       "      <td>2021-08-01</td>\n",
       "      <td>104.333333</td>\n",
       "    </tr>\n",
       "    <tr>\n",
       "      <th>33</th>\n",
       "      <td>2021-09-01</td>\n",
       "      <td>103.833333</td>\n",
       "    </tr>\n",
       "    <tr>\n",
       "      <th>34</th>\n",
       "      <td>2021-10-01</td>\n",
       "      <td>104.416667</td>\n",
       "    </tr>\n",
       "    <tr>\n",
       "      <th>35</th>\n",
       "      <td>2021-11-01</td>\n",
       "      <td>103.916667</td>\n",
       "    </tr>\n",
       "  </tbody>\n",
       "</table>\n",
       "</div>"
      ],
      "text/plain": [
       "         Date        SG_Y\n",
       "31 2021-07-01  104.000000\n",
       "32 2021-08-01  104.333333\n",
       "33 2021-09-01  103.833333\n",
       "34 2021-10-01  104.416667\n",
       "35 2021-11-01  103.916667"
      ]
     },
     "execution_count": 7,
     "metadata": {},
     "output_type": "execute_result"
    }
   ],
   "source": [
    "#Trrain Test Split\n",
    "train, test = data[:-12], data[-12:]\n",
    "train.tail()"
   ]
  },
  {
   "cell_type": "code",
   "execution_count": 8,
   "metadata": {},
   "outputs": [
    {
     "data": {
      "text/html": [
       "<div>\n",
       "<style scoped>\n",
       "    .dataframe tbody tr th:only-of-type {\n",
       "        vertical-align: middle;\n",
       "    }\n",
       "\n",
       "    .dataframe tbody tr th {\n",
       "        vertical-align: top;\n",
       "    }\n",
       "\n",
       "    .dataframe thead th {\n",
       "        text-align: right;\n",
       "    }\n",
       "</style>\n",
       "<table border=\"1\" class=\"dataframe\">\n",
       "  <thead>\n",
       "    <tr style=\"text-align: right;\">\n",
       "      <th></th>\n",
       "      <th>Date</th>\n",
       "      <th>SG_Y</th>\n",
       "    </tr>\n",
       "  </thead>\n",
       "  <tbody>\n",
       "    <tr>\n",
       "      <th>36</th>\n",
       "      <td>2021-12-01</td>\n",
       "      <td>104.250000</td>\n",
       "    </tr>\n",
       "    <tr>\n",
       "      <th>37</th>\n",
       "      <td>2022-01-01</td>\n",
       "      <td>103.458333</td>\n",
       "    </tr>\n",
       "    <tr>\n",
       "      <th>38</th>\n",
       "      <td>2022-02-01</td>\n",
       "      <td>103.916667</td>\n",
       "    </tr>\n",
       "    <tr>\n",
       "      <th>39</th>\n",
       "      <td>2022-03-01</td>\n",
       "      <td>108.541667</td>\n",
       "    </tr>\n",
       "    <tr>\n",
       "      <th>40</th>\n",
       "      <td>2022-04-01</td>\n",
       "      <td>108.458333</td>\n",
       "    </tr>\n",
       "    <tr>\n",
       "      <th>41</th>\n",
       "      <td>2022-05-01</td>\n",
       "      <td>107.291667</td>\n",
       "    </tr>\n",
       "    <tr>\n",
       "      <th>42</th>\n",
       "      <td>2022-06-01</td>\n",
       "      <td>106.583333</td>\n",
       "    </tr>\n",
       "    <tr>\n",
       "      <th>43</th>\n",
       "      <td>2022-07-01</td>\n",
       "      <td>101.208333</td>\n",
       "    </tr>\n",
       "    <tr>\n",
       "      <th>44</th>\n",
       "      <td>2022-08-01</td>\n",
       "      <td>100.125000</td>\n",
       "    </tr>\n",
       "    <tr>\n",
       "      <th>45</th>\n",
       "      <td>2022-09-01</td>\n",
       "      <td>99.791667</td>\n",
       "    </tr>\n",
       "    <tr>\n",
       "      <th>46</th>\n",
       "      <td>2022-10-01</td>\n",
       "      <td>100.791667</td>\n",
       "    </tr>\n",
       "    <tr>\n",
       "      <th>47</th>\n",
       "      <td>2022-11-01</td>\n",
       "      <td>102.958333</td>\n",
       "    </tr>\n",
       "  </tbody>\n",
       "</table>\n",
       "</div>"
      ],
      "text/plain": [
       "         Date        SG_Y\n",
       "36 2021-12-01  104.250000\n",
       "37 2022-01-01  103.458333\n",
       "38 2022-02-01  103.916667\n",
       "39 2022-03-01  108.541667\n",
       "40 2022-04-01  108.458333\n",
       "41 2022-05-01  107.291667\n",
       "42 2022-06-01  106.583333\n",
       "43 2022-07-01  101.208333\n",
       "44 2022-08-01  100.125000\n",
       "45 2022-09-01   99.791667\n",
       "46 2022-10-01  100.791667\n",
       "47 2022-11-01  102.958333"
      ]
     },
     "execution_count": 8,
     "metadata": {},
     "output_type": "execute_result"
    }
   ],
   "source": [
    "test"
   ]
  },
  {
   "cell_type": "code",
   "execution_count": 9,
   "metadata": {},
   "outputs": [
    {
     "name": "stdout",
     "output_type": "stream",
     "text": [
      "(36, 2)\n",
      "(12, 2)\n"
     ]
    }
   ],
   "source": [
    "#75/25 split\n",
    "print(train.shape)\n",
    "print(test.shape)"
   ]
  },
  {
   "cell_type": "code",
   "execution_count": 10,
   "metadata": {},
   "outputs": [],
   "source": [
    "#Define Models for AutoTS to run \n",
    "model_list = [\n",
    "    'ARIMA',\n",
    "    'ETS',\n",
    "    'Theta',\n",
    "    'FBProphet',\n",
    "    'SeasonalNaive'\n",
    "    \n",
    "]"
   ]
  },
  {
   "cell_type": "code",
   "execution_count": 13,
   "metadata": {},
   "outputs": [
    {
     "name": "stdout",
     "output_type": "stream",
     "text": [
      "Inferred frequency is: MS\n",
      "Model Number: 1 with model ARIMA in generation 0 of 10\n"
     ]
    },
    {
     "name": "stderr",
     "output_type": "stream",
     "text": [
      "C:\\Users\\pgrady\\AppData\\Local\\Packages\\PythonSoftwareFoundation.Python.3.10_qbz5n2kfra8p0\\LocalCache\\local-packages\\Python310\\site-packages\\autots\\evaluator\\auto_model.py:939: FutureWarning: iteritems is deprecated and will be removed in a future version. Use .items instead.\n",
      "  for index, value in models_to_iterate.iteritems():\n"
     ]
    },
    {
     "name": "stdout",
     "output_type": "stream",
     "text": [
      "Model Number: 2 with model ARIMA in generation 0 of 10\n",
      "Model Number: 3 with model ARIMA in generation 0 of 10\n",
      "Model Number: 4 with model ETS in generation 0 of 10\n",
      "Model Number: 5 with model ETS in generation 0 of 10\n",
      "Model Number: 6 with model SeasonalNaive in generation 0 of 10\n",
      "Template Eval Error: Exception('Transformer PowerTransformer failed on fit') in model 6: SeasonalNaive\n",
      "Model Number: 7 with model SeasonalNaive in generation 0 of 10\n",
      "Model Number: 8 with model SeasonalNaive in generation 0 of 10\n",
      "Model Number: 9 with model FBProphet in generation 0 of 10\n"
     ]
    },
    {
     "name": "stderr",
     "output_type": "stream",
     "text": [
      "C:\\Users\\pgrady\\AppData\\Local\\Packages\\PythonSoftwareFoundation.Python.3.10_qbz5n2kfra8p0\\LocalCache\\local-packages\\Python310\\site-packages\\sklearn\\preprocessing\\_data.py:3215: RuntimeWarning: overflow encountered in power\n",
      "  out[~pos] = -(np.power(-x[~pos] + 1, 2 - lmbda) - 1) / (2 - lmbda)\n",
      "13:54:03 - cmdstanpy - INFO - Chain [1] start processing\n",
      "13:54:03 - cmdstanpy - INFO - Chain [1] done processing\n"
     ]
    },
    {
     "name": "stdout",
     "output_type": "stream",
     "text": [
      "Model Number: 10 with model SeasonalNaive in generation 0 of 10\n",
      "Model Number: 11 with model ETS in generation 0 of 10\n",
      "ETS error ValueError('Cannot compute initial seasonals using heuristic method with less than two full seasonal cycles in the data.')\n",
      "ETS failed on SG_Y with ValueError('Cannot compute initial seasonals using heuristic method with less than two full seasonal cycles in the data.')\n",
      "Model Number: 12 with model FBProphet in generation 0 of 10\n"
     ]
    },
    {
     "name": "stderr",
     "output_type": "stream",
     "text": [
      "13:54:04 - cmdstanpy - INFO - Chain [1] start processing\n",
      "13:54:04 - cmdstanpy - INFO - Chain [1] done processing\n"
     ]
    },
    {
     "name": "stdout",
     "output_type": "stream",
     "text": [
      "Model Number: 13 with model SeasonalNaive in generation 0 of 10\n",
      "Model Number: 14 with model Theta in generation 0 of 10\n",
      "Model Number: 15 with model ARIMA in generation 0 of 10\n",
      "Model Number: 16 with model ETS in generation 0 of 10\n",
      "Model Number: 17 with model Theta in generation 0 of 10\n",
      "Model Number: 18 with model FBProphet in generation 0 of 10\n",
      "Template Eval Error: ValueError(\"regression_type='User' but no future_regressor passed\") in model 18: FBProphet\n",
      "Model Number: 19 with model SeasonalNaive in generation 0 of 10\n",
      "Model Number: 20 with model SeasonalNaive in generation 0 of 10\n",
      "Model Number: 21 with model Theta in generation 0 of 10\n",
      "Model Number: 22 with model FBProphet in generation 0 of 10\n"
     ]
    },
    {
     "name": "stderr",
     "output_type": "stream",
     "text": [
      "13:54:08 - cmdstanpy - INFO - Chain [1] start processing\n",
      "13:54:51 - cmdstanpy - INFO - Chain [1] done processing\n"
     ]
    },
    {
     "name": "stdout",
     "output_type": "stream",
     "text": [
      "Model Number: 23 with model Theta in generation 0 of 10\n",
      "Model Number: 24 with model SeasonalNaive in generation 0 of 10\n",
      "Model Number: 25 with model SeasonalNaive in generation 0 of 10\n",
      "Model Number: 26 with model ETS in generation 0 of 10\n",
      "Model Number: 27 with model ARIMA in generation 0 of 10\n",
      "Model Number: 28 with model Theta in generation 0 of 10\n",
      "Model Number: 29 with model ARIMA in generation 0 of 10\n",
      "Model Number: 30 with model ETS in generation 0 of 10\n",
      "Model Number: 31 with model FBProphet in generation 0 of 10\n"
     ]
    },
    {
     "name": "stderr",
     "output_type": "stream",
     "text": [
      "13:54:52 - cmdstanpy - INFO - Chain [1] start processing\n",
      "13:54:53 - cmdstanpy - INFO - Chain [1] done processing\n"
     ]
    },
    {
     "name": "stdout",
     "output_type": "stream",
     "text": [
      "Model Number: 32 with model Theta in generation 0 of 10\n",
      "Model Number: 33 with model Theta in generation 0 of 10\n",
      "Model Number: 34 with model SeasonalNaive in generation 0 of 10\n",
      "Model Number: 35 with model FBProphet in generation 0 of 10\n"
     ]
    },
    {
     "name": "stderr",
     "output_type": "stream",
     "text": [
      "13:54:54 - cmdstanpy - INFO - Chain [1] start processing\n",
      "13:54:54 - cmdstanpy - INFO - Chain [1] done processing\n"
     ]
    },
    {
     "name": "stdout",
     "output_type": "stream",
     "text": [
      "Model Number: 36 with model SeasonalNaive in generation 0 of 10\n",
      "Model Number: 37 with model ARIMA in generation 0 of 10\n",
      "Model Number: 38 with model ETS in generation 0 of 10\n",
      "ETS error ValueError('Cannot compute initial seasonals using heuristic method with less than two full seasonal cycles in the data.')\n",
      "ETS failed on SG_Y with ValueError('Cannot compute initial seasonals using heuristic method with less than two full seasonal cycles in the data.')\n",
      "Model Number: 39 with model ARIMA in generation 0 of 10\n",
      "New Generation: 1 of 10\n",
      "Model Number: 40 with model ARIMA in generation 1 of 10\n",
      "Model Number: 41 with model ETS in generation 1 of 10\n",
      "Model Number: 42 with model ARIMA in generation 1 of 10\n",
      "Model Number: 43 with model ARIMA in generation 1 of 10\n",
      "Model Number: 44 with model SeasonalNaive in generation 1 of 10\n",
      "Model Number: 45 with model Theta in generation 1 of 10\n",
      "Model Number: 46 with model ARIMA in generation 1 of 10\n",
      "Model Number: 47 with model ETS in generation 1 of 10\n",
      "Model Number: 48 with model Theta in generation 1 of 10\n",
      "Model Number: 49 with model ETS in generation 1 of 10\n",
      "Model Number: 50 with model ARIMA in generation 1 of 10\n",
      "Model Number: 51 with model Theta in generation 1 of 10\n",
      "Model Number: 52 with model ETS in generation 1 of 10\n",
      "Model Number: 53 with model SeasonalNaive in generation 1 of 10\n",
      "Model Number: 54 with model Theta in generation 1 of 10\n",
      "Model Number: 55 with model FBProphet in generation 1 of 10\n"
     ]
    },
    {
     "name": "stderr",
     "output_type": "stream",
     "text": [
      "13:54:59 - cmdstanpy - INFO - Chain [1] start processing\n",
      "13:55:00 - cmdstanpy - INFO - Chain [1] done processing\n"
     ]
    },
    {
     "name": "stdout",
     "output_type": "stream",
     "text": [
      "Model Number: 56 with model FBProphet in generation 1 of 10\n"
     ]
    },
    {
     "name": "stderr",
     "output_type": "stream",
     "text": [
      "13:55:00 - cmdstanpy - INFO - Chain [1] start processing\n",
      "13:55:01 - cmdstanpy - INFO - Chain [1] done processing\n"
     ]
    },
    {
     "name": "stdout",
     "output_type": "stream",
     "text": [
      "Model Number: 57 with model ETS in generation 1 of 10\n",
      "Model Number: 58 with model Theta in generation 1 of 10\n",
      "Model Number: 59 with model ARIMA in generation 1 of 10\n",
      "Model Number: 60 with model FBProphet in generation 1 of 10\n"
     ]
    },
    {
     "name": "stderr",
     "output_type": "stream",
     "text": [
      "13:55:09 - cmdstanpy - INFO - Chain [1] start processing\n",
      "13:55:09 - cmdstanpy - INFO - Chain [1] done processing\n"
     ]
    },
    {
     "name": "stdout",
     "output_type": "stream",
     "text": [
      "Model Number: 61 with model Theta in generation 1 of 10\n",
      "Model Number: 62 with model Theta in generation 1 of 10\n",
      "Model Number: 63 with model ARIMA in generation 1 of 10\n",
      "Model Number: 64 with model SeasonalNaive in generation 1 of 10\n",
      "New Generation: 2 of 10\n",
      "Model Number: 65 with model ARIMA in generation 2 of 10\n",
      "Model Number: 66 with model Theta in generation 2 of 10\n",
      "Model Number: 67 with model SeasonalNaive in generation 2 of 10\n",
      "Model Number: 68 with model ETS in generation 2 of 10\n",
      "Model Number: 69 with model ARIMA in generation 2 of 10\n",
      "Model Number: 70 with model ETS in generation 2 of 10\n",
      "Model Number: 71 with model Theta in generation 2 of 10\n",
      "Model Number: 72 with model Theta in generation 2 of 10\n",
      "Model Number: 73 with model ETS in generation 2 of 10\n",
      "Model Number: 74 with model Theta in generation 2 of 10\n",
      "No anomalies detected.\n",
      "Model Number: 75 with model FBProphet in generation 2 of 10\n"
     ]
    },
    {
     "name": "stderr",
     "output_type": "stream",
     "text": [
      "13:55:19 - cmdstanpy - INFO - Chain [1] start processing\n",
      "13:55:20 - cmdstanpy - INFO - Chain [1] done processing\n"
     ]
    },
    {
     "name": "stdout",
     "output_type": "stream",
     "text": [
      "Model Number: 76 with model ARIMA in generation 2 of 10\n",
      "Model Number: 77 with model ETS in generation 2 of 10\n",
      "Model Number: 78 with model FBProphet in generation 2 of 10\n"
     ]
    },
    {
     "name": "stderr",
     "output_type": "stream",
     "text": [
      "13:55:21 - cmdstanpy - INFO - Chain [1] start processing\n",
      "13:55:21 - cmdstanpy - INFO - Chain [1] done processing\n"
     ]
    },
    {
     "name": "stdout",
     "output_type": "stream",
     "text": [
      "Model Number: 79 with model ARIMA in generation 2 of 10\n",
      "Model Number: 80 with model ARIMA in generation 2 of 10\n",
      "Model Number: 81 with model Theta in generation 2 of 10\n",
      "Model Number: 82 with model SeasonalNaive in generation 2 of 10\n",
      "Model Number: 83 with model ARIMA in generation 2 of 10\n",
      "Template Eval Error: Exception('Transformer Detrend failed on fit') in model 83: ARIMA\n",
      "Model Number: 84 with model SeasonalNaive in generation 2 of 10\n",
      "Model Number: 85 with model ARIMA in generation 2 of 10\n",
      "Model Number: 86 with model ETS in generation 2 of 10\n",
      "Model Number: 87 with model ETS in generation 2 of 10\n",
      "Model Number: 88 with model ARIMA in generation 2 of 10\n",
      "Template Eval Error: ValueError(\"regression_type='User' but future_regressor not supplied\") in model 88: ARIMA\n",
      "Model Number: 89 with model ARIMA in generation 2 of 10\n",
      "New Generation: 3 of 10\n",
      "Model Number: 90 with model ARIMA in generation 3 of 10\n",
      "Template Eval Error: ValueError(\"regression_type='User' but future_regressor not supplied\") in model 90: ARIMA\n",
      "Model Number: 91 with model FBProphet in generation 3 of 10\n"
     ]
    },
    {
     "name": "stderr",
     "output_type": "stream",
     "text": [
      "13:55:25 - cmdstanpy - INFO - Chain [1] start processing\n",
      "13:55:25 - cmdstanpy - INFO - Chain [1] done processing\n"
     ]
    },
    {
     "name": "stdout",
     "output_type": "stream",
     "text": [
      "Model Number: 92 with model Theta in generation 3 of 10\n",
      "Model Number: 93 with model ETS in generation 3 of 10\n",
      "Model Number: 94 with model Theta in generation 3 of 10\n",
      "Model Number: 95 with model FBProphet in generation 3 of 10\n"
     ]
    },
    {
     "name": "stderr",
     "output_type": "stream",
     "text": [
      "C:\\Users\\pgrady\\AppData\\Local\\Packages\\PythonSoftwareFoundation.Python.3.10_qbz5n2kfra8p0\\LocalCache\\local-packages\\Python310\\site-packages\\sklearn\\decomposition\\_fastica.py:660: FutureWarning: Starting in v1.3, whiten=True should be specified as whiten='arbitrary-variance' (its current behaviour). This behavior is deprecated in 1.1 and will raise ValueError in 1.3.\n",
      "  return self._fit(X, compute_sources=True)\n",
      "13:55:26 - cmdstanpy - INFO - Chain [1] start processing\n",
      "13:55:26 - cmdstanpy - INFO - Chain [1] done processing\n"
     ]
    },
    {
     "name": "stdout",
     "output_type": "stream",
     "text": [
      "Model Number: 96 with model ETS in generation 3 of 10\n",
      "Model Number: 97 with model Theta in generation 3 of 10\n",
      "Model Number: 98 with model SeasonalNaive in generation 3 of 10\n",
      "Model Number: 99 with model Theta in generation 3 of 10\n",
      "Model Number: 100 with model ARIMA in generation 3 of 10\n",
      "Model Number: 101 with model SeasonalNaive in generation 3 of 10\n",
      "Model Number: 102 with model FBProphet in generation 3 of 10\n",
      "No anomalies detected.\n"
     ]
    },
    {
     "name": "stderr",
     "output_type": "stream",
     "text": [
      "13:55:28 - cmdstanpy - INFO - Chain [1] start processing\n",
      "13:56:08 - cmdstanpy - INFO - Chain [1] done processing\n"
     ]
    },
    {
     "name": "stdout",
     "output_type": "stream",
     "text": [
      "Model Number: 103 with model Theta in generation 3 of 10\n",
      "Model Number: 104 with model FBProphet in generation 3 of 10\n"
     ]
    },
    {
     "name": "stderr",
     "output_type": "stream",
     "text": [
      "13:56:09 - cmdstanpy - INFO - Chain [1] start processing\n",
      "13:56:09 - cmdstanpy - INFO - Chain [1] done processing\n"
     ]
    },
    {
     "name": "stdout",
     "output_type": "stream",
     "text": [
      "Model Number: 105 with model ETS in generation 3 of 10\n",
      "Model Number: 106 with model ETS in generation 3 of 10\n",
      "Model Number: 107 with model ARIMA in generation 3 of 10\n",
      "Model Number: 108 with model FBProphet in generation 3 of 10\n"
     ]
    },
    {
     "name": "stderr",
     "output_type": "stream",
     "text": [
      "13:56:10 - cmdstanpy - INFO - Chain [1] start processing\n",
      "13:57:17 - cmdstanpy - INFO - Chain [1] done processing\n"
     ]
    },
    {
     "name": "stdout",
     "output_type": "stream",
     "text": [
      "Model Number: 109 with model ETS in generation 3 of 10\n",
      "Model Number: 110 with model Theta in generation 3 of 10\n",
      "Model Number: 111 with model ARIMA in generation 3 of 10\n",
      "Model Number: 112 with model ARIMA in generation 3 of 10\n",
      "Model Number: 113 with model ARIMA in generation 3 of 10\n",
      "Model Number: 114 with model ARIMA in generation 3 of 10\n",
      "New Generation: 4 of 10\n",
      "Model Number: 115 with model ARIMA in generation 4 of 10\n",
      "Model Number: 116 with model ETS in generation 4 of 10\n",
      "Model Number: 117 with model Theta in generation 4 of 10\n",
      "Model Number: 118 with model ETS in generation 4 of 10"
     ]
    },
    {
     "name": "stderr",
     "output_type": "stream",
     "text": [
      "C:\\Users\\pgrady\\AppData\\Local\\Packages\\PythonSoftwareFoundation.Python.3.10_qbz5n2kfra8p0\\LocalCache\\local-packages\\Python310\\site-packages\\autots\\tools\\probabilistic.py:67: RuntimeWarning: invalid value encountered in divide\n",
      "  (prior_mu / prior_sigma**2) + ((n * data_mu) / prior_sigma**2)\n",
      "C:\\Users\\pgrady\\AppData\\Local\\Packages\\PythonSoftwareFoundation.Python.3.10_qbz5n2kfra8p0\\LocalCache\\local-packages\\Python310\\site-packages\\autots\\tools\\probabilistic.py:68: RuntimeWarning: divide by zero encountered in divide\n",
      "  ) / ((1 / prior_sigma**2) + (n / prior_sigma**2))\n"
     ]
    },
    {
     "name": "stdout",
     "output_type": "stream",
     "text": [
      "\n",
      "Model Number: 119 with model FBProphet in generation 4 of 10\n"
     ]
    },
    {
     "name": "stderr",
     "output_type": "stream",
     "text": [
      "13:57:22 - cmdstanpy - INFO - Chain [1] start processing\n",
      "13:57:23 - cmdstanpy - INFO - Chain [1] done processing\n"
     ]
    },
    {
     "name": "stdout",
     "output_type": "stream",
     "text": [
      "Model Number: 120 with model Theta in generation 4 of 10\n",
      "Model Number: 121 with model Theta in generation 4 of 10\n",
      "Model Number: 122 with model SeasonalNaive in generation 4 of 10\n",
      "Model Number: 123 with model FBProphet in generation 4 of 10\n"
     ]
    },
    {
     "name": "stderr",
     "output_type": "stream",
     "text": [
      "13:57:23 - cmdstanpy - INFO - Chain [1] start processing\n",
      "13:57:24 - cmdstanpy - INFO - Chain [1] done processing\n"
     ]
    },
    {
     "name": "stdout",
     "output_type": "stream",
     "text": [
      "Model Number: 124 with model ARIMA in generation 4 of 10\n",
      "Model Number: 125 with model FBProphet in generation 4 of 10\n"
     ]
    },
    {
     "name": "stderr",
     "output_type": "stream",
     "text": [
      "13:57:25 - cmdstanpy - INFO - Chain [1] start processing\n",
      "13:57:29 - cmdstanpy - INFO - Chain [1] done processing\n"
     ]
    },
    {
     "name": "stdout",
     "output_type": "stream",
     "text": [
      "Model Number: 126 with model ARIMA in generation 4 of 10\n",
      "Model Number: 127 with model ARIMA in generation 4 of 10\n",
      "Model Number: 128 with model ARIMA in generation 4 of 10\n",
      "Model Number: 129 with model ARIMA in generation 4 of 10\n",
      "Model Number: 130 with model ETS in generation 4 of 10\n",
      "Model Number: 131 with model FBProphet in generation 4 of 10\n",
      "Model Number: 132 with model ARIMA in generation 4 of 10\n",
      "Model Number: 133 with model Theta in generation 4 of 10\n",
      "Model Number: 134 with model ARIMA in generation 4 of 10\n"
     ]
    },
    {
     "name": "stderr",
     "output_type": "stream",
     "text": [
      "C:\\Users\\pgrady\\AppData\\Local\\Packages\\PythonSoftwareFoundation.Python.3.10_qbz5n2kfra8p0\\LocalCache\\local-packages\\Python310\\site-packages\\sklearn\\decomposition\\_fastica.py:660: FutureWarning: Starting in v1.3, whiten=True should be specified as whiten='arbitrary-variance' (its current behaviour). This behavior is deprecated in 1.1 and will raise ValueError in 1.3.\n",
      "  return self._fit(X, compute_sources=True)\n"
     ]
    },
    {
     "name": "stdout",
     "output_type": "stream",
     "text": [
      "Model Number: 135 with model ETS in generation 4 of 10\n",
      "Model Number: 136 with model Theta in generation 4 of 10\n",
      "Model Number: 137 with model Theta in generation 4 of 10\n",
      "Model Number: 138 with model SeasonalNaive in generation 4 of 10\n",
      "Model Number: 139 with model ETS in generation 4 of 10\n",
      "New Generation: 5 of 10\n",
      "Model Number: 140 with model Theta in generation 5 of 10\n",
      "Model Number: 141 with model Theta in generation 5 of 10\n",
      "Model Number: 142 with model Theta in generation 5 of 10\n",
      "Model Number: 143 with model ARIMA in generation 5 of 10\n",
      "Model Number: 144 with model ARIMA in generation 5 of 10\n",
      "Model Number: 145 with model FBProphet in generation 5 of 10\n"
     ]
    },
    {
     "name": "stderr",
     "output_type": "stream",
     "text": [
      "13:57:35 - cmdstanpy - INFO - Chain [1] start processing\n",
      "13:57:36 - cmdstanpy - INFO - Chain [1] done processing\n"
     ]
    },
    {
     "name": "stdout",
     "output_type": "stream",
     "text": [
      "Model Number: 146 with model Theta in generation 5 of 10\n",
      "Template Eval Error: ValueError('x must have 2 complete cycles requires 24 observations. x only has 21 observation(s)') in model 146: Theta\n",
      "Model Number: 147 with model ARIMA in generation 5 of 10\n",
      "Model Number: 148 with model ETS in generation 5 of 10\n",
      "Model Number: 149 with model Theta in generation 5 of 10\n",
      "Template Eval Error: ValueError('x must have 2 complete cycles requires 24 observations. x only has 21 observation(s)') in model 149: Theta\n",
      "Model Number: 150 with model ETS in generation 5 of 10\n",
      "ETS error ValueError('endog must be strictly positive when usingmultiplicative trend or seasonal components.')\n",
      "ETS failed on SG_Y with ValueError('endog must be strictly positive when usingmultiplicative trend or seasonal components.')\n",
      "Model Number: 151 with model SeasonalNaive in generation 5 of 10\n",
      "Model Number: 152 with model Theta in generation 5 of 10\n",
      "Model Number: 153 with model Theta in generation 5 of 10\n",
      "Model Number: 154 with model Theta in generation 5 of 10\n",
      "Model Number: 155 with model ETS in generation 5 of 10\n",
      "Model Number: 156 with model ARIMA in generation 5 of 10\n"
     ]
    },
    {
     "name": "stderr",
     "output_type": "stream",
     "text": [
      "C:\\Users\\pgrady\\AppData\\Local\\Packages\\PythonSoftwareFoundation.Python.3.10_qbz5n2kfra8p0\\LocalCache\\local-packages\\Python310\\site-packages\\sklearn\\svm\\_base.py:1225: ConvergenceWarning: Liblinear failed to converge, increase the number of iterations.\n",
      "  warnings.warn(\n"
     ]
    },
    {
     "name": "stdout",
     "output_type": "stream",
     "text": [
      "Model Number: 157 with model FBProphet in generation 5 of 10\n"
     ]
    },
    {
     "name": "stderr",
     "output_type": "stream",
     "text": [
      "13:57:38 - cmdstanpy - INFO - Chain [1] start processing\n",
      "13:57:39 - cmdstanpy - INFO - Chain [1] done processing\n"
     ]
    },
    {
     "name": "stdout",
     "output_type": "stream",
     "text": [
      "Model Number: 158 with model ARIMA in generation 5 of 10\n",
      "Model Number: 159 with model ARIMA in generation 5 of 10\n",
      "New Generation: 6 of 10\n",
      "Model Number: 160 with model Theta in generation 6 of 10\n",
      "Model Number: 161 with model Theta in generation 6 of 10\n",
      "Model Number: 162 with model Theta in generation 6 of 10\n",
      "Model Number: 163 with model ETS in generation 6 of 10\n",
      "Model Number: 164 with model ETS in generation 6 of 10\n",
      "Model Number: 165 with model Theta in generation 6 of 10\n"
     ]
    },
    {
     "name": "stderr",
     "output_type": "stream",
     "text": [
      "C:\\Users\\pgrady\\AppData\\Local\\Packages\\PythonSoftwareFoundation.Python.3.10_qbz5n2kfra8p0\\LocalCache\\local-packages\\Python310\\site-packages\\sklearn\\decomposition\\_fastica.py:660: FutureWarning: Starting in v1.3, whiten=True should be specified as whiten='arbitrary-variance' (its current behaviour). This behavior is deprecated in 1.1 and will raise ValueError in 1.3.\n",
      "  return self._fit(X, compute_sources=True)\n"
     ]
    },
    {
     "name": "stdout",
     "output_type": "stream",
     "text": [
      "Model Number: 166 with model ETS in generation 6 of 10\n",
      "Model Number: 167 with model ETS in generation 6 of 10\n",
      "Model Number: 168 with model Theta in generation 6 of 10\n",
      "Model Number: 169 with model Theta in generation 6 of 10\n",
      "Model Number: 170 with model ETS in generation 6 of 10\n",
      "Model Number: 171 with model ARIMA in generation 6 of 10\n",
      "Model Number: 172 with model Theta in generation 6 of 10\n",
      "Model Number: 173 with model ETS in generation 6 of 10\n",
      "Model Number: 174 with model ARIMA in generation 6 of 10\n",
      "Template Eval Error: Exception('Transformer BTCD failed on fit') in model 174: ARIMA\n",
      "Model Number: 175 with model ARIMA in generation 6 of 10\n",
      "Template Eval Error: ValueError(\"regression_type='User' but future_regressor not supplied\") in model 175: ARIMA\n",
      "Model Number: 176 with model ARIMA in generation 6 of 10\n",
      "Model Number: 177 with model ARIMA in generation 6 of 10\n",
      "Model Number: 178 with model ARIMA in generation 6 of 10\n",
      "Template Eval Error: ValueError(\"regression_type='User' but future_regressor not supplied\") in model 178: ARIMA\n",
      "Model Number: 179 with model ARIMA in generation 6 of 10\n",
      "New Generation: 7 of 10\n",
      "Model Number: 180 with model Theta in generation 7 of 10\n",
      "Template Eval Error: Exception('Transformer LocalLinearTrend failed on fit') in model 180: Theta\n",
      "Model Number: 181 with model ETS in generation 7 of 10\n",
      "Model Number: 182 with model Theta in generation 7 of 10\n",
      "Model Number: 183 with model Theta in generation 7 of 10\n",
      "Model Number: 184 with model ARIMA in generation 7 of 10\n",
      "Model Number: 185 with model Theta in generation 7 of 10\n",
      "Model Number: 186 with model ARIMA in generation 7 of 10\n",
      "Model Number: 187 with model FBProphet in generation 7 of 10\n"
     ]
    },
    {
     "name": "stderr",
     "output_type": "stream",
     "text": [
      "13:57:47 - cmdstanpy - INFO - Chain [1] start processing\n",
      "13:57:47 - cmdstanpy - INFO - Chain [1] done processing\n"
     ]
    },
    {
     "name": "stdout",
     "output_type": "stream",
     "text": [
      "Model Number: 188 with model Theta in generation 7 of 10\n",
      "Model Number: 189 with model Theta in generation 7 of 10\n",
      "Model Number: 190 with model FBProphet in generation 7 of 10\n"
     ]
    },
    {
     "name": "stderr",
     "output_type": "stream",
     "text": [
      "13:57:48 - cmdstanpy - INFO - Chain [1] start processing\n",
      "13:58:44 - cmdstanpy - INFO - Chain [1] done processing\n"
     ]
    },
    {
     "name": "stdout",
     "output_type": "stream",
     "text": [
      "Model Number: 191 with model FBProphet in generation 7 of 10\n"
     ]
    },
    {
     "name": "stderr",
     "output_type": "stream",
     "text": [
      "13:58:45 - cmdstanpy - INFO - Chain [1] start processing\n",
      "13:58:45 - cmdstanpy - INFO - Chain [1] done processing\n"
     ]
    },
    {
     "name": "stdout",
     "output_type": "stream",
     "text": [
      "Model Number: 192 with model Theta in generation 7 of 10\n",
      "Model Number: 193 with model ARIMA in generation 7 of 10\n",
      "Model Number: 194 with model Theta in generation 7 of 10\n",
      "Model Number: 195 with model ETS in generation 7 of 10\n",
      "ETS error ValueError('endog must be strictly positive when usingmultiplicative trend or seasonal components.')\n",
      "ETS failed on SG_Y with ValueError('endog must be strictly positive when usingmultiplicative trend or seasonal components.')\n",
      "Model Number: 196 with model ETS in generation 7 of 10\n",
      "ETS error ValueError('endog must be strictly positive when usingmultiplicative trend or seasonal components.')\n",
      "ETS failed on SG_Y with ValueError('endog must be strictly positive when usingmultiplicative trend or seasonal components.')\n",
      "Model Number: 197 with model ARIMA in generation 7 of 10\n",
      "Model Number: 198 with model Theta in generation 7 of 10\n",
      "Template Eval Error: Exception('Transformer LocalLinearTrend failed on fit') in model 198: Theta\n",
      "Model Number: 199 with model Theta in generation 7 of 10\n",
      "New Generation: 8 of 10\n",
      "Model Number: 200 with model ARIMA in generation 8 of 10\n",
      "Model Number: 201 with model Theta in generation 8 of 10\n",
      "Model Number: 202 with model Theta in generation 8 of 10\n",
      "Model Number: 203 with model FBProphet in generation 8 of 10\n"
     ]
    },
    {
     "name": "stderr",
     "output_type": "stream",
     "text": [
      "13:58:48 - cmdstanpy - INFO - Chain [1] start processing\n",
      "13:59:57 - cmdstanpy - INFO - Chain [1] done processing\n"
     ]
    },
    {
     "name": "stdout",
     "output_type": "stream",
     "text": [
      "Model Number: 204 with model ETS in generation 8 of 10\n",
      "Model Number: 205 with model Theta in generation 8 of 10\n",
      "Model Number: 206 with model ARIMA in generation 8 of 10\n",
      "Model Number: 207 with model ARIMA in generation 8 of 10\n",
      "Model Number: 208 with model SeasonalNaive in generation 8 of 10\n",
      "Model Number: 209 with model ARIMA in generation 8 of 10\n",
      "Model Number: 210 with model Theta in generation 8 of 10\n",
      "Model Number: 211 with model Theta in generation 8 of 10\n",
      "Model Number: 212 with model ETS in generation 8 of 10\n",
      "Model Number: 213 with model ARIMA in generation 8 of 10\n",
      "Model Number: 214 with model ARIMA in generation 8 of 10\n",
      "Model Number: 215 with model ARIMA in generation 8 of 10\n",
      "Model Number: 216 with model Theta in generation 8 of 10\n",
      "Model Number: 217 with model Theta in generation 8 of 10\n",
      "Model Number: 218 with model ETS in generation 8 of 10\n",
      "Model Number: 219 with model ETS in generation 8 of 10\n",
      "New Generation: 9 of 10\n",
      "Model Number: 220 with model ARIMA in generation 9 of 10\n",
      "Template Eval Error: ValueError(\"regression_type='User' but future_regressor not supplied\") in model 220: ARIMA\n",
      "Model Number: 221 with model ARIMA in generation 9 of 10\n",
      "Model Number: 222 with model ARIMA in generation 9 of 10\n",
      "Model Number: 223 with model ARIMA in generation 9 of 10\n",
      "Template Eval Error: Exception('Transformer BTCD failed on fit') in model 223: ARIMA\n",
      "Model Number: 224 with model Theta in generation 9 of 10\n",
      "Model Number: 225 with model Theta in generation 9 of 10\n",
      "Model Number: 226 with model Theta in generation 9 of 10\n",
      "Model Number: 227 with model Theta in generation 9 of 10\n",
      "Model Number: 228 with model Theta in generation 9 of 10\n",
      "Model Number: 229 with model ARIMA in generation 9 of 10\n",
      "Model Number: 230 with model Theta in generation 9 of 10\n",
      "Model Number: 231 with model FBProphet in generation 9 of 10\n"
     ]
    },
    {
     "name": "stderr",
     "output_type": "stream",
     "text": [
      "14:00:05 - cmdstanpy - INFO - Chain [1] start processing\n",
      "14:00:42 - cmdstanpy - INFO - Chain [1] done processing\n"
     ]
    },
    {
     "name": "stdout",
     "output_type": "stream",
     "text": [
      "Model Number: 232 with model ETS in generation 9 of 10\n",
      "Model Number: 233 with model Theta in generation 9 of 10\n",
      "Model Number: 234 with model ETS in generation 9 of 10\n",
      "Model Number: 235 with model Theta in generation 9 of 10\n",
      "Model Number: 236 with model FBProphet in generation 9 of 10\n",
      "Template Eval Error: Exception('Transformer StandardScaler failed on fit') in model 236: FBProphet\n",
      "Model Number: 237 with model ETS in generation 9 of 10\n",
      "Model Number: 238 with model Theta in generation 9 of 10\n",
      "Model Number: 239 with model ARIMA in generation 9 of 10\n",
      "New Generation: 10 of 10\n",
      "Model Number: 240 with model Theta in generation 10 of 10\n",
      "Model Number: 241 with model ARIMA in generation 10 of 10\n",
      "Model Number: 242 with model Theta in generation 10 of 10\n",
      "Model Number: 243 with model Theta in generation 10 of 10\n",
      "Model Number: 244 with model ARIMA in generation 10 of 10\n",
      "Template Eval Error: ValueError(\"regression_type='User' but future_regressor not supplied\") in model 244: ARIMA\n",
      "Model Number: 245 with model Theta in generation 10 of 10\n"
     ]
    },
    {
     "name": "stderr",
     "output_type": "stream",
     "text": [
      "C:\\Users\\pgrady\\AppData\\Local\\Packages\\PythonSoftwareFoundation.Python.3.10_qbz5n2kfra8p0\\LocalCache\\local-packages\\Python310\\site-packages\\sklearn\\decomposition\\_fastica.py:660: FutureWarning: Starting in v1.3, whiten=True should be specified as whiten='arbitrary-variance' (its current behaviour). This behavior is deprecated in 1.1 and will raise ValueError in 1.3.\n",
      "  return self._fit(X, compute_sources=True)\n"
     ]
    },
    {
     "name": "stdout",
     "output_type": "stream",
     "text": [
      "Model Number: 246 with model FBProphet in generation 10 of 10\n",
      "Template Eval Error: ValueError(\"regression_type='User' but no future_regressor passed\") in model 246: FBProphet\n",
      "Model Number: 247 with model Theta in generation 10 of 10\n",
      "Model Number: 248 with model ETS in generation 10 of 10\n",
      "Model Number: 249 with model ARIMA in generation 10 of 10\n",
      "Model Number: 250 with model Theta in generation 10 of 10\n",
      "Model Number: 251 with model ETS in generation 10 of 10\n",
      "Model Number: 252 with model Theta in generation 10 of 10\n"
     ]
    },
    {
     "name": "stderr",
     "output_type": "stream",
     "text": [
      "C:\\Users\\pgrady\\AppData\\Local\\Packages\\PythonSoftwareFoundation.Python.3.10_qbz5n2kfra8p0\\LocalCache\\local-packages\\Python310\\site-packages\\autots\\tools\\probabilistic.py:67: RuntimeWarning: invalid value encountered in divide\n",
      "  (prior_mu / prior_sigma**2) + ((n * data_mu) / prior_sigma**2)\n",
      "C:\\Users\\pgrady\\AppData\\Local\\Packages\\PythonSoftwareFoundation.Python.3.10_qbz5n2kfra8p0\\LocalCache\\local-packages\\Python310\\site-packages\\autots\\tools\\probabilistic.py:68: RuntimeWarning: divide by zero encountered in divide\n",
      "  ) / ((1 / prior_sigma**2) + (n / prior_sigma**2))\n"
     ]
    },
    {
     "name": "stdout",
     "output_type": "stream",
     "text": [
      "Model Number: 253 with model ARIMA in generation 10 of 10\n",
      "Model Number: 254 with model ARIMA in generation 10 of 10\n",
      "Model Number: 255 with model Ensemble in generation 11 of Ensembles\n"
     ]
    },
    {
     "name": "stderr",
     "output_type": "stream",
     "text": [
      "C:\\Users\\pgrady\\AppData\\Local\\Packages\\PythonSoftwareFoundation.Python.3.10_qbz5n2kfra8p0\\LocalCache\\local-packages\\Python310\\site-packages\\autots\\evaluator\\auto_model.py:939: FutureWarning: iteritems is deprecated and will be removed in a future version. Use .items instead.\n",
      "  for index, value in models_to_iterate.iteritems():\n"
     ]
    },
    {
     "name": "stdout",
     "output_type": "stream",
     "text": [
      "Model Number: 256 with model Ensemble in generation 11 of Ensembles\n"
     ]
    },
    {
     "name": "stderr",
     "output_type": "stream",
     "text": [
      "C:\\Users\\pgrady\\AppData\\Local\\Packages\\PythonSoftwareFoundation.Python.3.10_qbz5n2kfra8p0\\LocalCache\\local-packages\\Python310\\site-packages\\autots\\evaluator\\auto_model.py:939: FutureWarning: iteritems is deprecated and will be removed in a future version. Use .items instead.\n",
      "  for index, value in models_to_iterate.iteritems():\n"
     ]
    },
    {
     "name": "stdout",
     "output_type": "stream",
     "text": [
      "Model Number: 257 with model Ensemble in generation 11 of Ensembles\n"
     ]
    },
    {
     "name": "stderr",
     "output_type": "stream",
     "text": [
      "C:\\Users\\pgrady\\AppData\\Local\\Packages\\PythonSoftwareFoundation.Python.3.10_qbz5n2kfra8p0\\LocalCache\\local-packages\\Python310\\site-packages\\autots\\evaluator\\auto_model.py:939: FutureWarning: iteritems is deprecated and will be removed in a future version. Use .items instead.\n",
      "  for index, value in models_to_iterate.iteritems():\n"
     ]
    },
    {
     "name": "stdout",
     "output_type": "stream",
     "text": [
      "Model Number: 258 with model Ensemble in generation 11 of Ensembles\n"
     ]
    },
    {
     "name": "stderr",
     "output_type": "stream",
     "text": [
      "C:\\Users\\pgrady\\AppData\\Local\\Packages\\PythonSoftwareFoundation.Python.3.10_qbz5n2kfra8p0\\LocalCache\\local-packages\\Python310\\site-packages\\autots\\evaluator\\auto_model.py:939: FutureWarning: iteritems is deprecated and will be removed in a future version. Use .items instead.\n",
      "  for index, value in models_to_iterate.iteritems():\n"
     ]
    },
    {
     "name": "stdout",
     "output_type": "stream",
     "text": [
      "Model Number: 259 with model Ensemble in generation 11 of Ensembles\n"
     ]
    },
    {
     "name": "stderr",
     "output_type": "stream",
     "text": [
      "C:\\Users\\pgrady\\AppData\\Local\\Packages\\PythonSoftwareFoundation.Python.3.10_qbz5n2kfra8p0\\LocalCache\\local-packages\\Python310\\site-packages\\autots\\evaluator\\auto_model.py:939: FutureWarning: iteritems is deprecated and will be removed in a future version. Use .items instead.\n",
      "  for index, value in models_to_iterate.iteritems():\n"
     ]
    },
    {
     "name": "stdout",
     "output_type": "stream",
     "text": [
      "Model Number: 260 with model Ensemble in generation 11 of Ensembles\n"
     ]
    },
    {
     "name": "stderr",
     "output_type": "stream",
     "text": [
      "C:\\Users\\pgrady\\AppData\\Local\\Packages\\PythonSoftwareFoundation.Python.3.10_qbz5n2kfra8p0\\LocalCache\\local-packages\\Python310\\site-packages\\autots\\evaluator\\auto_model.py:939: FutureWarning: iteritems is deprecated and will be removed in a future version. Use .items instead.\n",
      "  for index, value in models_to_iterate.iteritems():\n",
      "14:00:53 - cmdstanpy - INFO - Chain [1] start processing\n",
      "14:00:53 - cmdstanpy - INFO - Chain [1] done processing\n"
     ]
    },
    {
     "name": "stdout",
     "output_type": "stream",
     "text": [
      "Model Number: 261 with model Ensemble in generation 11 of Ensembles\n"
     ]
    },
    {
     "name": "stderr",
     "output_type": "stream",
     "text": [
      "C:\\Users\\pgrady\\AppData\\Local\\Packages\\PythonSoftwareFoundation.Python.3.10_qbz5n2kfra8p0\\LocalCache\\local-packages\\Python310\\site-packages\\autots\\evaluator\\auto_model.py:939: FutureWarning: iteritems is deprecated and will be removed in a future version. Use .items instead.\n",
      "  for index, value in models_to_iterate.iteritems():\n"
     ]
    },
    {
     "name": "stdout",
     "output_type": "stream",
     "text": [
      "Model Number: 262 with model Ensemble in generation 11 of Ensembles\n"
     ]
    },
    {
     "name": "stderr",
     "output_type": "stream",
     "text": [
      "C:\\Users\\pgrady\\AppData\\Local\\Packages\\PythonSoftwareFoundation.Python.3.10_qbz5n2kfra8p0\\LocalCache\\local-packages\\Python310\\site-packages\\autots\\models\\ensemble.py:231: FutureWarning: The frame.append method is deprecated and will be removed from pandas in a future version. Use pandas.concat instead.\n",
      "  .append(forecasts[second_model_index].tail(second_bit))\n",
      "C:\\Users\\pgrady\\AppData\\Local\\Packages\\PythonSoftwareFoundation.Python.3.10_qbz5n2kfra8p0\\LocalCache\\local-packages\\Python310\\site-packages\\autots\\models\\ensemble.py:236: FutureWarning: The frame.append method is deprecated and will be removed from pandas in a future version. Use pandas.concat instead.\n",
      "  .append(lower_forecasts[second_model_index].tail(second_bit))\n",
      "C:\\Users\\pgrady\\AppData\\Local\\Packages\\PythonSoftwareFoundation.Python.3.10_qbz5n2kfra8p0\\LocalCache\\local-packages\\Python310\\site-packages\\autots\\models\\ensemble.py:241: FutureWarning: The frame.append method is deprecated and will be removed from pandas in a future version. Use pandas.concat instead.\n",
      "  .append(upper_forecasts[second_model_index].tail(second_bit))\n",
      "C:\\Users\\pgrady\\AppData\\Local\\Packages\\PythonSoftwareFoundation.Python.3.10_qbz5n2kfra8p0\\LocalCache\\local-packages\\Python310\\site-packages\\autots\\evaluator\\auto_model.py:939: FutureWarning: iteritems is deprecated and will be removed in a future version. Use .items instead.\n",
      "  for index, value in models_to_iterate.iteritems():\n",
      "C:\\Users\\pgrady\\AppData\\Local\\Packages\\PythonSoftwareFoundation.Python.3.10_qbz5n2kfra8p0\\LocalCache\\local-packages\\Python310\\site-packages\\autots\\models\\ensemble.py:231: FutureWarning: The frame.append method is deprecated and will be removed from pandas in a future version. Use pandas.concat instead.\n",
      "  .append(forecasts[second_model_index].tail(second_bit))\n",
      "C:\\Users\\pgrady\\AppData\\Local\\Packages\\PythonSoftwareFoundation.Python.3.10_qbz5n2kfra8p0\\LocalCache\\local-packages\\Python310\\site-packages\\autots\\models\\ensemble.py:236: FutureWarning: The frame.append method is deprecated and will be removed from pandas in a future version. Use pandas.concat instead.\n",
      "  .append(lower_forecasts[second_model_index].tail(second_bit))\n",
      "C:\\Users\\pgrady\\AppData\\Local\\Packages\\PythonSoftwareFoundation.Python.3.10_qbz5n2kfra8p0\\LocalCache\\local-packages\\Python310\\site-packages\\autots\\models\\ensemble.py:241: FutureWarning: The frame.append method is deprecated and will be removed from pandas in a future version. Use pandas.concat instead.\n",
      "  .append(upper_forecasts[second_model_index].tail(second_bit))\n",
      "C:\\Users\\pgrady\\AppData\\Local\\Packages\\PythonSoftwareFoundation.Python.3.10_qbz5n2kfra8p0\\LocalCache\\local-packages\\Python310\\site-packages\\autots\\evaluator\\auto_model.py:939: FutureWarning: iteritems is deprecated and will be removed in a future version. Use .items instead.\n",
      "  for index, value in models_to_iterate.iteritems():\n"
     ]
    },
    {
     "name": "stdout",
     "output_type": "stream",
     "text": [
      "Model Number: 263 with model Ensemble in generation 11 of Ensembles\n",
      "Model Number: 264 with model Ensemble in generation 11 of Ensembles\n"
     ]
    },
    {
     "name": "stderr",
     "output_type": "stream",
     "text": [
      "C:\\Users\\pgrady\\AppData\\Local\\Packages\\PythonSoftwareFoundation.Python.3.10_qbz5n2kfra8p0\\LocalCache\\local-packages\\Python310\\site-packages\\autots\\evaluator\\auto_model.py:939: FutureWarning: iteritems is deprecated and will be removed in a future version. Use .items instead.\n",
      "  for index, value in models_to_iterate.iteritems():\n"
     ]
    },
    {
     "name": "stdout",
     "output_type": "stream",
     "text": [
      "Validation Round: 1\n",
      "Model Number: 1 of 40 with model Ensemble for Validation 1\n"
     ]
    },
    {
     "name": "stderr",
     "output_type": "stream",
     "text": [
      "C:\\Users\\pgrady\\AppData\\Local\\Packages\\PythonSoftwareFoundation.Python.3.10_qbz5n2kfra8p0\\LocalCache\\local-packages\\Python310\\site-packages\\autots\\evaluator\\auto_model.py:939: FutureWarning: iteritems is deprecated and will be removed in a future version. Use .items instead.\n",
      "  for index, value in models_to_iterate.iteritems():\n"
     ]
    },
    {
     "name": "stdout",
     "output_type": "stream",
     "text": [
      "📈 1 - Ensemble with avg smape 1.86: \n",
      "Model Number: 2 of 40 with model Ensemble for Validation 1\n"
     ]
    },
    {
     "name": "stderr",
     "output_type": "stream",
     "text": [
      "C:\\Users\\pgrady\\AppData\\Local\\Packages\\PythonSoftwareFoundation.Python.3.10_qbz5n2kfra8p0\\LocalCache\\local-packages\\Python310\\site-packages\\autots\\models\\ensemble.py:231: FutureWarning: The frame.append method is deprecated and will be removed from pandas in a future version. Use pandas.concat instead.\n",
      "  .append(forecasts[second_model_index].tail(second_bit))\n",
      "C:\\Users\\pgrady\\AppData\\Local\\Packages\\PythonSoftwareFoundation.Python.3.10_qbz5n2kfra8p0\\LocalCache\\local-packages\\Python310\\site-packages\\autots\\models\\ensemble.py:236: FutureWarning: The frame.append method is deprecated and will be removed from pandas in a future version. Use pandas.concat instead.\n",
      "  .append(lower_forecasts[second_model_index].tail(second_bit))\n",
      "C:\\Users\\pgrady\\AppData\\Local\\Packages\\PythonSoftwareFoundation.Python.3.10_qbz5n2kfra8p0\\LocalCache\\local-packages\\Python310\\site-packages\\autots\\models\\ensemble.py:241: FutureWarning: The frame.append method is deprecated and will be removed from pandas in a future version. Use pandas.concat instead.\n",
      "  .append(upper_forecasts[second_model_index].tail(second_bit))\n",
      "C:\\Users\\pgrady\\AppData\\Local\\Packages\\PythonSoftwareFoundation.Python.3.10_qbz5n2kfra8p0\\LocalCache\\local-packages\\Python310\\site-packages\\autots\\models\\base.py:616: RuntimeWarning: invalid value encountered in divide\n",
      "  smape_cons = (np.nansum(wsmape_df, axis=1) * 200) / np.count_nonzero(\n",
      "C:\\Users\\pgrady\\AppData\\Local\\Packages\\PythonSoftwareFoundation.Python.3.10_qbz5n2kfra8p0\\LocalCache\\local-packages\\Python310\\site-packages\\autots\\evaluator\\auto_model.py:939: FutureWarning: iteritems is deprecated and will be removed in a future version. Use .items instead.\n",
      "  for index, value in models_to_iterate.iteritems():\n"
     ]
    },
    {
     "name": "stdout",
     "output_type": "stream",
     "text": [
      "📈 2 - Ensemble with avg smape 1.58: \n",
      "Model Number: 3 of 40 with model Ensemble for Validation 1\n"
     ]
    },
    {
     "name": "stderr",
     "output_type": "stream",
     "text": [
      "C:\\Users\\pgrady\\AppData\\Local\\Packages\\PythonSoftwareFoundation.Python.3.10_qbz5n2kfra8p0\\LocalCache\\local-packages\\Python310\\site-packages\\autots\\models\\base.py:616: RuntimeWarning: invalid value encountered in divide\n",
      "  smape_cons = (np.nansum(wsmape_df, axis=1) * 200) / np.count_nonzero(\n",
      "C:\\Users\\pgrady\\AppData\\Local\\Packages\\PythonSoftwareFoundation.Python.3.10_qbz5n2kfra8p0\\LocalCache\\local-packages\\Python310\\site-packages\\autots\\evaluator\\auto_model.py:939: FutureWarning: iteritems is deprecated and will be removed in a future version. Use .items instead.\n",
      "  for index, value in models_to_iterate.iteritems():\n",
      "C:\\Users\\pgrady\\AppData\\Local\\Packages\\PythonSoftwareFoundation.Python.3.10_qbz5n2kfra8p0\\LocalCache\\local-packages\\Python310\\site-packages\\autots\\models\\base.py:616: RuntimeWarning: invalid value encountered in divide\n",
      "  smape_cons = (np.nansum(wsmape_df, axis=1) * 200) / np.count_nonzero(\n",
      "C:\\Users\\pgrady\\AppData\\Local\\Packages\\PythonSoftwareFoundation.Python.3.10_qbz5n2kfra8p0\\LocalCache\\local-packages\\Python310\\site-packages\\autots\\evaluator\\auto_model.py:939: FutureWarning: iteritems is deprecated and will be removed in a future version. Use .items instead.\n",
      "  for index, value in models_to_iterate.iteritems():\n"
     ]
    },
    {
     "name": "stdout",
     "output_type": "stream",
     "text": [
      "3 - Ensemble with avg smape 2.57: \n",
      "Model Number: 4 of 40 with model Ensemble for Validation 1\n"
     ]
    },
    {
     "name": "stderr",
     "output_type": "stream",
     "text": [
      "14:00:59 - cmdstanpy - INFO - Chain [1] start processing\n",
      "14:01:00 - cmdstanpy - INFO - Chain [1] done processing\n",
      "C:\\Users\\pgrady\\AppData\\Local\\Packages\\PythonSoftwareFoundation.Python.3.10_qbz5n2kfra8p0\\LocalCache\\local-packages\\Python310\\site-packages\\autots\\models\\base.py:616: RuntimeWarning: invalid value encountered in divide\n",
      "  smape_cons = (np.nansum(wsmape_df, axis=1) * 200) / np.count_nonzero(\n",
      "C:\\Users\\pgrady\\AppData\\Local\\Packages\\PythonSoftwareFoundation.Python.3.10_qbz5n2kfra8p0\\LocalCache\\local-packages\\Python310\\site-packages\\autots\\evaluator\\auto_model.py:939: FutureWarning: iteritems is deprecated and will be removed in a future version. Use .items instead.\n",
      "  for index, value in models_to_iterate.iteritems():\n"
     ]
    },
    {
     "name": "stdout",
     "output_type": "stream",
     "text": [
      "4 - Ensemble with avg smape 1.8: \n",
      "Model Number: 5 of 40 with model Ensemble for Validation 1\n"
     ]
    },
    {
     "name": "stderr",
     "output_type": "stream",
     "text": [
      "C:\\Users\\pgrady\\AppData\\Local\\Packages\\PythonSoftwareFoundation.Python.3.10_qbz5n2kfra8p0\\LocalCache\\local-packages\\Python310\\site-packages\\autots\\models\\base.py:616: RuntimeWarning: invalid value encountered in divide\n",
      "  smape_cons = (np.nansum(wsmape_df, axis=1) * 200) / np.count_nonzero(\n"
     ]
    },
    {
     "name": "stdout",
     "output_type": "stream",
     "text": [
      "5 - Ensemble with avg smape 2.7: \n",
      "Model Number: 6 of 40 with model ARIMA for Validation 1\n"
     ]
    },
    {
     "name": "stderr",
     "output_type": "stream",
     "text": [
      "C:\\Users\\pgrady\\AppData\\Local\\Packages\\PythonSoftwareFoundation.Python.3.10_qbz5n2kfra8p0\\LocalCache\\local-packages\\Python310\\site-packages\\autots\\models\\base.py:616: RuntimeWarning: invalid value encountered in divide\n",
      "  smape_cons = (np.nansum(wsmape_df, axis=1) * 200) / np.count_nonzero(\n",
      "C:\\Users\\pgrady\\AppData\\Local\\Packages\\PythonSoftwareFoundation.Python.3.10_qbz5n2kfra8p0\\LocalCache\\local-packages\\Python310\\site-packages\\autots\\evaluator\\auto_model.py:939: FutureWarning: iteritems is deprecated and will be removed in a future version. Use .items instead.\n",
      "  for index, value in models_to_iterate.iteritems():\n"
     ]
    },
    {
     "name": "stdout",
     "output_type": "stream",
     "text": [
      "6 - ARIMA with avg smape 2.7: \n",
      "Model Number: 7 of 40 with model Ensemble for Validation 1\n"
     ]
    },
    {
     "name": "stderr",
     "output_type": "stream",
     "text": [
      "C:\\Users\\pgrady\\AppData\\Local\\Packages\\PythonSoftwareFoundation.Python.3.10_qbz5n2kfra8p0\\LocalCache\\local-packages\\Python310\\site-packages\\autots\\models\\base.py:616: RuntimeWarning: invalid value encountered in divide\n",
      "  smape_cons = (np.nansum(wsmape_df, axis=1) * 200) / np.count_nonzero(\n"
     ]
    },
    {
     "name": "stdout",
     "output_type": "stream",
     "text": [
      "7 - Ensemble with avg smape 2.78: \n",
      "Model Number: 8 of 40 with model ARIMA for Validation 1\n"
     ]
    },
    {
     "name": "stderr",
     "output_type": "stream",
     "text": [
      "C:\\Users\\pgrady\\AppData\\Local\\Packages\\PythonSoftwareFoundation.Python.3.10_qbz5n2kfra8p0\\LocalCache\\local-packages\\Python310\\site-packages\\autots\\models\\base.py:616: RuntimeWarning: invalid value encountered in divide\n",
      "  smape_cons = (np.nansum(wsmape_df, axis=1) * 200) / np.count_nonzero(\n",
      "C:\\Users\\pgrady\\AppData\\Local\\Packages\\PythonSoftwareFoundation.Python.3.10_qbz5n2kfra8p0\\LocalCache\\local-packages\\Python310\\site-packages\\autots\\evaluator\\auto_model.py:939: FutureWarning: iteritems is deprecated and will be removed in a future version. Use .items instead.\n",
      "  for index, value in models_to_iterate.iteritems():\n"
     ]
    },
    {
     "name": "stdout",
     "output_type": "stream",
     "text": [
      "8 - ARIMA with avg smape 2.78: \n",
      "Model Number: 9 of 40 with model Ensemble for Validation 1\n",
      "9 - Ensemble with avg smape 3.36: \n",
      "Model Number: 10 of 40 with model Theta for Validation 1\n"
     ]
    },
    {
     "name": "stderr",
     "output_type": "stream",
     "text": [
      "C:\\Users\\pgrady\\AppData\\Local\\Packages\\PythonSoftwareFoundation.Python.3.10_qbz5n2kfra8p0\\LocalCache\\local-packages\\Python310\\site-packages\\autots\\models\\base.py:616: RuntimeWarning: invalid value encountered in divide\n",
      "  smape_cons = (np.nansum(wsmape_df, axis=1) * 200) / np.count_nonzero(\n",
      "C:\\Users\\pgrady\\AppData\\Local\\Packages\\PythonSoftwareFoundation.Python.3.10_qbz5n2kfra8p0\\LocalCache\\local-packages\\Python310\\site-packages\\autots\\models\\base.py:616: RuntimeWarning: invalid value encountered in divide\n",
      "  smape_cons = (np.nansum(wsmape_df, axis=1) * 200) / np.count_nonzero(\n"
     ]
    },
    {
     "name": "stdout",
     "output_type": "stream",
     "text": [
      "10 - Theta with avg smape 1.86: \n",
      "Model Number: 11 of 40 with model ARIMA for Validation 1\n"
     ]
    },
    {
     "name": "stderr",
     "output_type": "stream",
     "text": [
      "C:\\Users\\pgrady\\AppData\\Local\\Packages\\PythonSoftwareFoundation.Python.3.10_qbz5n2kfra8p0\\LocalCache\\local-packages\\Python310\\site-packages\\autots\\models\\base.py:616: RuntimeWarning: invalid value encountered in divide\n",
      "  smape_cons = (np.nansum(wsmape_df, axis=1) * 200) / np.count_nonzero(\n",
      "C:\\Users\\pgrady\\AppData\\Local\\Packages\\PythonSoftwareFoundation.Python.3.10_qbz5n2kfra8p0\\LocalCache\\local-packages\\Python310\\site-packages\\autots\\evaluator\\auto_model.py:939: FutureWarning: iteritems is deprecated and will be removed in a future version. Use .items instead.\n",
      "  for index, value in models_to_iterate.iteritems():\n"
     ]
    },
    {
     "name": "stdout",
     "output_type": "stream",
     "text": [
      "11 - ARIMA with avg smape 4.67: \n",
      "Model Number: 12 of 40 with model Ensemble for Validation 1\n",
      "12 - Ensemble with avg smape 3.3: \n",
      "Model Number: 13 of 40 with model Ensemble for Validation 1\n"
     ]
    },
    {
     "name": "stderr",
     "output_type": "stream",
     "text": [
      "C:\\Users\\pgrady\\AppData\\Local\\Packages\\PythonSoftwareFoundation.Python.3.10_qbz5n2kfra8p0\\LocalCache\\local-packages\\Python310\\site-packages\\autots\\models\\base.py:616: RuntimeWarning: invalid value encountered in divide\n",
      "  smape_cons = (np.nansum(wsmape_df, axis=1) * 200) / np.count_nonzero(\n",
      "C:\\Users\\pgrady\\AppData\\Local\\Packages\\PythonSoftwareFoundation.Python.3.10_qbz5n2kfra8p0\\LocalCache\\local-packages\\Python310\\site-packages\\autots\\evaluator\\auto_model.py:939: FutureWarning: iteritems is deprecated and will be removed in a future version. Use .items instead.\n",
      "  for index, value in models_to_iterate.iteritems():\n"
     ]
    },
    {
     "name": "stdout",
     "output_type": "stream",
     "text": [
      "13 - Ensemble with avg smape 3.3: \n",
      "Model Number: 14 of 40 with model Theta for Validation 1\n"
     ]
    },
    {
     "name": "stderr",
     "output_type": "stream",
     "text": [
      "C:\\Users\\pgrady\\AppData\\Local\\Packages\\PythonSoftwareFoundation.Python.3.10_qbz5n2kfra8p0\\LocalCache\\local-packages\\Python310\\site-packages\\autots\\models\\base.py:616: RuntimeWarning: invalid value encountered in divide\n",
      "  smape_cons = (np.nansum(wsmape_df, axis=1) * 200) / np.count_nonzero(\n",
      "C:\\Users\\pgrady\\AppData\\Local\\Packages\\PythonSoftwareFoundation.Python.3.10_qbz5n2kfra8p0\\LocalCache\\local-packages\\Python310\\site-packages\\autots\\models\\base.py:616: RuntimeWarning: invalid value encountered in divide\n",
      "  smape_cons = (np.nansum(wsmape_df, axis=1) * 200) / np.count_nonzero(\n"
     ]
    },
    {
     "name": "stdout",
     "output_type": "stream",
     "text": [
      "14 - Theta with avg smape 1.85: \n",
      "Model Number: 15 of 40 with model Theta for Validation 1\n",
      "15 - Theta with avg smape 1.85: \n",
      "Model Number: 16 of 40 with model Theta for Validation 1\n"
     ]
    },
    {
     "name": "stderr",
     "output_type": "stream",
     "text": [
      "C:\\Users\\pgrady\\AppData\\Local\\Packages\\PythonSoftwareFoundation.Python.3.10_qbz5n2kfra8p0\\LocalCache\\local-packages\\Python310\\site-packages\\autots\\models\\base.py:616: RuntimeWarning: invalid value encountered in divide\n",
      "  smape_cons = (np.nansum(wsmape_df, axis=1) * 200) / np.count_nonzero(\n",
      "C:\\Users\\pgrady\\AppData\\Local\\Packages\\PythonSoftwareFoundation.Python.3.10_qbz5n2kfra8p0\\LocalCache\\local-packages\\Python310\\site-packages\\autots\\models\\base.py:616: RuntimeWarning: invalid value encountered in divide\n",
      "  smape_cons = (np.nansum(wsmape_df, axis=1) * 200) / np.count_nonzero(\n"
     ]
    },
    {
     "name": "stdout",
     "output_type": "stream",
     "text": [
      "16 - Theta with avg smape 1.85: \n",
      "Model Number: 17 of 40 with model Theta for Validation 1\n",
      "17 - Theta with avg smape 1.85: \n",
      "Model Number: 18 of 40 with model Theta for Validation 1\n"
     ]
    },
    {
     "name": "stderr",
     "output_type": "stream",
     "text": [
      "C:\\Users\\pgrady\\AppData\\Local\\Packages\\PythonSoftwareFoundation.Python.3.10_qbz5n2kfra8p0\\LocalCache\\local-packages\\Python310\\site-packages\\autots\\models\\base.py:616: RuntimeWarning: invalid value encountered in divide\n",
      "  smape_cons = (np.nansum(wsmape_df, axis=1) * 200) / np.count_nonzero(\n"
     ]
    },
    {
     "name": "stdout",
     "output_type": "stream",
     "text": [
      "18 - Theta with avg smape 1.78: \n",
      "Model Number: 19 of 40 with model Theta for Validation 1\n"
     ]
    },
    {
     "name": "stderr",
     "output_type": "stream",
     "text": [
      "C:\\Users\\pgrady\\AppData\\Local\\Packages\\PythonSoftwareFoundation.Python.3.10_qbz5n2kfra8p0\\LocalCache\\local-packages\\Python310\\site-packages\\autots\\models\\base.py:616: RuntimeWarning: invalid value encountered in divide\n",
      "  smape_cons = (np.nansum(wsmape_df, axis=1) * 200) / np.count_nonzero(\n",
      "C:\\Users\\pgrady\\AppData\\Local\\Packages\\PythonSoftwareFoundation.Python.3.10_qbz5n2kfra8p0\\LocalCache\\local-packages\\Python310\\site-packages\\autots\\models\\base.py:616: RuntimeWarning: invalid value encountered in divide\n",
      "  smape_cons = (np.nansum(wsmape_df, axis=1) * 200) / np.count_nonzero(\n"
     ]
    },
    {
     "name": "stdout",
     "output_type": "stream",
     "text": [
      "19 - Theta with avg smape 1.9: \n",
      "Model Number: 20 of 40 with model Theta for Validation 1\n",
      "📈 20 - Theta with avg smape 1.49: \n",
      "Model Number: 21 of 40 with model Theta for Validation 1\n"
     ]
    },
    {
     "name": "stderr",
     "output_type": "stream",
     "text": [
      "C:\\Users\\pgrady\\AppData\\Local\\Packages\\PythonSoftwareFoundation.Python.3.10_qbz5n2kfra8p0\\LocalCache\\local-packages\\Python310\\site-packages\\autots\\models\\base.py:616: RuntimeWarning: invalid value encountered in divide\n",
      "  smape_cons = (np.nansum(wsmape_df, axis=1) * 200) / np.count_nonzero(\n"
     ]
    },
    {
     "name": "stdout",
     "output_type": "stream",
     "text": [
      "21 - Theta with avg smape 5.58: \n",
      "Model Number: 22 of 40 with model ARIMA for Validation 1\n"
     ]
    },
    {
     "name": "stderr",
     "output_type": "stream",
     "text": [
      "C:\\Users\\pgrady\\AppData\\Local\\Packages\\PythonSoftwareFoundation.Python.3.10_qbz5n2kfra8p0\\LocalCache\\local-packages\\Python310\\site-packages\\autots\\models\\base.py:616: RuntimeWarning: invalid value encountered in divide\n",
      "  smape_cons = (np.nansum(wsmape_df, axis=1) * 200) / np.count_nonzero(\n",
      "C:\\Users\\pgrady\\AppData\\Local\\Packages\\PythonSoftwareFoundation.Python.3.10_qbz5n2kfra8p0\\LocalCache\\local-packages\\Python310\\site-packages\\autots\\models\\base.py:616: RuntimeWarning: invalid value encountered in divide\n",
      "  smape_cons = (np.nansum(wsmape_df, axis=1) * 200) / np.count_nonzero(\n"
     ]
    },
    {
     "name": "stdout",
     "output_type": "stream",
     "text": [
      "22 - ARIMA with avg smape 6.78: \n",
      "Model Number: 23 of 40 with model ARIMA for Validation 1\n"
     ]
    },
    {
     "name": "stderr",
     "output_type": "stream",
     "text": [
      "C:\\Users\\pgrady\\AppData\\Local\\Packages\\PythonSoftwareFoundation.Python.3.10_qbz5n2kfra8p0\\LocalCache\\local-packages\\Python310\\site-packages\\autots\\models\\base.py:616: RuntimeWarning: invalid value encountered in divide\n",
      "  smape_cons = (np.nansum(wsmape_df, axis=1) * 200) / np.count_nonzero(\n"
     ]
    },
    {
     "name": "stdout",
     "output_type": "stream",
     "text": [
      "23 - ARIMA with avg smape 3.2: \n",
      "Model Number: 24 of 40 with model ARIMA for Validation 1\n"
     ]
    },
    {
     "name": "stderr",
     "output_type": "stream",
     "text": [
      "C:\\Users\\pgrady\\AppData\\Local\\Packages\\PythonSoftwareFoundation.Python.3.10_qbz5n2kfra8p0\\LocalCache\\local-packages\\Python310\\site-packages\\autots\\models\\base.py:616: RuntimeWarning: invalid value encountered in divide\n",
      "  smape_cons = (np.nansum(wsmape_df, axis=1) * 200) / np.count_nonzero(\n"
     ]
    },
    {
     "name": "stdout",
     "output_type": "stream",
     "text": [
      "24 - ARIMA with avg smape 2.7: \n",
      "Model Number: 25 of 40 with model ARIMA for Validation 1\n"
     ]
    },
    {
     "name": "stderr",
     "output_type": "stream",
     "text": [
      "C:\\Users\\pgrady\\AppData\\Local\\Packages\\PythonSoftwareFoundation.Python.3.10_qbz5n2kfra8p0\\LocalCache\\local-packages\\Python310\\site-packages\\autots\\models\\base.py:616: RuntimeWarning: invalid value encountered in divide\n",
      "  smape_cons = (np.nansum(wsmape_df, axis=1) * 200) / np.count_nonzero(\n"
     ]
    },
    {
     "name": "stdout",
     "output_type": "stream",
     "text": [
      "📈 25 - ARIMA with avg smape 1.01: \n",
      "Model Number: 26 of 40 with model ARIMA for Validation 1\n",
      "26 - ARIMA with avg smape 42.01: \n",
      "Model Number: 27 of 40 with model ARIMA for Validation 1\n"
     ]
    },
    {
     "name": "stderr",
     "output_type": "stream",
     "text": [
      "C:\\Users\\pgrady\\AppData\\Local\\Packages\\PythonSoftwareFoundation.Python.3.10_qbz5n2kfra8p0\\LocalCache\\local-packages\\Python310\\site-packages\\autots\\models\\base.py:616: RuntimeWarning: invalid value encountered in divide\n",
      "  smape_cons = (np.nansum(wsmape_df, axis=1) * 200) / np.count_nonzero(\n",
      "C:\\Users\\pgrady\\AppData\\Local\\Packages\\PythonSoftwareFoundation.Python.3.10_qbz5n2kfra8p0\\LocalCache\\local-packages\\Python310\\site-packages\\autots\\models\\base.py:616: RuntimeWarning: invalid value encountered in divide\n",
      "  smape_cons = (np.nansum(wsmape_df, axis=1) * 200) / np.count_nonzero(\n"
     ]
    },
    {
     "name": "stdout",
     "output_type": "stream",
     "text": [
      "27 - ARIMA with avg smape 2.97: \n",
      "Model Number: 28 of 40 with model ETS for Validation 1\n",
      "28 - ETS with avg smape 9.07: \n",
      "Model Number: 29 of 40 with model ETS for Validation 1\n",
      "29 - ETS with avg smape 4.59: \n",
      "Model Number: 30 of 40 with model ETS for Validation 1\n"
     ]
    },
    {
     "name": "stderr",
     "output_type": "stream",
     "text": [
      "C:\\Users\\pgrady\\AppData\\Local\\Packages\\PythonSoftwareFoundation.Python.3.10_qbz5n2kfra8p0\\LocalCache\\local-packages\\Python310\\site-packages\\autots\\models\\base.py:616: RuntimeWarning: invalid value encountered in divide\n",
      "  smape_cons = (np.nansum(wsmape_df, axis=1) * 200) / np.count_nonzero(\n",
      "C:\\Users\\pgrady\\AppData\\Local\\Packages\\PythonSoftwareFoundation.Python.3.10_qbz5n2kfra8p0\\LocalCache\\local-packages\\Python310\\site-packages\\autots\\models\\base.py:616: RuntimeWarning: invalid value encountered in divide\n",
      "  smape_cons = (np.nansum(wsmape_df, axis=1) * 200) / np.count_nonzero(\n",
      "C:\\Users\\pgrady\\AppData\\Local\\Packages\\PythonSoftwareFoundation.Python.3.10_qbz5n2kfra8p0\\LocalCache\\local-packages\\Python310\\site-packages\\autots\\models\\base.py:616: RuntimeWarning: invalid value encountered in divide\n",
      "  smape_cons = (np.nansum(wsmape_df, axis=1) * 200) / np.count_nonzero(\n"
     ]
    },
    {
     "name": "stdout",
     "output_type": "stream",
     "text": [
      "30 - ETS with avg smape 4.2: \n",
      "Model Number: 31 of 40 with model ETS for Validation 1\n",
      "31 - ETS with avg smape 4.18: \n",
      "Model Number: 32 of 40 with model FBProphet for Validation 1\n"
     ]
    },
    {
     "name": "stderr",
     "output_type": "stream",
     "text": [
      "C:\\Users\\pgrady\\AppData\\Local\\Packages\\PythonSoftwareFoundation.Python.3.10_qbz5n2kfra8p0\\LocalCache\\local-packages\\Python310\\site-packages\\autots\\models\\base.py:616: RuntimeWarning: invalid value encountered in divide\n",
      "  smape_cons = (np.nansum(wsmape_df, axis=1) * 200) / np.count_nonzero(\n",
      "14:01:11 - cmdstanpy - INFO - Chain [1] start processing\n",
      "14:01:11 - cmdstanpy - INFO - Chain [1] done processing\n"
     ]
    },
    {
     "name": "stdout",
     "output_type": "stream",
     "text": [
      "32 - FBProphet with avg smape 96.54: \n",
      "Model Number: 33 of 40 with model SeasonalNaive for Validation 1\n",
      "33 - SeasonalNaive with avg smape 1.88: \n",
      "Model Number: 34 of 40 with model ETS for Validation 1\n"
     ]
    },
    {
     "name": "stderr",
     "output_type": "stream",
     "text": [
      "C:\\Users\\pgrady\\AppData\\Local\\Packages\\PythonSoftwareFoundation.Python.3.10_qbz5n2kfra8p0\\LocalCache\\local-packages\\Python310\\site-packages\\autots\\models\\base.py:616: RuntimeWarning: invalid value encountered in divide\n",
      "  smape_cons = (np.nansum(wsmape_df, axis=1) * 200) / np.count_nonzero(\n",
      "C:\\Users\\pgrady\\AppData\\Local\\Packages\\PythonSoftwareFoundation.Python.3.10_qbz5n2kfra8p0\\LocalCache\\local-packages\\Python310\\site-packages\\autots\\models\\base.py:616: RuntimeWarning: invalid value encountered in divide\n",
      "  smape_cons = (np.nansum(wsmape_df, axis=1) * 200) / np.count_nonzero(\n",
      "C:\\Users\\pgrady\\AppData\\Local\\Packages\\PythonSoftwareFoundation.Python.3.10_qbz5n2kfra8p0\\LocalCache\\local-packages\\Python310\\site-packages\\autots\\models\\base.py:616: RuntimeWarning: invalid value encountered in divide\n",
      "  smape_cons = (np.nansum(wsmape_df, axis=1) * 200) / np.count_nonzero(\n"
     ]
    },
    {
     "name": "stdout",
     "output_type": "stream",
     "text": [
      "34 - ETS with avg smape 4.97: \n",
      "Model Number: 35 of 40 with model ETS for Validation 1\n",
      "35 - ETS with avg smape 4.96: \n",
      "Model Number: 36 of 40 with model ETS for Validation 1\n",
      "36 - ETS with avg smape 1.42: \n",
      "Model Number: 37 of 40 with model FBProphet for Validation 1\n"
     ]
    },
    {
     "name": "stderr",
     "output_type": "stream",
     "text": [
      "C:\\Users\\pgrady\\AppData\\Local\\Packages\\PythonSoftwareFoundation.Python.3.10_qbz5n2kfra8p0\\LocalCache\\local-packages\\Python310\\site-packages\\autots\\models\\base.py:616: RuntimeWarning: invalid value encountered in divide\n",
      "  smape_cons = (np.nansum(wsmape_df, axis=1) * 200) / np.count_nonzero(\n",
      "C:\\Users\\pgrady\\AppData\\Local\\Packages\\PythonSoftwareFoundation.Python.3.10_qbz5n2kfra8p0\\LocalCache\\local-packages\\Python310\\site-packages\\autots\\models\\base.py:616: RuntimeWarning: invalid value encountered in divide\n",
      "  smape_cons = (np.nansum(wsmape_df, axis=1) * 200) / np.count_nonzero(\n",
      "14:01:12 - cmdstanpy - INFO - Chain [1] start processing\n",
      "14:01:12 - cmdstanpy - INFO - Chain [1] done processing\n",
      "C:\\Users\\pgrady\\AppData\\Local\\Packages\\PythonSoftwareFoundation.Python.3.10_qbz5n2kfra8p0\\LocalCache\\local-packages\\Python310\\site-packages\\autots\\models\\base.py:616: RuntimeWarning: invalid value encountered in divide\n",
      "  smape_cons = (np.nansum(wsmape_df, axis=1) * 200) / np.count_nonzero(\n"
     ]
    },
    {
     "name": "stdout",
     "output_type": "stream",
     "text": [
      "37 - FBProphet with avg smape 8.45: \n",
      "Model Number: 38 of 40 with model ETS for Validation 1\n"
     ]
    },
    {
     "name": "stderr",
     "output_type": "stream",
     "text": [
      "C:\\Users\\pgrady\\AppData\\Local\\Packages\\PythonSoftwareFoundation.Python.3.10_qbz5n2kfra8p0\\LocalCache\\local-packages\\Python310\\site-packages\\autots\\models\\base.py:616: RuntimeWarning: invalid value encountered in divide\n",
      "  smape_cons = (np.nansum(wsmape_df, axis=1) * 200) / np.count_nonzero(\n"
     ]
    },
    {
     "name": "stdout",
     "output_type": "stream",
     "text": [
      "38 - ETS with avg smape 8.7: \n",
      "Model Number: 39 of 40 with model ETS for Validation 1\n",
      "39 - ETS with avg smape 1.55: \n",
      "Model Number: 40 of 40 with model FBProphet for Validation 1\n"
     ]
    },
    {
     "name": "stderr",
     "output_type": "stream",
     "text": [
      "C:\\Users\\pgrady\\AppData\\Local\\Packages\\PythonSoftwareFoundation.Python.3.10_qbz5n2kfra8p0\\LocalCache\\local-packages\\Python310\\site-packages\\autots\\models\\base.py:616: RuntimeWarning: invalid value encountered in divide\n",
      "  smape_cons = (np.nansum(wsmape_df, axis=1) * 200) / np.count_nonzero(\n",
      "14:01:13 - cmdstanpy - INFO - Chain [1] start processing\n",
      "14:01:37 - cmdstanpy - INFO - Chain [1] done processing\n"
     ]
    },
    {
     "name": "stdout",
     "output_type": "stream",
     "text": [
      "40 - FBProphet with avg smape 3.68: \n",
      "Validation Round: 2\n",
      "One or more series is 90% or more NaN in this test split\n",
      "Model Number: 1 of 40 with model Ensemble for Validation 2\n"
     ]
    },
    {
     "name": "stderr",
     "output_type": "stream",
     "text": [
      "C:\\Users\\pgrady\\AppData\\Local\\Packages\\PythonSoftwareFoundation.Python.3.10_qbz5n2kfra8p0\\LocalCache\\local-packages\\Python310\\site-packages\\autots\\models\\base.py:616: RuntimeWarning: invalid value encountered in divide\n",
      "  smape_cons = (np.nansum(wsmape_df, axis=1) * 200) / np.count_nonzero(\n",
      "C:\\Users\\pgrady\\AppData\\Local\\Packages\\PythonSoftwareFoundation.Python.3.10_qbz5n2kfra8p0\\LocalCache\\local-packages\\Python310\\site-packages\\autots\\evaluator\\auto_model.py:939: FutureWarning: iteritems is deprecated and will be removed in a future version. Use .items instead.\n",
      "  for index, value in models_to_iterate.iteritems():\n"
     ]
    },
    {
     "name": "stdout",
     "output_type": "stream",
     "text": [
      "1 - Ensemble with avg smape nan: \n",
      "Model Number: 2 of 40 with model Ensemble for Validation 2\n"
     ]
    },
    {
     "name": "stderr",
     "output_type": "stream",
     "text": [
      "C:\\Users\\pgrady\\AppData\\Local\\Packages\\PythonSoftwareFoundation.Python.3.10_qbz5n2kfra8p0\\LocalCache\\local-packages\\Python310\\site-packages\\autots\\models\\ensemble.py:231: FutureWarning: The frame.append method is deprecated and will be removed from pandas in a future version. Use pandas.concat instead.\n",
      "  .append(forecasts[second_model_index].tail(second_bit))\n",
      "C:\\Users\\pgrady\\AppData\\Local\\Packages\\PythonSoftwareFoundation.Python.3.10_qbz5n2kfra8p0\\LocalCache\\local-packages\\Python310\\site-packages\\autots\\models\\ensemble.py:236: FutureWarning: The frame.append method is deprecated and will be removed from pandas in a future version. Use pandas.concat instead.\n",
      "  .append(lower_forecasts[second_model_index].tail(second_bit))\n",
      "C:\\Users\\pgrady\\AppData\\Local\\Packages\\PythonSoftwareFoundation.Python.3.10_qbz5n2kfra8p0\\LocalCache\\local-packages\\Python310\\site-packages\\autots\\models\\ensemble.py:241: FutureWarning: The frame.append method is deprecated and will be removed from pandas in a future version. Use pandas.concat instead.\n",
      "  .append(upper_forecasts[second_model_index].tail(second_bit))\n",
      "C:\\Users\\pgrady\\AppData\\Local\\Packages\\PythonSoftwareFoundation.Python.3.10_qbz5n2kfra8p0\\LocalCache\\local-packages\\Python310\\site-packages\\autots\\models\\base.py:616: RuntimeWarning: invalid value encountered in divide\n",
      "  smape_cons = (np.nansum(wsmape_df, axis=1) * 200) / np.count_nonzero(\n",
      "C:\\Users\\pgrady\\AppData\\Local\\Packages\\PythonSoftwareFoundation.Python.3.10_qbz5n2kfra8p0\\LocalCache\\local-packages\\Python310\\site-packages\\autots\\evaluator\\auto_model.py:939: FutureWarning: iteritems is deprecated and will be removed in a future version. Use .items instead.\n",
      "  for index, value in models_to_iterate.iteritems():\n"
     ]
    },
    {
     "name": "stdout",
     "output_type": "stream",
     "text": [
      "2 - Ensemble with avg smape nan: \n",
      "Model Number: 3 of 40 with model Ensemble for Validation 2\n"
     ]
    },
    {
     "name": "stderr",
     "output_type": "stream",
     "text": [
      "C:\\Users\\pgrady\\AppData\\Local\\Packages\\PythonSoftwareFoundation.Python.3.10_qbz5n2kfra8p0\\LocalCache\\local-packages\\Python310\\site-packages\\autots\\models\\base.py:616: RuntimeWarning: invalid value encountered in divide\n",
      "  smape_cons = (np.nansum(wsmape_df, axis=1) * 200) / np.count_nonzero(\n",
      "C:\\Users\\pgrady\\AppData\\Local\\Packages\\PythonSoftwareFoundation.Python.3.10_qbz5n2kfra8p0\\LocalCache\\local-packages\\Python310\\site-packages\\autots\\evaluator\\auto_model.py:939: FutureWarning: iteritems is deprecated and will be removed in a future version. Use .items instead.\n",
      "  for index, value in models_to_iterate.iteritems():\n",
      "C:\\Users\\pgrady\\AppData\\Local\\Packages\\PythonSoftwareFoundation.Python.3.10_qbz5n2kfra8p0\\LocalCache\\local-packages\\Python310\\site-packages\\autots\\models\\base.py:616: RuntimeWarning: invalid value encountered in divide\n",
      "  smape_cons = (np.nansum(wsmape_df, axis=1) * 200) / np.count_nonzero(\n",
      "C:\\Users\\pgrady\\AppData\\Local\\Packages\\PythonSoftwareFoundation.Python.3.10_qbz5n2kfra8p0\\LocalCache\\local-packages\\Python310\\site-packages\\autots\\evaluator\\auto_model.py:939: FutureWarning: iteritems is deprecated and will be removed in a future version. Use .items instead.\n",
      "  for index, value in models_to_iterate.iteritems():\n"
     ]
    },
    {
     "name": "stdout",
     "output_type": "stream",
     "text": [
      "3 - Ensemble with avg smape nan: \n",
      "Model Number: 4 of 40 with model Ensemble for Validation 2\n"
     ]
    },
    {
     "name": "stderr",
     "output_type": "stream",
     "text": [
      "14:01:40 - cmdstanpy - INFO - Chain [1] start processing\n",
      "14:01:41 - cmdstanpy - INFO - Chain [1] done processing\n",
      "C:\\Users\\pgrady\\AppData\\Local\\Packages\\PythonSoftwareFoundation.Python.3.10_qbz5n2kfra8p0\\LocalCache\\local-packages\\Python310\\site-packages\\autots\\models\\base.py:616: RuntimeWarning: invalid value encountered in divide\n",
      "  smape_cons = (np.nansum(wsmape_df, axis=1) * 200) / np.count_nonzero(\n",
      "C:\\Users\\pgrady\\AppData\\Local\\Packages\\PythonSoftwareFoundation.Python.3.10_qbz5n2kfra8p0\\LocalCache\\local-packages\\Python310\\site-packages\\autots\\evaluator\\auto_model.py:939: FutureWarning: iteritems is deprecated and will be removed in a future version. Use .items instead.\n",
      "  for index, value in models_to_iterate.iteritems():\n"
     ]
    },
    {
     "name": "stdout",
     "output_type": "stream",
     "text": [
      "4 - Ensemble with avg smape nan: \n",
      "Model Number: 5 of 40 with model Ensemble for Validation 2\n"
     ]
    },
    {
     "name": "stderr",
     "output_type": "stream",
     "text": [
      "C:\\Users\\pgrady\\AppData\\Local\\Packages\\PythonSoftwareFoundation.Python.3.10_qbz5n2kfra8p0\\LocalCache\\local-packages\\Python310\\site-packages\\autots\\models\\base.py:616: RuntimeWarning: invalid value encountered in divide\n",
      "  smape_cons = (np.nansum(wsmape_df, axis=1) * 200) / np.count_nonzero(\n"
     ]
    },
    {
     "name": "stdout",
     "output_type": "stream",
     "text": [
      "5 - Ensemble with avg smape nan: \n",
      "Model Number: 6 of 40 with model ARIMA for Validation 2\n"
     ]
    },
    {
     "name": "stderr",
     "output_type": "stream",
     "text": [
      "C:\\Users\\pgrady\\AppData\\Local\\Packages\\PythonSoftwareFoundation.Python.3.10_qbz5n2kfra8p0\\LocalCache\\local-packages\\Python310\\site-packages\\autots\\models\\base.py:616: RuntimeWarning: invalid value encountered in divide\n",
      "  smape_cons = (np.nansum(wsmape_df, axis=1) * 200) / np.count_nonzero(\n",
      "C:\\Users\\pgrady\\AppData\\Local\\Packages\\PythonSoftwareFoundation.Python.3.10_qbz5n2kfra8p0\\LocalCache\\local-packages\\Python310\\site-packages\\autots\\evaluator\\auto_model.py:939: FutureWarning: iteritems is deprecated and will be removed in a future version. Use .items instead.\n",
      "  for index, value in models_to_iterate.iteritems():\n"
     ]
    },
    {
     "name": "stdout",
     "output_type": "stream",
     "text": [
      "6 - ARIMA with avg smape nan: \n",
      "Model Number: 7 of 40 with model Ensemble for Validation 2\n"
     ]
    },
    {
     "name": "stderr",
     "output_type": "stream",
     "text": [
      "C:\\Users\\pgrady\\AppData\\Local\\Packages\\PythonSoftwareFoundation.Python.3.10_qbz5n2kfra8p0\\LocalCache\\local-packages\\Python310\\site-packages\\autots\\models\\base.py:616: RuntimeWarning: invalid value encountered in divide\n",
      "  smape_cons = (np.nansum(wsmape_df, axis=1) * 200) / np.count_nonzero(\n"
     ]
    },
    {
     "name": "stdout",
     "output_type": "stream",
     "text": [
      "7 - Ensemble with avg smape nan: \n",
      "Model Number: 8 of 40 with model ARIMA for Validation 2\n"
     ]
    },
    {
     "name": "stderr",
     "output_type": "stream",
     "text": [
      "C:\\Users\\pgrady\\AppData\\Local\\Packages\\PythonSoftwareFoundation.Python.3.10_qbz5n2kfra8p0\\LocalCache\\local-packages\\Python310\\site-packages\\autots\\models\\base.py:616: RuntimeWarning: invalid value encountered in divide\n",
      "  smape_cons = (np.nansum(wsmape_df, axis=1) * 200) / np.count_nonzero(\n",
      "C:\\Users\\pgrady\\AppData\\Local\\Packages\\PythonSoftwareFoundation.Python.3.10_qbz5n2kfra8p0\\LocalCache\\local-packages\\Python310\\site-packages\\autots\\evaluator\\auto_model.py:939: FutureWarning: iteritems is deprecated and will be removed in a future version. Use .items instead.\n",
      "  for index, value in models_to_iterate.iteritems():\n"
     ]
    },
    {
     "name": "stdout",
     "output_type": "stream",
     "text": [
      "8 - ARIMA with avg smape nan: \n",
      "Model Number: 9 of 40 with model Ensemble for Validation 2\n",
      "9 - Ensemble with avg smape nan: \n",
      "Model Number: 10 of 40 with model Theta for Validation 2\n"
     ]
    },
    {
     "name": "stderr",
     "output_type": "stream",
     "text": [
      "C:\\Users\\pgrady\\AppData\\Local\\Packages\\PythonSoftwareFoundation.Python.3.10_qbz5n2kfra8p0\\LocalCache\\local-packages\\Python310\\site-packages\\autots\\models\\base.py:616: RuntimeWarning: invalid value encountered in divide\n",
      "  smape_cons = (np.nansum(wsmape_df, axis=1) * 200) / np.count_nonzero(\n",
      "C:\\Users\\pgrady\\AppData\\Local\\Packages\\PythonSoftwareFoundation.Python.3.10_qbz5n2kfra8p0\\LocalCache\\local-packages\\Python310\\site-packages\\autots\\models\\base.py:616: RuntimeWarning: invalid value encountered in divide\n",
      "  smape_cons = (np.nansum(wsmape_df, axis=1) * 200) / np.count_nonzero(\n"
     ]
    },
    {
     "name": "stdout",
     "output_type": "stream",
     "text": [
      "10 - Theta with avg smape nan: \n",
      "Model Number: 11 of 40 with model ARIMA for Validation 2\n"
     ]
    },
    {
     "name": "stderr",
     "output_type": "stream",
     "text": [
      "C:\\Users\\pgrady\\AppData\\Local\\Packages\\PythonSoftwareFoundation.Python.3.10_qbz5n2kfra8p0\\LocalCache\\local-packages\\Python310\\site-packages\\autots\\models\\base.py:616: RuntimeWarning: invalid value encountered in divide\n",
      "  smape_cons = (np.nansum(wsmape_df, axis=1) * 200) / np.count_nonzero(\n",
      "C:\\Users\\pgrady\\AppData\\Local\\Packages\\PythonSoftwareFoundation.Python.3.10_qbz5n2kfra8p0\\LocalCache\\local-packages\\Python310\\site-packages\\autots\\evaluator\\auto_model.py:939: FutureWarning: iteritems is deprecated and will be removed in a future version. Use .items instead.\n",
      "  for index, value in models_to_iterate.iteritems():\n"
     ]
    },
    {
     "name": "stdout",
     "output_type": "stream",
     "text": [
      "11 - ARIMA with avg smape nan: \n",
      "Model Number: 12 of 40 with model Ensemble for Validation 2\n",
      "12 - Ensemble with avg smape nan: \n",
      "Model Number: 13 of 40 with model Ensemble for Validation 2\n"
     ]
    },
    {
     "name": "stderr",
     "output_type": "stream",
     "text": [
      "C:\\Users\\pgrady\\AppData\\Local\\Packages\\PythonSoftwareFoundation.Python.3.10_qbz5n2kfra8p0\\LocalCache\\local-packages\\Python310\\site-packages\\autots\\models\\base.py:616: RuntimeWarning: invalid value encountered in divide\n",
      "  smape_cons = (np.nansum(wsmape_df, axis=1) * 200) / np.count_nonzero(\n",
      "C:\\Users\\pgrady\\AppData\\Local\\Packages\\PythonSoftwareFoundation.Python.3.10_qbz5n2kfra8p0\\LocalCache\\local-packages\\Python310\\site-packages\\autots\\evaluator\\auto_model.py:939: FutureWarning: iteritems is deprecated and will be removed in a future version. Use .items instead.\n",
      "  for index, value in models_to_iterate.iteritems():\n"
     ]
    },
    {
     "name": "stdout",
     "output_type": "stream",
     "text": [
      "13 - Ensemble with avg smape nan: \n",
      "Model Number: 14 of 40 with model Theta for Validation 2\n"
     ]
    },
    {
     "name": "stderr",
     "output_type": "stream",
     "text": [
      "C:\\Users\\pgrady\\AppData\\Local\\Packages\\PythonSoftwareFoundation.Python.3.10_qbz5n2kfra8p0\\LocalCache\\local-packages\\Python310\\site-packages\\autots\\models\\base.py:616: RuntimeWarning: invalid value encountered in divide\n",
      "  smape_cons = (np.nansum(wsmape_df, axis=1) * 200) / np.count_nonzero(\n",
      "C:\\Users\\pgrady\\AppData\\Local\\Packages\\PythonSoftwareFoundation.Python.3.10_qbz5n2kfra8p0\\LocalCache\\local-packages\\Python310\\site-packages\\autots\\models\\base.py:616: RuntimeWarning: invalid value encountered in divide\n",
      "  smape_cons = (np.nansum(wsmape_df, axis=1) * 200) / np.count_nonzero(\n"
     ]
    },
    {
     "name": "stdout",
     "output_type": "stream",
     "text": [
      "14 - Theta with avg smape nan: \n",
      "Model Number: 15 of 40 with model Theta for Validation 2\n",
      "15 - Theta with avg smape nan: \n",
      "Model Number: 16 of 40 with model Theta for Validation 2\n"
     ]
    },
    {
     "name": "stderr",
     "output_type": "stream",
     "text": [
      "C:\\Users\\pgrady\\AppData\\Local\\Packages\\PythonSoftwareFoundation.Python.3.10_qbz5n2kfra8p0\\LocalCache\\local-packages\\Python310\\site-packages\\autots\\models\\base.py:616: RuntimeWarning: invalid value encountered in divide\n",
      "  smape_cons = (np.nansum(wsmape_df, axis=1) * 200) / np.count_nonzero(\n",
      "C:\\Users\\pgrady\\AppData\\Local\\Packages\\PythonSoftwareFoundation.Python.3.10_qbz5n2kfra8p0\\LocalCache\\local-packages\\Python310\\site-packages\\autots\\models\\base.py:616: RuntimeWarning: invalid value encountered in divide\n",
      "  smape_cons = (np.nansum(wsmape_df, axis=1) * 200) / np.count_nonzero(\n"
     ]
    },
    {
     "name": "stdout",
     "output_type": "stream",
     "text": [
      "16 - Theta with avg smape nan: \n",
      "Model Number: 17 of 40 with model Theta for Validation 2\n",
      "17 - Theta with avg smape nan: \n",
      "Model Number: 18 of 40 with model Theta for Validation 2\n"
     ]
    },
    {
     "name": "stderr",
     "output_type": "stream",
     "text": [
      "C:\\Users\\pgrady\\AppData\\Local\\Packages\\PythonSoftwareFoundation.Python.3.10_qbz5n2kfra8p0\\LocalCache\\local-packages\\Python310\\site-packages\\autots\\models\\base.py:616: RuntimeWarning: invalid value encountered in divide\n",
      "  smape_cons = (np.nansum(wsmape_df, axis=1) * 200) / np.count_nonzero(\n",
      "C:\\Users\\pgrady\\AppData\\Local\\Packages\\PythonSoftwareFoundation.Python.3.10_qbz5n2kfra8p0\\LocalCache\\local-packages\\Python310\\site-packages\\autots\\models\\base.py:616: RuntimeWarning: invalid value encountered in divide\n",
      "  smape_cons = (np.nansum(wsmape_df, axis=1) * 200) / np.count_nonzero(\n"
     ]
    },
    {
     "name": "stdout",
     "output_type": "stream",
     "text": [
      "18 - Theta with avg smape nan: \n",
      "Model Number: 19 of 40 with model Theta for Validation 2\n",
      "19 - Theta with avg smape nan: \n",
      "Model Number: 20 of 40 with model Theta for Validation 2\n"
     ]
    },
    {
     "name": "stderr",
     "output_type": "stream",
     "text": [
      "C:\\Users\\pgrady\\AppData\\Local\\Packages\\PythonSoftwareFoundation.Python.3.10_qbz5n2kfra8p0\\LocalCache\\local-packages\\Python310\\site-packages\\autots\\models\\base.py:616: RuntimeWarning: invalid value encountered in divide\n",
      "  smape_cons = (np.nansum(wsmape_df, axis=1) * 200) / np.count_nonzero(\n",
      "C:\\Users\\pgrady\\AppData\\Local\\Packages\\PythonSoftwareFoundation.Python.3.10_qbz5n2kfra8p0\\LocalCache\\local-packages\\Python310\\site-packages\\autots\\models\\base.py:616: RuntimeWarning: invalid value encountered in divide\n",
      "  smape_cons = (np.nansum(wsmape_df, axis=1) * 200) / np.count_nonzero(\n"
     ]
    },
    {
     "name": "stdout",
     "output_type": "stream",
     "text": [
      "20 - Theta with avg smape nan: \n",
      "Model Number: 21 of 40 with model Theta for Validation 2\n",
      "21 - Theta with avg smape nan: \n",
      "Model Number: 22 of 40 with model ARIMA for Validation 2\n"
     ]
    },
    {
     "name": "stderr",
     "output_type": "stream",
     "text": [
      "C:\\Users\\pgrady\\AppData\\Local\\Packages\\PythonSoftwareFoundation.Python.3.10_qbz5n2kfra8p0\\LocalCache\\local-packages\\Python310\\site-packages\\autots\\models\\base.py:616: RuntimeWarning: invalid value encountered in divide\n",
      "  smape_cons = (np.nansum(wsmape_df, axis=1) * 200) / np.count_nonzero(\n",
      "C:\\Users\\pgrady\\AppData\\Local\\Packages\\PythonSoftwareFoundation.Python.3.10_qbz5n2kfra8p0\\LocalCache\\local-packages\\Python310\\site-packages\\autots\\models\\base.py:616: RuntimeWarning: invalid value encountered in divide\n",
      "  smape_cons = (np.nansum(wsmape_df, axis=1) * 200) / np.count_nonzero(\n"
     ]
    },
    {
     "name": "stdout",
     "output_type": "stream",
     "text": [
      "22 - ARIMA with avg smape nan: \n",
      "Model Number: 23 of 40 with model ARIMA for Validation 2\n",
      "Template Eval Error: Exception('Transformer Detrend failed on fit') in model 23: ARIMA\n",
      "Model Number: 24 of 40 with model ARIMA for Validation 2\n"
     ]
    },
    {
     "name": "stderr",
     "output_type": "stream",
     "text": [
      "C:\\Users\\pgrady\\AppData\\Local\\Packages\\PythonSoftwareFoundation.Python.3.10_qbz5n2kfra8p0\\LocalCache\\local-packages\\Python310\\site-packages\\autots\\models\\base.py:616: RuntimeWarning: invalid value encountered in divide\n",
      "  smape_cons = (np.nansum(wsmape_df, axis=1) * 200) / np.count_nonzero(\n"
     ]
    },
    {
     "name": "stdout",
     "output_type": "stream",
     "text": [
      "24 - ARIMA with avg smape nan: \n",
      "Model Number: 25 of 40 with model ARIMA for Validation 2\n"
     ]
    },
    {
     "name": "stderr",
     "output_type": "stream",
     "text": [
      "C:\\Users\\pgrady\\AppData\\Local\\Packages\\PythonSoftwareFoundation.Python.3.10_qbz5n2kfra8p0\\LocalCache\\local-packages\\Python310\\site-packages\\autots\\models\\base.py:616: RuntimeWarning: invalid value encountered in divide\n",
      "  smape_cons = (np.nansum(wsmape_df, axis=1) * 200) / np.count_nonzero(\n"
     ]
    },
    {
     "name": "stdout",
     "output_type": "stream",
     "text": [
      "25 - ARIMA with avg smape nan: \n",
      "Model Number: 26 of 40 with model ARIMA for Validation 2\n",
      "26 - ARIMA with avg smape nan: \n",
      "Model Number: 27 of 40 with model ARIMA for Validation 2\n",
      "Template Eval Error: Exception('Transformer Detrend failed on fit') in model 27: ARIMA\n",
      "Model Number: 28 of 40 with model ETS for Validation 2\n"
     ]
    },
    {
     "name": "stderr",
     "output_type": "stream",
     "text": [
      "C:\\Users\\pgrady\\AppData\\Local\\Packages\\PythonSoftwareFoundation.Python.3.10_qbz5n2kfra8p0\\LocalCache\\local-packages\\Python310\\site-packages\\autots\\models\\base.py:616: RuntimeWarning: invalid value encountered in divide\n",
      "  smape_cons = (np.nansum(wsmape_df, axis=1) * 200) / np.count_nonzero(\n",
      "C:\\Users\\pgrady\\AppData\\Local\\Packages\\PythonSoftwareFoundation.Python.3.10_qbz5n2kfra8p0\\LocalCache\\local-packages\\Python310\\site-packages\\autots\\models\\base.py:616: RuntimeWarning: invalid value encountered in divide\n",
      "  smape_cons = (np.nansum(wsmape_df, axis=1) * 200) / np.count_nonzero(\n"
     ]
    },
    {
     "name": "stdout",
     "output_type": "stream",
     "text": [
      "28 - ETS with avg smape nan: \n",
      "Model Number: 29 of 40 with model ETS for Validation 2\n",
      "29 - ETS with avg smape nan: \n",
      "Model Number: 30 of 40 with model ETS for Validation 2\n",
      "30 - ETS with avg smape nan: \n",
      "Model Number: 31 of 40 with model ETS for Validation 2\n"
     ]
    },
    {
     "name": "stderr",
     "output_type": "stream",
     "text": [
      "C:\\Users\\pgrady\\AppData\\Local\\Packages\\PythonSoftwareFoundation.Python.3.10_qbz5n2kfra8p0\\LocalCache\\local-packages\\Python310\\site-packages\\autots\\models\\base.py:616: RuntimeWarning: invalid value encountered in divide\n",
      "  smape_cons = (np.nansum(wsmape_df, axis=1) * 200) / np.count_nonzero(\n",
      "C:\\Users\\pgrady\\AppData\\Local\\Packages\\PythonSoftwareFoundation.Python.3.10_qbz5n2kfra8p0\\LocalCache\\local-packages\\Python310\\site-packages\\autots\\models\\base.py:616: RuntimeWarning: invalid value encountered in divide\n",
      "  smape_cons = (np.nansum(wsmape_df, axis=1) * 200) / np.count_nonzero(\n",
      "C:\\Users\\pgrady\\AppData\\Local\\Packages\\PythonSoftwareFoundation.Python.3.10_qbz5n2kfra8p0\\LocalCache\\local-packages\\Python310\\site-packages\\autots\\models\\base.py:616: RuntimeWarning: invalid value encountered in divide\n",
      "  smape_cons = (np.nansum(wsmape_df, axis=1) * 200) / np.count_nonzero(\n"
     ]
    },
    {
     "name": "stdout",
     "output_type": "stream",
     "text": [
      "31 - ETS with avg smape nan: \n",
      "Model Number: 32 of 40 with model FBProphet for Validation 2\n"
     ]
    },
    {
     "name": "stderr",
     "output_type": "stream",
     "text": [
      "14:01:51 - cmdstanpy - INFO - Chain [1] start processing\n",
      "14:01:51 - cmdstanpy - INFO - Chain [1] done processing\n"
     ]
    },
    {
     "name": "stdout",
     "output_type": "stream",
     "text": [
      "32 - FBProphet with avg smape nan: \n",
      "Model Number: 33 of 40 with model SeasonalNaive for Validation 2\n"
     ]
    },
    {
     "name": "stderr",
     "output_type": "stream",
     "text": [
      "C:\\Users\\pgrady\\AppData\\Local\\Packages\\PythonSoftwareFoundation.Python.3.10_qbz5n2kfra8p0\\LocalCache\\local-packages\\Python310\\site-packages\\autots\\models\\base.py:616: RuntimeWarning: invalid value encountered in divide\n",
      "  smape_cons = (np.nansum(wsmape_df, axis=1) * 200) / np.count_nonzero(\n"
     ]
    },
    {
     "name": "stdout",
     "output_type": "stream",
     "text": [
      "33 - SeasonalNaive with avg smape nan: \n",
      "Model Number: 34 of 40 with model ETS for Validation 2\n"
     ]
    },
    {
     "name": "stderr",
     "output_type": "stream",
     "text": [
      "C:\\Users\\pgrady\\AppData\\Local\\Packages\\PythonSoftwareFoundation.Python.3.10_qbz5n2kfra8p0\\LocalCache\\local-packages\\Python310\\site-packages\\autots\\models\\base.py:616: RuntimeWarning: invalid value encountered in divide\n",
      "  smape_cons = (np.nansum(wsmape_df, axis=1) * 200) / np.count_nonzero(\n",
      "C:\\Users\\pgrady\\AppData\\Local\\Packages\\PythonSoftwareFoundation.Python.3.10_qbz5n2kfra8p0\\LocalCache\\local-packages\\Python310\\site-packages\\autots\\models\\base.py:616: RuntimeWarning: invalid value encountered in divide\n",
      "  smape_cons = (np.nansum(wsmape_df, axis=1) * 200) / np.count_nonzero(\n"
     ]
    },
    {
     "name": "stdout",
     "output_type": "stream",
     "text": [
      "34 - ETS with avg smape nan: \n",
      "Model Number: 35 of 40 with model ETS for Validation 2\n",
      "35 - ETS with avg smape nan: \n",
      "Model Number: 36 of 40 with model ETS for Validation 2\n"
     ]
    },
    {
     "name": "stderr",
     "output_type": "stream",
     "text": [
      "C:\\Users\\pgrady\\AppData\\Local\\Packages\\PythonSoftwareFoundation.Python.3.10_qbz5n2kfra8p0\\LocalCache\\local-packages\\Python310\\site-packages\\autots\\models\\base.py:616: RuntimeWarning: invalid value encountered in divide\n",
      "  smape_cons = (np.nansum(wsmape_df, axis=1) * 200) / np.count_nonzero(\n"
     ]
    },
    {
     "name": "stdout",
     "output_type": "stream",
     "text": [
      "36 - ETS with avg smape nan: \n",
      "Model Number: 37 of 40 with model FBProphet for Validation 2\n"
     ]
    },
    {
     "name": "stderr",
     "output_type": "stream",
     "text": [
      "C:\\Users\\pgrady\\AppData\\Local\\Packages\\PythonSoftwareFoundation.Python.3.10_qbz5n2kfra8p0\\LocalCache\\local-packages\\Python310\\site-packages\\autots\\models\\base.py:616: RuntimeWarning: invalid value encountered in divide\n",
      "  smape_cons = (np.nansum(wsmape_df, axis=1) * 200) / np.count_nonzero(\n",
      "14:01:52 - cmdstanpy - INFO - Chain [1] start processing\n",
      "14:01:52 - cmdstanpy - INFO - Chain [1] done processing\n"
     ]
    },
    {
     "name": "stdout",
     "output_type": "stream",
     "text": [
      "37 - FBProphet with avg smape nan: \n",
      "Model Number: 38 of 40 with model ETS for Validation 2\n"
     ]
    },
    {
     "name": "stderr",
     "output_type": "stream",
     "text": [
      "C:\\Users\\pgrady\\AppData\\Local\\Packages\\PythonSoftwareFoundation.Python.3.10_qbz5n2kfra8p0\\LocalCache\\local-packages\\Python310\\site-packages\\autots\\models\\base.py:616: RuntimeWarning: invalid value encountered in divide\n",
      "  smape_cons = (np.nansum(wsmape_df, axis=1) * 200) / np.count_nonzero(\n"
     ]
    },
    {
     "name": "stdout",
     "output_type": "stream",
     "text": [
      "38 - ETS with avg smape nan: \n",
      "Model Number: 39 of 40 with model ETS for Validation 2\n"
     ]
    },
    {
     "name": "stderr",
     "output_type": "stream",
     "text": [
      "C:\\Users\\pgrady\\AppData\\Local\\Packages\\PythonSoftwareFoundation.Python.3.10_qbz5n2kfra8p0\\LocalCache\\local-packages\\Python310\\site-packages\\autots\\models\\base.py:616: RuntimeWarning: invalid value encountered in divide\n",
      "  smape_cons = (np.nansum(wsmape_df, axis=1) * 200) / np.count_nonzero(\n",
      "C:\\Users\\pgrady\\AppData\\Local\\Packages\\PythonSoftwareFoundation.Python.3.10_qbz5n2kfra8p0\\LocalCache\\local-packages\\Python310\\site-packages\\autots\\models\\base.py:616: RuntimeWarning: invalid value encountered in divide\n",
      "  smape_cons = (np.nansum(wsmape_df, axis=1) * 200) / np.count_nonzero(\n"
     ]
    },
    {
     "name": "stdout",
     "output_type": "stream",
     "text": [
      "39 - ETS with avg smape nan: \n",
      "Model Number: 40 of 40 with model FBProphet for Validation 2\n"
     ]
    },
    {
     "name": "stderr",
     "output_type": "stream",
     "text": [
      "14:01:53 - cmdstanpy - INFO - Chain [1] start processing\n",
      "14:02:22 - cmdstanpy - INFO - Chain [1] done processing\n",
      "C:\\Users\\pgrady\\AppData\\Local\\Packages\\PythonSoftwareFoundation.Python.3.10_qbz5n2kfra8p0\\LocalCache\\local-packages\\Python310\\site-packages\\autots\\models\\base.py:616: RuntimeWarning: invalid value encountered in divide\n",
      "  smape_cons = (np.nansum(wsmape_df, axis=1) * 200) / np.count_nonzero(\n",
      "C:\\Users\\pgrady\\AppData\\Local\\Packages\\PythonSoftwareFoundation.Python.3.10_qbz5n2kfra8p0\\LocalCache\\local-packages\\Python310\\site-packages\\autots\\evaluator\\auto_model.py:939: FutureWarning: iteritems is deprecated and will be removed in a future version. Use .items instead.\n",
      "  for index, value in models_to_iterate.iteritems():\n"
     ]
    },
    {
     "name": "stdout",
     "output_type": "stream",
     "text": [
      "40 - FBProphet with avg smape nan: \n",
      "Validation Round: 3\n",
      "Model Number: 1 of 40 with model Ensemble for Validation 3\n",
      "📈 1 - Ensemble with avg smape 5.61: \n",
      "Model Number: 2 of 40 with model Ensemble for Validation 3\n"
     ]
    },
    {
     "name": "stderr",
     "output_type": "stream",
     "text": [
      "C:\\Users\\pgrady\\AppData\\Local\\Packages\\PythonSoftwareFoundation.Python.3.10_qbz5n2kfra8p0\\LocalCache\\local-packages\\Python310\\site-packages\\autots\\models\\ensemble.py:231: FutureWarning: The frame.append method is deprecated and will be removed from pandas in a future version. Use pandas.concat instead.\n",
      "  .append(forecasts[second_model_index].tail(second_bit))\n",
      "C:\\Users\\pgrady\\AppData\\Local\\Packages\\PythonSoftwareFoundation.Python.3.10_qbz5n2kfra8p0\\LocalCache\\local-packages\\Python310\\site-packages\\autots\\models\\ensemble.py:236: FutureWarning: The frame.append method is deprecated and will be removed from pandas in a future version. Use pandas.concat instead.\n",
      "  .append(lower_forecasts[second_model_index].tail(second_bit))\n",
      "C:\\Users\\pgrady\\AppData\\Local\\Packages\\PythonSoftwareFoundation.Python.3.10_qbz5n2kfra8p0\\LocalCache\\local-packages\\Python310\\site-packages\\autots\\models\\ensemble.py:241: FutureWarning: The frame.append method is deprecated and will be removed from pandas in a future version. Use pandas.concat instead.\n",
      "  .append(upper_forecasts[second_model_index].tail(second_bit))\n",
      "C:\\Users\\pgrady\\AppData\\Local\\Packages\\PythonSoftwareFoundation.Python.3.10_qbz5n2kfra8p0\\LocalCache\\local-packages\\Python310\\site-packages\\autots\\models\\base.py:616: RuntimeWarning: invalid value encountered in divide\n",
      "  smape_cons = (np.nansum(wsmape_df, axis=1) * 200) / np.count_nonzero(\n",
      "C:\\Users\\pgrady\\AppData\\Local\\Packages\\PythonSoftwareFoundation.Python.3.10_qbz5n2kfra8p0\\LocalCache\\local-packages\\Python310\\site-packages\\autots\\evaluator\\auto_model.py:939: FutureWarning: iteritems is deprecated and will be removed in a future version. Use .items instead.\n",
      "  for index, value in models_to_iterate.iteritems():\n"
     ]
    },
    {
     "name": "stdout",
     "output_type": "stream",
     "text": [
      "📈 2 - Ensemble with avg smape 3.55: \n",
      "Model Number: 3 of 40 with model Ensemble for Validation 3\n"
     ]
    },
    {
     "name": "stderr",
     "output_type": "stream",
     "text": [
      "C:\\Users\\pgrady\\AppData\\Local\\Packages\\PythonSoftwareFoundation.Python.3.10_qbz5n2kfra8p0\\LocalCache\\local-packages\\Python310\\site-packages\\autots\\models\\base.py:616: RuntimeWarning: invalid value encountered in divide\n",
      "  smape_cons = (np.nansum(wsmape_df, axis=1) * 200) / np.count_nonzero(\n",
      "C:\\Users\\pgrady\\AppData\\Local\\Packages\\PythonSoftwareFoundation.Python.3.10_qbz5n2kfra8p0\\LocalCache\\local-packages\\Python310\\site-packages\\autots\\evaluator\\auto_model.py:939: FutureWarning: iteritems is deprecated and will be removed in a future version. Use .items instead.\n",
      "  for index, value in models_to_iterate.iteritems():\n",
      "C:\\Users\\pgrady\\AppData\\Local\\Packages\\PythonSoftwareFoundation.Python.3.10_qbz5n2kfra8p0\\LocalCache\\local-packages\\Python310\\site-packages\\autots\\models\\base.py:616: RuntimeWarning: invalid value encountered in divide\n",
      "  smape_cons = (np.nansum(wsmape_df, axis=1) * 200) / np.count_nonzero(\n",
      "C:\\Users\\pgrady\\AppData\\Local\\Packages\\PythonSoftwareFoundation.Python.3.10_qbz5n2kfra8p0\\LocalCache\\local-packages\\Python310\\site-packages\\autots\\evaluator\\auto_model.py:939: FutureWarning: iteritems is deprecated and will be removed in a future version. Use .items instead.\n",
      "  for index, value in models_to_iterate.iteritems():\n"
     ]
    },
    {
     "name": "stdout",
     "output_type": "stream",
     "text": [
      "3 - Ensemble with avg smape 3.88: \n",
      "Model Number: 4 of 40 with model Ensemble for Validation 3\n"
     ]
    },
    {
     "name": "stderr",
     "output_type": "stream",
     "text": [
      "C:\\Users\\pgrady\\AppData\\Local\\Packages\\PythonSoftwareFoundation.Python.3.10_qbz5n2kfra8p0\\LocalCache\\local-packages\\Python310\\site-packages\\autots\\tools\\window_functions.py:478: RuntimeWarning: invalid value encountered in divide\n",
      "  slope = (sxy - sx * sy) / (sx2 - sx**2)\n"
     ]
    },
    {
     "name": "stdout",
     "output_type": "stream",
     "text": [
      "Traceback (most recent call last):\n",
      "  File \"C:\\Users\\pgrady\\AppData\\Local\\Packages\\PythonSoftwareFoundation.Python.3.10_qbz5n2kfra8p0\\LocalCache\\local-packages\\Python310\\site-packages\\autots\\evaluator\\auto_model.py\", line 1090, in model_forecast\n",
      "    df_forecast = model_forecast(\n",
      "  File \"C:\\Users\\pgrady\\AppData\\Local\\Packages\\PythonSoftwareFoundation.Python.3.10_qbz5n2kfra8p0\\LocalCache\\local-packages\\Python310\\site-packages\\autots\\evaluator\\auto_model.py\", line 1177, in model_forecast\n",
      "    df_forecast = ModelPrediction(\n",
      "  File \"C:\\Users\\pgrady\\AppData\\Local\\Packages\\PythonSoftwareFoundation.Python.3.10_qbz5n2kfra8p0\\LocalCache\\local-packages\\Python310\\site-packages\\autots\\evaluator\\auto_model.py\", line 709, in ModelPrediction\n",
      "    raise ValueError(\n",
      "ValueError: Model ETS returned NaN for one or more series. fail_on_forecast_nan=True\n",
      "\n",
      "FAILED: Ensemble BestN component 4 of 5 ETS with error: ValueError('Model ETS returned NaN for one or more series. fail_on_forecast_nan=True')\n"
     ]
    },
    {
     "name": "stderr",
     "output_type": "stream",
     "text": [
      "14:02:25 - cmdstanpy - INFO - Chain [1] start processing\n",
      "14:02:26 - cmdstanpy - INFO - Chain [1] done processing\n",
      "C:\\Users\\pgrady\\AppData\\Local\\Packages\\PythonSoftwareFoundation.Python.3.10_qbz5n2kfra8p0\\LocalCache\\local-packages\\Python310\\site-packages\\autots\\models\\base.py:616: RuntimeWarning: invalid value encountered in divide\n",
      "  smape_cons = (np.nansum(wsmape_df, axis=1) * 200) / np.count_nonzero(\n",
      "C:\\Users\\pgrady\\AppData\\Local\\Packages\\PythonSoftwareFoundation.Python.3.10_qbz5n2kfra8p0\\LocalCache\\local-packages\\Python310\\site-packages\\autots\\evaluator\\auto_model.py:939: FutureWarning: iteritems is deprecated and will be removed in a future version. Use .items instead.\n",
      "  for index, value in models_to_iterate.iteritems():\n"
     ]
    },
    {
     "name": "stdout",
     "output_type": "stream",
     "text": [
      "4 - Ensemble with avg smape 3.63: \n",
      "Model Number: 5 of 40 with model Ensemble for Validation 3\n"
     ]
    },
    {
     "name": "stderr",
     "output_type": "stream",
     "text": [
      "C:\\Users\\pgrady\\AppData\\Local\\Packages\\PythonSoftwareFoundation.Python.3.10_qbz5n2kfra8p0\\LocalCache\\local-packages\\Python310\\site-packages\\autots\\tools\\window_functions.py:478: RuntimeWarning: invalid value encountered in divide\n",
      "  slope = (sxy - sx * sy) / (sx2 - sx**2)\n",
      "C:\\Users\\pgrady\\AppData\\Local\\Packages\\PythonSoftwareFoundation.Python.3.10_qbz5n2kfra8p0\\LocalCache\\local-packages\\Python310\\site-packages\\autots\\models\\base.py:616: RuntimeWarning: invalid value encountered in divide\n",
      "  smape_cons = (np.nansum(wsmape_df, axis=1) * 200) / np.count_nonzero(\n"
     ]
    },
    {
     "name": "stdout",
     "output_type": "stream",
     "text": [
      "5 - Ensemble with avg smape 4.07: \n",
      "Model Number: 6 of 40 with model ARIMA for Validation 3\n"
     ]
    },
    {
     "name": "stderr",
     "output_type": "stream",
     "text": [
      "C:\\Users\\pgrady\\AppData\\Local\\Packages\\PythonSoftwareFoundation.Python.3.10_qbz5n2kfra8p0\\LocalCache\\local-packages\\Python310\\site-packages\\autots\\models\\base.py:616: RuntimeWarning: invalid value encountered in divide\n",
      "  smape_cons = (np.nansum(wsmape_df, axis=1) * 200) / np.count_nonzero(\n",
      "C:\\Users\\pgrady\\AppData\\Local\\Packages\\PythonSoftwareFoundation.Python.3.10_qbz5n2kfra8p0\\LocalCache\\local-packages\\Python310\\site-packages\\autots\\evaluator\\auto_model.py:939: FutureWarning: iteritems is deprecated and will be removed in a future version. Use .items instead.\n",
      "  for index, value in models_to_iterate.iteritems():\n"
     ]
    },
    {
     "name": "stdout",
     "output_type": "stream",
     "text": [
      "6 - ARIMA with avg smape 4.08: \n",
      "Model Number: 7 of 40 with model Ensemble for Validation 3\n"
     ]
    },
    {
     "name": "stderr",
     "output_type": "stream",
     "text": [
      "C:\\Users\\pgrady\\AppData\\Local\\Packages\\PythonSoftwareFoundation.Python.3.10_qbz5n2kfra8p0\\LocalCache\\local-packages\\Python310\\site-packages\\autots\\tools\\window_functions.py:478: RuntimeWarning: invalid value encountered in divide\n",
      "  slope = (sxy - sx * sy) / (sx2 - sx**2)\n",
      "C:\\Users\\pgrady\\AppData\\Local\\Packages\\PythonSoftwareFoundation.Python.3.10_qbz5n2kfra8p0\\LocalCache\\local-packages\\Python310\\site-packages\\autots\\models\\base.py:616: RuntimeWarning: invalid value encountered in divide\n",
      "  smape_cons = (np.nansum(wsmape_df, axis=1) * 200) / np.count_nonzero(\n"
     ]
    },
    {
     "name": "stdout",
     "output_type": "stream",
     "text": [
      "Traceback (most recent call last):\n",
      "  File \"C:\\Users\\pgrady\\AppData\\Local\\Packages\\PythonSoftwareFoundation.Python.3.10_qbz5n2kfra8p0\\LocalCache\\local-packages\\Python310\\site-packages\\autots\\evaluator\\auto_model.py\", line 1090, in model_forecast\n",
      "    df_forecast = model_forecast(\n",
      "  File \"C:\\Users\\pgrady\\AppData\\Local\\Packages\\PythonSoftwareFoundation.Python.3.10_qbz5n2kfra8p0\\LocalCache\\local-packages\\Python310\\site-packages\\autots\\evaluator\\auto_model.py\", line 1177, in model_forecast\n",
      "    df_forecast = ModelPrediction(\n",
      "  File \"C:\\Users\\pgrady\\AppData\\Local\\Packages\\PythonSoftwareFoundation.Python.3.10_qbz5n2kfra8p0\\LocalCache\\local-packages\\Python310\\site-packages\\autots\\evaluator\\auto_model.py\", line 709, in ModelPrediction\n",
      "    raise ValueError(\n",
      "ValueError: Model ETS returned NaN for one or more series. fail_on_forecast_nan=True\n",
      "\n",
      "FAILED: Ensemble BestN component 4 of 3 ETS with error: ValueError('Model ETS returned NaN for one or more series. fail_on_forecast_nan=True')\n",
      "7 - Ensemble with avg smape 4.25: \n",
      "Model Number: 8 of 40 with model ARIMA for Validation 3\n"
     ]
    },
    {
     "name": "stderr",
     "output_type": "stream",
     "text": [
      "C:\\Users\\pgrady\\AppData\\Local\\Packages\\PythonSoftwareFoundation.Python.3.10_qbz5n2kfra8p0\\LocalCache\\local-packages\\Python310\\site-packages\\autots\\models\\base.py:616: RuntimeWarning: invalid value encountered in divide\n",
      "  smape_cons = (np.nansum(wsmape_df, axis=1) * 200) / np.count_nonzero(\n",
      "C:\\Users\\pgrady\\AppData\\Local\\Packages\\PythonSoftwareFoundation.Python.3.10_qbz5n2kfra8p0\\LocalCache\\local-packages\\Python310\\site-packages\\autots\\evaluator\\auto_model.py:939: FutureWarning: iteritems is deprecated and will be removed in a future version. Use .items instead.\n",
      "  for index, value in models_to_iterate.iteritems():\n"
     ]
    },
    {
     "name": "stdout",
     "output_type": "stream",
     "text": [
      "8 - ARIMA with avg smape 4.08: \n",
      "Model Number: 9 of 40 with model Ensemble for Validation 3\n",
      "9 - Ensemble with avg smape 4.08: \n",
      "Model Number: 10 of 40 with model Theta for Validation 3\n"
     ]
    },
    {
     "name": "stderr",
     "output_type": "stream",
     "text": [
      "C:\\Users\\pgrady\\AppData\\Local\\Packages\\PythonSoftwareFoundation.Python.3.10_qbz5n2kfra8p0\\LocalCache\\local-packages\\Python310\\site-packages\\autots\\models\\base.py:616: RuntimeWarning: invalid value encountered in divide\n",
      "  smape_cons = (np.nansum(wsmape_df, axis=1) * 200) / np.count_nonzero(\n",
      "C:\\Users\\pgrady\\AppData\\Local\\Packages\\PythonSoftwareFoundation.Python.3.10_qbz5n2kfra8p0\\LocalCache\\local-packages\\Python310\\site-packages\\autots\\models\\base.py:616: RuntimeWarning: invalid value encountered in divide\n",
      "  smape_cons = (np.nansum(wsmape_df, axis=1) * 200) / np.count_nonzero(\n"
     ]
    },
    {
     "name": "stdout",
     "output_type": "stream",
     "text": [
      "10 - Theta with avg smape 4.45: \n",
      "Model Number: 11 of 40 with model ARIMA for Validation 3\n"
     ]
    },
    {
     "name": "stderr",
     "output_type": "stream",
     "text": [
      "C:\\Users\\pgrady\\AppData\\Local\\Packages\\PythonSoftwareFoundation.Python.3.10_qbz5n2kfra8p0\\LocalCache\\local-packages\\Python310\\site-packages\\autots\\models\\base.py:616: RuntimeWarning: invalid value encountered in divide\n",
      "  smape_cons = (np.nansum(wsmape_df, axis=1) * 200) / np.count_nonzero(\n",
      "C:\\Users\\pgrady\\AppData\\Local\\Packages\\PythonSoftwareFoundation.Python.3.10_qbz5n2kfra8p0\\LocalCache\\local-packages\\Python310\\site-packages\\autots\\evaluator\\auto_model.py:939: FutureWarning: iteritems is deprecated and will be removed in a future version. Use .items instead.\n",
      "  for index, value in models_to_iterate.iteritems():\n"
     ]
    },
    {
     "name": "stdout",
     "output_type": "stream",
     "text": [
      "11 - ARIMA with avg smape 4.07: \n",
      "Model Number: 12 of 40 with model Ensemble for Validation 3\n",
      "Traceback (most recent call last):\n",
      "  File \"C:\\Users\\pgrady\\AppData\\Local\\Packages\\PythonSoftwareFoundation.Python.3.10_qbz5n2kfra8p0\\LocalCache\\local-packages\\Python310\\site-packages\\autots\\evaluator\\auto_model.py\", line 1090, in model_forecast\n",
      "    df_forecast = model_forecast(\n",
      "  File \"C:\\Users\\pgrady\\AppData\\Local\\Packages\\PythonSoftwareFoundation.Python.3.10_qbz5n2kfra8p0\\LocalCache\\local-packages\\Python310\\site-packages\\autots\\evaluator\\auto_model.py\", line 1177, in model_forecast\n",
      "    df_forecast = ModelPrediction(\n",
      "  File \"C:\\Users\\pgrady\\AppData\\Local\\Packages\\PythonSoftwareFoundation.Python.3.10_qbz5n2kfra8p0\\LocalCache\\local-packages\\Python310\\site-packages\\autots\\evaluator\\auto_model.py\", line 709, in ModelPrediction\n",
      "    raise ValueError(\n",
      "ValueError: Model ETS returned NaN for one or more series. fail_on_forecast_nan=True\n",
      "\n",
      "FAILED: Ensemble BestN component 4 of 3 ETS with error: ValueError('Model ETS returned NaN for one or more series. fail_on_forecast_nan=True')\n",
      "12 - Ensemble with avg smape 4.27: \n",
      "Model Number: 13 of 40 with model Ensemble for Validation 3\n",
      "Traceback (most recent call last):\n",
      "  File \"C:\\Users\\pgrady\\AppData\\Local\\Packages\\PythonSoftwareFoundation.Python.3.10_qbz5n2kfra8p0\\LocalCache\\local-packages\\Python310\\site-packages\\autots\\evaluator\\auto_model.py\", line 1090, in model_forecast\n",
      "    df_forecast = model_forecast(\n",
      "  File \"C:\\Users\\pgrady\\AppData\\Local\\Packages\\PythonSoftwareFoundation.Python.3.10_qbz5n2kfra8p0\\LocalCache\\local-packages\\Python310\\site-packages\\autots\\evaluator\\auto_model.py\", line 1177, in model_forecast\n",
      "    df_forecast = ModelPrediction(\n",
      "  File \"C:\\Users\\pgrady\\AppData\\Local\\Packages\\PythonSoftwareFoundation.Python.3.10_qbz5n2kfra8p0\\LocalCache\\local-packages\\Python310\\site-packages\\autots\\evaluator\\auto_model.py\", line 709, in ModelPrediction\n",
      "    raise ValueError(\n",
      "ValueError: Model ETS returned NaN for one or more series. fail_on_forecast_nan=True\n",
      "\n",
      "FAILED: Ensemble BestN component 2 of 3 ETS with error: ValueError('Model ETS returned NaN for one or more series. fail_on_forecast_nan=True')\n"
     ]
    },
    {
     "name": "stderr",
     "output_type": "stream",
     "text": [
      "C:\\Users\\pgrady\\AppData\\Local\\Packages\\PythonSoftwareFoundation.Python.3.10_qbz5n2kfra8p0\\LocalCache\\local-packages\\Python310\\site-packages\\autots\\tools\\window_functions.py:478: RuntimeWarning: invalid value encountered in divide\n",
      "  slope = (sxy - sx * sy) / (sx2 - sx**2)\n",
      "C:\\Users\\pgrady\\AppData\\Local\\Packages\\PythonSoftwareFoundation.Python.3.10_qbz5n2kfra8p0\\LocalCache\\local-packages\\Python310\\site-packages\\autots\\models\\base.py:616: RuntimeWarning: invalid value encountered in divide\n",
      "  smape_cons = (np.nansum(wsmape_df, axis=1) * 200) / np.count_nonzero(\n",
      "C:\\Users\\pgrady\\AppData\\Local\\Packages\\PythonSoftwareFoundation.Python.3.10_qbz5n2kfra8p0\\LocalCache\\local-packages\\Python310\\site-packages\\autots\\evaluator\\auto_model.py:939: FutureWarning: iteritems is deprecated and will be removed in a future version. Use .items instead.\n",
      "  for index, value in models_to_iterate.iteritems():\n",
      "C:\\Users\\pgrady\\AppData\\Local\\Packages\\PythonSoftwareFoundation.Python.3.10_qbz5n2kfra8p0\\LocalCache\\local-packages\\Python310\\site-packages\\autots\\tools\\window_functions.py:478: RuntimeWarning: invalid value encountered in divide\n",
      "  slope = (sxy - sx * sy) / (sx2 - sx**2)\n"
     ]
    },
    {
     "name": "stdout",
     "output_type": "stream",
     "text": [
      "13 - Ensemble with avg smape 4.27: \n",
      "Model Number: 14 of 40 with model Theta for Validation 3\n"
     ]
    },
    {
     "name": "stderr",
     "output_type": "stream",
     "text": [
      "C:\\Users\\pgrady\\AppData\\Local\\Packages\\PythonSoftwareFoundation.Python.3.10_qbz5n2kfra8p0\\LocalCache\\local-packages\\Python310\\site-packages\\autots\\models\\base.py:616: RuntimeWarning: invalid value encountered in divide\n",
      "  smape_cons = (np.nansum(wsmape_df, axis=1) * 200) / np.count_nonzero(\n",
      "C:\\Users\\pgrady\\AppData\\Local\\Packages\\PythonSoftwareFoundation.Python.3.10_qbz5n2kfra8p0\\LocalCache\\local-packages\\Python310\\site-packages\\autots\\models\\base.py:616: RuntimeWarning: invalid value encountered in divide\n",
      "  smape_cons = (np.nansum(wsmape_df, axis=1) * 200) / np.count_nonzero(\n"
     ]
    },
    {
     "name": "stdout",
     "output_type": "stream",
     "text": [
      "14 - Theta with avg smape 4.54: \n",
      "Model Number: 15 of 40 with model Theta for Validation 3\n",
      "15 - Theta with avg smape 4.54: \n",
      "Model Number: 16 of 40 with model Theta for Validation 3\n"
     ]
    },
    {
     "name": "stderr",
     "output_type": "stream",
     "text": [
      "C:\\Users\\pgrady\\AppData\\Local\\Packages\\PythonSoftwareFoundation.Python.3.10_qbz5n2kfra8p0\\LocalCache\\local-packages\\Python310\\site-packages\\autots\\models\\base.py:616: RuntimeWarning: invalid value encountered in divide\n",
      "  smape_cons = (np.nansum(wsmape_df, axis=1) * 200) / np.count_nonzero(\n",
      "C:\\Users\\pgrady\\AppData\\Local\\Packages\\PythonSoftwareFoundation.Python.3.10_qbz5n2kfra8p0\\LocalCache\\local-packages\\Python310\\site-packages\\autots\\models\\base.py:616: RuntimeWarning: invalid value encountered in divide\n",
      "  smape_cons = (np.nansum(wsmape_df, axis=1) * 200) / np.count_nonzero(\n"
     ]
    },
    {
     "name": "stdout",
     "output_type": "stream",
     "text": [
      "16 - Theta with avg smape 4.54: \n",
      "Model Number: 17 of 40 with model Theta for Validation 3\n",
      "17 - Theta with avg smape 4.54: \n",
      "Model Number: 18 of 40 with model Theta for Validation 3\n"
     ]
    },
    {
     "name": "stderr",
     "output_type": "stream",
     "text": [
      "C:\\Users\\pgrady\\AppData\\Local\\Packages\\PythonSoftwareFoundation.Python.3.10_qbz5n2kfra8p0\\LocalCache\\local-packages\\Python310\\site-packages\\autots\\models\\base.py:616: RuntimeWarning: invalid value encountered in divide\n",
      "  smape_cons = (np.nansum(wsmape_df, axis=1) * 200) / np.count_nonzero(\n",
      "C:\\Users\\pgrady\\AppData\\Local\\Packages\\PythonSoftwareFoundation.Python.3.10_qbz5n2kfra8p0\\LocalCache\\local-packages\\Python310\\site-packages\\autots\\tools\\window_functions.py:478: RuntimeWarning: invalid value encountered in divide\n",
      "  slope = (sxy - sx * sy) / (sx2 - sx**2)\n",
      "C:\\Users\\pgrady\\AppData\\Local\\Packages\\PythonSoftwareFoundation.Python.3.10_qbz5n2kfra8p0\\LocalCache\\local-packages\\Python310\\site-packages\\autots\\models\\base.py:616: RuntimeWarning: invalid value encountered in divide\n",
      "  smape_cons = (np.nansum(wsmape_df, axis=1) * 200) / np.count_nonzero(\n"
     ]
    },
    {
     "name": "stdout",
     "output_type": "stream",
     "text": [
      "18 - Theta with avg smape 4.54: \n",
      "Model Number: 19 of 40 with model Theta for Validation 3\n",
      "19 - Theta with avg smape 4.74: \n",
      "Model Number: 20 of 40 with model Theta for Validation 3\n"
     ]
    },
    {
     "name": "stderr",
     "output_type": "stream",
     "text": [
      "C:\\Users\\pgrady\\AppData\\Local\\Packages\\PythonSoftwareFoundation.Python.3.10_qbz5n2kfra8p0\\LocalCache\\local-packages\\Python310\\site-packages\\autots\\models\\base.py:616: RuntimeWarning: invalid value encountered in divide\n",
      "  smape_cons = (np.nansum(wsmape_df, axis=1) * 200) / np.count_nonzero(\n",
      "C:\\Users\\pgrady\\AppData\\Local\\Packages\\PythonSoftwareFoundation.Python.3.10_qbz5n2kfra8p0\\LocalCache\\local-packages\\Python310\\site-packages\\autots\\models\\base.py:616: RuntimeWarning: invalid value encountered in divide\n",
      "  smape_cons = (np.nansum(wsmape_df, axis=1) * 200) / np.count_nonzero(\n"
     ]
    },
    {
     "name": "stdout",
     "output_type": "stream",
     "text": [
      "20 - Theta with avg smape 4.43: \n",
      "Model Number: 21 of 40 with model Theta for Validation 3\n",
      "21 - Theta with avg smape 4.81: \n",
      "Model Number: 22 of 40 with model ARIMA for Validation 3\n"
     ]
    },
    {
     "name": "stderr",
     "output_type": "stream",
     "text": [
      "C:\\Users\\pgrady\\AppData\\Local\\Packages\\PythonSoftwareFoundation.Python.3.10_qbz5n2kfra8p0\\LocalCache\\local-packages\\Python310\\site-packages\\autots\\models\\base.py:616: RuntimeWarning: invalid value encountered in divide\n",
      "  smape_cons = (np.nansum(wsmape_df, axis=1) * 200) / np.count_nonzero(\n",
      "C:\\Users\\pgrady\\AppData\\Local\\Packages\\PythonSoftwareFoundation.Python.3.10_qbz5n2kfra8p0\\LocalCache\\local-packages\\Python310\\site-packages\\autots\\models\\base.py:616: RuntimeWarning: invalid value encountered in divide\n",
      "  smape_cons = (np.nansum(wsmape_df, axis=1) * 200) / np.count_nonzero(\n"
     ]
    },
    {
     "name": "stdout",
     "output_type": "stream",
     "text": [
      "📈 22 - ARIMA with avg smape 3.11: \n",
      "Model Number: 23 of 40 with model ARIMA for Validation 3\n",
      "Template Eval Error: Exception('Transformer Detrend failed on fit') in model 23: ARIMA\n",
      "Model Number: 24 of 40 with model ARIMA for Validation 3\n"
     ]
    },
    {
     "name": "stderr",
     "output_type": "stream",
     "text": [
      "C:\\Users\\pgrady\\AppData\\Local\\Packages\\PythonSoftwareFoundation.Python.3.10_qbz5n2kfra8p0\\LocalCache\\local-packages\\Python310\\site-packages\\autots\\models\\base.py:616: RuntimeWarning: invalid value encountered in divide\n",
      "  smape_cons = (np.nansum(wsmape_df, axis=1) * 200) / np.count_nonzero(\n"
     ]
    },
    {
     "name": "stdout",
     "output_type": "stream",
     "text": [
      "24 - ARIMA with avg smape 4.07: \n",
      "Model Number: 25 of 40 with model ARIMA for Validation 3\n"
     ]
    },
    {
     "name": "stderr",
     "output_type": "stream",
     "text": [
      "C:\\Users\\pgrady\\AppData\\Local\\Packages\\PythonSoftwareFoundation.Python.3.10_qbz5n2kfra8p0\\LocalCache\\local-packages\\Python310\\site-packages\\autots\\models\\base.py:616: RuntimeWarning: invalid value encountered in divide\n",
      "  smape_cons = (np.nansum(wsmape_df, axis=1) * 200) / np.count_nonzero(\n"
     ]
    },
    {
     "name": "stdout",
     "output_type": "stream",
     "text": [
      "25 - ARIMA with avg smape 7.93: \n",
      "Model Number: 26 of 40 with model ARIMA for Validation 3\n",
      "26 - ARIMA with avg smape 4.58: \n",
      "Model Number: 27 of 40 with model ARIMA for Validation 3\n",
      "Template Eval Error: Exception('Transformer Detrend failed on fit') in model 27: ARIMA\n",
      "Model Number: 28 of 40 with model ETS for Validation 3\n",
      "Template Eval Error: ValueError('Model ETS returned NaN for one or more series. fail_on_forecast_nan=True') in model 28: ETS\n",
      "Model Number: 29 of 40 with model ETS for Validation 3\n",
      "📈 29 - ETS with avg smape 3.04: \n",
      "Model Number: 30 of 40 with model ETS for Validation 3\n"
     ]
    },
    {
     "name": "stderr",
     "output_type": "stream",
     "text": [
      "C:\\Users\\pgrady\\AppData\\Local\\Packages\\PythonSoftwareFoundation.Python.3.10_qbz5n2kfra8p0\\LocalCache\\local-packages\\Python310\\site-packages\\autots\\models\\base.py:616: RuntimeWarning: invalid value encountered in divide\n",
      "  smape_cons = (np.nansum(wsmape_df, axis=1) * 200) / np.count_nonzero(\n",
      "C:\\Users\\pgrady\\AppData\\Local\\Packages\\PythonSoftwareFoundation.Python.3.10_qbz5n2kfra8p0\\LocalCache\\local-packages\\Python310\\site-packages\\autots\\tools\\window_functions.py:478: RuntimeWarning: invalid value encountered in divide\n",
      "  slope = (sxy - sx * sy) / (sx2 - sx**2)\n",
      "C:\\Users\\pgrady\\AppData\\Local\\Packages\\PythonSoftwareFoundation.Python.3.10_qbz5n2kfra8p0\\LocalCache\\local-packages\\Python310\\site-packages\\autots\\models\\base.py:616: RuntimeWarning: invalid value encountered in divide\n",
      "  smape_cons = (np.nansum(wsmape_df, axis=1) * 200) / np.count_nonzero(\n"
     ]
    },
    {
     "name": "stdout",
     "output_type": "stream",
     "text": [
      "30 - ETS with avg smape 5.3: \n",
      "Model Number: 31 of 40 with model ETS for Validation 3\n",
      "31 - ETS with avg smape 5.31: \n",
      "Model Number: 32 of 40 with model FBProphet for Validation 3\n"
     ]
    },
    {
     "name": "stderr",
     "output_type": "stream",
     "text": [
      "C:\\Users\\pgrady\\AppData\\Local\\Packages\\PythonSoftwareFoundation.Python.3.10_qbz5n2kfra8p0\\LocalCache\\local-packages\\Python310\\site-packages\\autots\\models\\base.py:616: RuntimeWarning: invalid value encountered in divide\n",
      "  smape_cons = (np.nansum(wsmape_df, axis=1) * 200) / np.count_nonzero(\n",
      "C:\\Users\\pgrady\\AppData\\Local\\Packages\\PythonSoftwareFoundation.Python.3.10_qbz5n2kfra8p0\\LocalCache\\local-packages\\Python310\\site-packages\\autots\\models\\base.py:616: RuntimeWarning: invalid value encountered in divide\n",
      "  smape_cons = (np.nansum(wsmape_df, axis=1) * 200) / np.count_nonzero(\n",
      "14:02:35 - cmdstanpy - INFO - Chain [1] start processing\n",
      "14:02:36 - cmdstanpy - INFO - Chain [1] done processing\n"
     ]
    },
    {
     "name": "stdout",
     "output_type": "stream",
     "text": [
      "📈 32 - FBProphet with avg smape 0.83: \n",
      "Model Number: 33 of 40 with model SeasonalNaive for Validation 3\n"
     ]
    },
    {
     "name": "stderr",
     "output_type": "stream",
     "text": [
      "C:\\Users\\pgrady\\AppData\\Local\\Packages\\PythonSoftwareFoundation.Python.3.10_qbz5n2kfra8p0\\LocalCache\\local-packages\\Python310\\site-packages\\autots\\models\\base.py:616: RuntimeWarning: invalid value encountered in divide\n",
      "  smape_cons = (np.nansum(wsmape_df, axis=1) * 200) / np.count_nonzero(\n"
     ]
    },
    {
     "name": "stdout",
     "output_type": "stream",
     "text": [
      "33 - SeasonalNaive with avg smape 4.85: \n",
      "Model Number: 34 of 40 with model ETS for Validation 3\n",
      "Template Eval Error: ValueError('Model ETS returned NaN for one or more series. fail_on_forecast_nan=True') in model 34: ETS\n",
      "Model Number: 35 of 40 with model ETS for Validation 3\n",
      "Template Eval Error: ValueError('Model ETS returned NaN for one or more series. fail_on_forecast_nan=True') in model 35: ETS\n",
      "Model Number: 36 of 40 with model ETS for Validation 3\n"
     ]
    },
    {
     "name": "stderr",
     "output_type": "stream",
     "text": [
      "C:\\Users\\pgrady\\AppData\\Local\\Packages\\PythonSoftwareFoundation.Python.3.10_qbz5n2kfra8p0\\LocalCache\\local-packages\\Python310\\site-packages\\autots\\models\\base.py:616: RuntimeWarning: invalid value encountered in divide\n",
      "  smape_cons = (np.nansum(wsmape_df, axis=1) * 200) / np.count_nonzero(\n",
      "C:\\Users\\pgrady\\AppData\\Local\\Packages\\PythonSoftwareFoundation.Python.3.10_qbz5n2kfra8p0\\LocalCache\\local-packages\\Python310\\site-packages\\autots\\tools\\window_functions.py:478: RuntimeWarning: invalid value encountered in divide\n",
      "  slope = (sxy - sx * sy) / (sx2 - sx**2)\n",
      "C:\\Users\\pgrady\\AppData\\Local\\Packages\\PythonSoftwareFoundation.Python.3.10_qbz5n2kfra8p0\\LocalCache\\local-packages\\Python310\\site-packages\\autots\\tools\\window_functions.py:478: RuntimeWarning: invalid value encountered in divide\n",
      "  slope = (sxy - sx * sy) / (sx2 - sx**2)\n"
     ]
    },
    {
     "name": "stdout",
     "output_type": "stream",
     "text": [
      "36 - ETS with avg smape 1.47: \n",
      "Model Number: 37 of 40 with model FBProphet for Validation 3\n"
     ]
    },
    {
     "name": "stderr",
     "output_type": "stream",
     "text": [
      "C:\\Users\\pgrady\\AppData\\Local\\Packages\\PythonSoftwareFoundation.Python.3.10_qbz5n2kfra8p0\\LocalCache\\local-packages\\Python310\\site-packages\\autots\\models\\base.py:616: RuntimeWarning: invalid value encountered in divide\n",
      "  smape_cons = (np.nansum(wsmape_df, axis=1) * 200) / np.count_nonzero(\n",
      "14:02:36 - cmdstanpy - INFO - Chain [1] start processing\n",
      "14:02:37 - cmdstanpy - INFO - Chain [1] done processing\n"
     ]
    },
    {
     "name": "stdout",
     "output_type": "stream",
     "text": [
      "37 - FBProphet with avg smape 5.33: \n",
      "Model Number: 38 of 40 with model ETS for Validation 3\n"
     ]
    },
    {
     "name": "stderr",
     "output_type": "stream",
     "text": [
      "C:\\Users\\pgrady\\AppData\\Local\\Packages\\PythonSoftwareFoundation.Python.3.10_qbz5n2kfra8p0\\LocalCache\\local-packages\\Python310\\site-packages\\autots\\models\\base.py:616: RuntimeWarning: invalid value encountered in divide\n",
      "  smape_cons = (np.nansum(wsmape_df, axis=1) * 200) / np.count_nonzero(\n",
      "C:\\Users\\pgrady\\AppData\\Local\\Packages\\PythonSoftwareFoundation.Python.3.10_qbz5n2kfra8p0\\LocalCache\\local-packages\\Python310\\site-packages\\autots\\models\\base.py:616: RuntimeWarning: invalid value encountered in divide\n",
      "  smape_cons = (np.nansum(wsmape_df, axis=1) * 200) / np.count_nonzero(\n"
     ]
    },
    {
     "name": "stdout",
     "output_type": "stream",
     "text": [
      "38 - ETS with avg smape 5.3: \n",
      "Model Number: 39 of 40 with model ETS for Validation 3\n",
      "39 - ETS with avg smape 1.67: \n",
      "Model Number: 40 of 40 with model FBProphet for Validation 3\n"
     ]
    },
    {
     "name": "stderr",
     "output_type": "stream",
     "text": [
      "C:\\Users\\pgrady\\AppData\\Local\\Packages\\PythonSoftwareFoundation.Python.3.10_qbz5n2kfra8p0\\LocalCache\\local-packages\\Python310\\site-packages\\autots\\models\\base.py:616: RuntimeWarning: invalid value encountered in divide\n",
      "  smape_cons = (np.nansum(wsmape_df, axis=1) * 200) / np.count_nonzero(\n",
      "14:02:37 - cmdstanpy - INFO - Chain [1] start processing\n",
      "14:02:38 - cmdstanpy - INFO - Chain [1] done processing\n"
     ]
    },
    {
     "name": "stdout",
     "output_type": "stream",
     "text": [
      "40 - FBProphet with avg smape 1.08: \n"
     ]
    },
    {
     "name": "stderr",
     "output_type": "stream",
     "text": [
      "C:\\Users\\pgrady\\AppData\\Local\\Packages\\PythonSoftwareFoundation.Python.3.10_qbz5n2kfra8p0\\LocalCache\\local-packages\\Python310\\site-packages\\autots\\models\\base.py:616: RuntimeWarning: invalid value encountered in divide\n",
      "  smape_cons = (np.nansum(wsmape_df, axis=1) * 200) / np.count_nonzero(\n"
     ]
    },
    {
     "data": {
      "text/plain": [
       "Initiated AutoTS object with best model: \n",
       "ETS\n",
       "{'fillna': 'rolling_mean', 'transformations': {'0': 'ClipOutliers', '1': 'Round', '2': 'Detrend'}, 'transformation_params': {'0': {'method': 'clip', 'std_threshold': 3, 'fillna': None}, '1': {'model': 'middle', 'decimals': 0, 'on_transform': False, 'on_inverse': True}, '2': {'model': 'GLS'}}}\n",
       "{'damped_trend': False, 'trend': 'additive', 'seasonal': None, 'seasonal_periods': None}\n",
       "SMAPE: 3.2680622582033076, 1.4227603227112893, nan, 1.4684111263835768\n",
       "MAE: 3.3333333333333335, 1.361111113333332, nan, 1.4166666666666667\n",
       "SPL: 0.7693498449630494, 0.8020565550637384, nan, 0.682587526020627"
      ]
     },
     "execution_count": 13,
     "metadata": {},
     "output_type": "execute_result"
    }
   ],
   "source": [
    "#Define date_col, value_col and id_col on model fit - If no id_col set id_col = none as shown in code below\n",
    "model = AutoTS(forecast_length=6, model_list=model_list)\n",
    "model.fit(train, date_col=\"Date\", value_col=\"SG_Y\", id_col=None)"
   ]
  },
  {
   "cell_type": "code",
   "execution_count": null,
   "metadata": {},
   "outputs": [],
   "source": [
    "#prediction = model.predict()"
   ]
  },
  {
   "cell_type": "code",
   "execution_count": null,
   "metadata": {},
   "outputs": [],
   "source": [
    "# plot a sample\n",
    "#prediction.plot(model.df_wide_numeric,series=model.df_wide_numeric.columns[0],start_date=\"1956-01-01\")"
   ]
  },
  {
   "cell_type": "code",
   "execution_count": 14,
   "metadata": {},
   "outputs": [
    {
     "name": "stdout",
     "output_type": "stream",
     "text": [
      "Initiated AutoTS object with best model: \n",
      "ETS\n",
      "{'fillna': 'rolling_mean', 'transformations': {'0': 'ClipOutliers', '1': 'Round', '2': 'Detrend'}, 'transformation_params': {'0': {'method': 'clip', 'std_threshold': 3, 'fillna': None}, '1': {'model': 'middle', 'decimals': 0, 'on_transform': False, 'on_inverse': True}, '2': {'model': 'GLS'}}}\n",
      "{'damped_trend': False, 'trend': 'additive', 'seasonal': None, 'seasonal_periods': None}\n",
      "SMAPE: 3.2680622582033076, 1.4227603227112893, nan, 1.4684111263835768\n",
      "MAE: 3.3333333333333335, 1.361111113333332, nan, 1.4166666666666667\n",
      "SPL: 0.7693498449630494, 0.8020565550637384, nan, 0.682587526020627\n"
     ]
    }
   ],
   "source": [
    "# Print the details of the best model\n",
    "print(model)"
   ]
  },
  {
   "cell_type": "code",
   "execution_count": 15,
   "metadata": {},
   "outputs": [
    {
     "data": {
      "text/html": [
       "<div>\n",
       "<style scoped>\n",
       "    .dataframe tbody tr th:only-of-type {\n",
       "        vertical-align: middle;\n",
       "    }\n",
       "\n",
       "    .dataframe tbody tr th {\n",
       "        vertical-align: top;\n",
       "    }\n",
       "\n",
       "    .dataframe thead th {\n",
       "        text-align: right;\n",
       "    }\n",
       "</style>\n",
       "<table border=\"1\" class=\"dataframe\">\n",
       "  <thead>\n",
       "    <tr style=\"text-align: right;\">\n",
       "      <th></th>\n",
       "      <th>ID</th>\n",
       "      <th>Model</th>\n",
       "      <th>ModelParameters</th>\n",
       "      <th>TransformationParameters</th>\n",
       "      <th>Ensemble</th>\n",
       "      <th>Runs</th>\n",
       "      <th>smape</th>\n",
       "      <th>mae</th>\n",
       "      <th>rmse</th>\n",
       "      <th>made</th>\n",
       "      <th>...</th>\n",
       "      <th>imle_weighted</th>\n",
       "      <th>spl_weighted</th>\n",
       "      <th>maxe_weighted</th>\n",
       "      <th>oda_weighted</th>\n",
       "      <th>dwae_weighted</th>\n",
       "      <th>mqae_weighted</th>\n",
       "      <th>containment_weighted</th>\n",
       "      <th>contour_weighted</th>\n",
       "      <th>TotalRuntimeSeconds</th>\n",
       "      <th>Score</th>\n",
       "    </tr>\n",
       "  </thead>\n",
       "  <tbody>\n",
       "    <tr>\n",
       "      <th>0</th>\n",
       "      <td>000b6c7a64401dd70fec6ec2978b1491</td>\n",
       "      <td>ARIMA</td>\n",
       "      <td>{\"p\": 2, \"d\": 0, \"q\": 2, \"regression_type\": \"H...</td>\n",
       "      <td>{\"fillna\": \"ffill\", \"transformations\": {\"0\": \"...</td>\n",
       "      <td>0</td>\n",
       "      <td>1</td>\n",
       "      <td>2.316156</td>\n",
       "      <td>2.423401</td>\n",
       "      <td>2.867593</td>\n",
       "      <td>1.383611</td>\n",
       "      <td>...</td>\n",
       "      <td>2.020180</td>\n",
       "      <td>3.193584</td>\n",
       "      <td>5.144475</td>\n",
       "      <td>1.000000</td>\n",
       "      <td>1.604863</td>\n",
       "      <td>1.879186</td>\n",
       "      <td>0.166667</td>\n",
       "      <td>0.666667</td>\n",
       "      <td>0.2673</td>\n",
       "      <td>66.586756</td>\n",
       "    </tr>\n",
       "    <tr>\n",
       "      <th>1</th>\n",
       "      <td>007c2d2f6316d42e5a3ddf5ea39a7d1b</td>\n",
       "      <td>ARIMA</td>\n",
       "      <td>{\"p\": 2, \"d\": 2, \"q\": 5, \"regression_type\": \"H...</td>\n",
       "      <td>{\"fillna\": \"akima\", \"transformations\": {\"0\": \"...</td>\n",
       "      <td>0</td>\n",
       "      <td>1</td>\n",
       "      <td>4.149241</td>\n",
       "      <td>4.471488</td>\n",
       "      <td>5.992628</td>\n",
       "      <td>1.828889</td>\n",
       "      <td>...</td>\n",
       "      <td>4.265481</td>\n",
       "      <td>1.710114</td>\n",
       "      <td>11.639128</td>\n",
       "      <td>1.000000</td>\n",
       "      <td>1.976654</td>\n",
       "      <td>3.037960</td>\n",
       "      <td>1.000000</td>\n",
       "      <td>0.666667</td>\n",
       "      <td>0.6420</td>\n",
       "      <td>83.098819</td>\n",
       "    </tr>\n",
       "    <tr>\n",
       "      <th>2</th>\n",
       "      <td>008b083605243e6109128f6d0d270ca0</td>\n",
       "      <td>Theta</td>\n",
       "      <td>{\"deseasonalize\": true, \"difference\": false, \"...</td>\n",
       "      <td>{\"fillna\": \"mean\", \"transformations\": {\"0\": \"D...</td>\n",
       "      <td>0</td>\n",
       "      <td>1</td>\n",
       "      <td>2.677405</td>\n",
       "      <td>2.734668</td>\n",
       "      <td>2.892484</td>\n",
       "      <td>1.257378</td>\n",
       "      <td>...</td>\n",
       "      <td>1.454324</td>\n",
       "      <td>0.887624</td>\n",
       "      <td>4.018525</td>\n",
       "      <td>1.000000</td>\n",
       "      <td>1.666721</td>\n",
       "      <td>2.477897</td>\n",
       "      <td>1.000000</td>\n",
       "      <td>0.500000</td>\n",
       "      <td>0.1472</td>\n",
       "      <td>53.806634</td>\n",
       "    </tr>\n",
       "    <tr>\n",
       "      <th>3</th>\n",
       "      <td>0181278de69621582f7c03c262606646</td>\n",
       "      <td>ETS</td>\n",
       "      <td>{\"damped_trend\": false, \"trend\": null, \"season...</td>\n",
       "      <td>{\"fillna\": \"zero\", \"transformations\": {\"0\": \"M...</td>\n",
       "      <td>0</td>\n",
       "      <td>1</td>\n",
       "      <td>200.000000</td>\n",
       "      <td>103.166667</td>\n",
       "      <td>103.187991</td>\n",
       "      <td>11.477038</td>\n",
       "      <td>...</td>\n",
       "      <td>4.645784</td>\n",
       "      <td>25.291811</td>\n",
       "      <td>104.416667</td>\n",
       "      <td>0.000000</td>\n",
       "      <td>83.212640</td>\n",
       "      <td>102.916667</td>\n",
       "      <td>0.000000</td>\n",
       "      <td>0.333333</td>\n",
       "      <td>0.0502</td>\n",
       "      <td>2274.357576</td>\n",
       "    </tr>\n",
       "    <tr>\n",
       "      <th>4</th>\n",
       "      <td>04006281338d1efcea29eea3b4911d1c</td>\n",
       "      <td>ARIMA</td>\n",
       "      <td>{\"p\": 2, \"d\": 0, \"q\": 4, \"regression_type\": null}</td>\n",
       "      <td>{\"fillna\": \"ffill\", \"transformations\": {\"0\": \"...</td>\n",
       "      <td>0</td>\n",
       "      <td>1</td>\n",
       "      <td>4.805821</td>\n",
       "      <td>4.862246</td>\n",
       "      <td>5.228598</td>\n",
       "      <td>0.890752</td>\n",
       "      <td>...</td>\n",
       "      <td>1.665503</td>\n",
       "      <td>2.186121</td>\n",
       "      <td>6.211038</td>\n",
       "      <td>0.666667</td>\n",
       "      <td>2.803470</td>\n",
       "      <td>4.592488</td>\n",
       "      <td>0.166667</td>\n",
       "      <td>0.500000</td>\n",
       "      <td>0.5352</td>\n",
       "      <td>90.373012</td>\n",
       "    </tr>\n",
       "    <tr>\n",
       "      <th>...</th>\n",
       "      <td>...</td>\n",
       "      <td>...</td>\n",
       "      <td>...</td>\n",
       "      <td>...</td>\n",
       "      <td>...</td>\n",
       "      <td>...</td>\n",
       "      <td>...</td>\n",
       "      <td>...</td>\n",
       "      <td>...</td>\n",
       "      <td>...</td>\n",
       "      <td>...</td>\n",
       "      <td>...</td>\n",
       "      <td>...</td>\n",
       "      <td>...</td>\n",
       "      <td>...</td>\n",
       "      <td>...</td>\n",
       "      <td>...</td>\n",
       "      <td>...</td>\n",
       "      <td>...</td>\n",
       "      <td>...</td>\n",
       "      <td>...</td>\n",
       "    </tr>\n",
       "    <tr>\n",
       "      <th>245</th>\n",
       "      <td>fb0246e64015b5a74eb73e0521ccd088</td>\n",
       "      <td>Theta</td>\n",
       "      <td>{\"deseasonalize\": true, \"difference\": true, \"u...</td>\n",
       "      <td>{\"fillna\": \"ffill\", \"transformations\": {\"0\": \"...</td>\n",
       "      <td>0</td>\n",
       "      <td>1</td>\n",
       "      <td>6.277477</td>\n",
       "      <td>6.291961</td>\n",
       "      <td>6.494045</td>\n",
       "      <td>1.222392</td>\n",
       "      <td>...</td>\n",
       "      <td>1.958899</td>\n",
       "      <td>1.112141</td>\n",
       "      <td>8.264160</td>\n",
       "      <td>0.333333</td>\n",
       "      <td>4.767047</td>\n",
       "      <td>5.897522</td>\n",
       "      <td>0.666667</td>\n",
       "      <td>0.500000</td>\n",
       "      <td>0.1244</td>\n",
       "      <td>101.158507</td>\n",
       "    </tr>\n",
       "    <tr>\n",
       "      <th>246</th>\n",
       "      <td>fb2f3535fe4c2606ac86aa481501c04f</td>\n",
       "      <td>SeasonalNaive</td>\n",
       "      <td>{\"method\": \"lastvalue\", \"lag_1\": 364, \"lag_2\": 1}</td>\n",
       "      <td>{\"fillna\": \"pad\", \"transformations\": {\"0\": \"Se...</td>\n",
       "      <td>0</td>\n",
       "      <td>1</td>\n",
       "      <td>11.226916</td>\n",
       "      <td>10.935651</td>\n",
       "      <td>11.335064</td>\n",
       "      <td>2.538008</td>\n",
       "      <td>...</td>\n",
       "      <td>2.446822</td>\n",
       "      <td>4.360755</td>\n",
       "      <td>14.937500</td>\n",
       "      <td>0.000000</td>\n",
       "      <td>9.229542</td>\n",
       "      <td>10.135281</td>\n",
       "      <td>0.000000</td>\n",
       "      <td>0.333333</td>\n",
       "      <td>0.0623</td>\n",
       "      <td>190.960181</td>\n",
       "    </tr>\n",
       "    <tr>\n",
       "      <th>247</th>\n",
       "      <td>fbc5c07852c389b925b462780305de5c</td>\n",
       "      <td>ETS</td>\n",
       "      <td>{\"damped_trend\": false, \"trend\": null, \"season...</td>\n",
       "      <td>{\"fillna\": \"ffill_mean_biased\", \"transformatio...</td>\n",
       "      <td>0</td>\n",
       "      <td>1</td>\n",
       "      <td>5.114701</td>\n",
       "      <td>5.166258</td>\n",
       "      <td>5.575854</td>\n",
       "      <td>0.857818</td>\n",
       "      <td>...</td>\n",
       "      <td>1.700479</td>\n",
       "      <td>1.062373</td>\n",
       "      <td>6.416084</td>\n",
       "      <td>1.000000</td>\n",
       "      <td>2.087790</td>\n",
       "      <td>4.916293</td>\n",
       "      <td>0.333333</td>\n",
       "      <td>0.666667</td>\n",
       "      <td>0.1118</td>\n",
       "      <td>84.817622</td>\n",
       "    </tr>\n",
       "    <tr>\n",
       "      <th>248</th>\n",
       "      <td>fe186e37743d11c4fbf936ea88d1eead</td>\n",
       "      <td>Theta</td>\n",
       "      <td>{\"deseasonalize\": true, \"difference\": true, \"u...</td>\n",
       "      <td>{\"fillna\": \"ffill_mean_biased\", \"transformatio...</td>\n",
       "      <td>0</td>\n",
       "      <td>1</td>\n",
       "      <td>1.334853</td>\n",
       "      <td>1.365394</td>\n",
       "      <td>2.291086</td>\n",
       "      <td>1.357865</td>\n",
       "      <td>...</td>\n",
       "      <td>1.365394</td>\n",
       "      <td>0.939039</td>\n",
       "      <td>5.376652</td>\n",
       "      <td>1.000000</td>\n",
       "      <td>1.373942</td>\n",
       "      <td>0.563142</td>\n",
       "      <td>0.833333</td>\n",
       "      <td>0.666667</td>\n",
       "      <td>0.1319</td>\n",
       "      <td>37.854585</td>\n",
       "    </tr>\n",
       "    <tr>\n",
       "      <th>249</th>\n",
       "      <td>fe4c56484681bb637dcbb8c954569578</td>\n",
       "      <td>Theta</td>\n",
       "      <td>{\"deseasonalize\": true, \"difference\": true, \"u...</td>\n",
       "      <td>{\"fillna\": \"ffill_mean_biased\", \"transformatio...</td>\n",
       "      <td>0</td>\n",
       "      <td>1</td>\n",
       "      <td>2.147988</td>\n",
       "      <td>2.198696</td>\n",
       "      <td>2.249606</td>\n",
       "      <td>1.095803</td>\n",
       "      <td>...</td>\n",
       "      <td>1.407960</td>\n",
       "      <td>0.670786</td>\n",
       "      <td>2.901817</td>\n",
       "      <td>1.000000</td>\n",
       "      <td>1.558683</td>\n",
       "      <td>2.058072</td>\n",
       "      <td>0.833333</td>\n",
       "      <td>0.666667</td>\n",
       "      <td>0.1182</td>\n",
       "      <td>43.884315</td>\n",
       "    </tr>\n",
       "  </tbody>\n",
       "</table>\n",
       "<p>250 rows × 36 columns</p>\n",
       "</div>"
      ],
      "text/plain": [
       "                                   ID          Model  \\\n",
       "0    000b6c7a64401dd70fec6ec2978b1491          ARIMA   \n",
       "1    007c2d2f6316d42e5a3ddf5ea39a7d1b          ARIMA   \n",
       "2    008b083605243e6109128f6d0d270ca0          Theta   \n",
       "3    0181278de69621582f7c03c262606646            ETS   \n",
       "4    04006281338d1efcea29eea3b4911d1c          ARIMA   \n",
       "..                                ...            ...   \n",
       "245  fb0246e64015b5a74eb73e0521ccd088          Theta   \n",
       "246  fb2f3535fe4c2606ac86aa481501c04f  SeasonalNaive   \n",
       "247  fbc5c07852c389b925b462780305de5c            ETS   \n",
       "248  fe186e37743d11c4fbf936ea88d1eead          Theta   \n",
       "249  fe4c56484681bb637dcbb8c954569578          Theta   \n",
       "\n",
       "                                       ModelParameters  \\\n",
       "0    {\"p\": 2, \"d\": 0, \"q\": 2, \"regression_type\": \"H...   \n",
       "1    {\"p\": 2, \"d\": 2, \"q\": 5, \"regression_type\": \"H...   \n",
       "2    {\"deseasonalize\": true, \"difference\": false, \"...   \n",
       "3    {\"damped_trend\": false, \"trend\": null, \"season...   \n",
       "4    {\"p\": 2, \"d\": 0, \"q\": 4, \"regression_type\": null}   \n",
       "..                                                 ...   \n",
       "245  {\"deseasonalize\": true, \"difference\": true, \"u...   \n",
       "246  {\"method\": \"lastvalue\", \"lag_1\": 364, \"lag_2\": 1}   \n",
       "247  {\"damped_trend\": false, \"trend\": null, \"season...   \n",
       "248  {\"deseasonalize\": true, \"difference\": true, \"u...   \n",
       "249  {\"deseasonalize\": true, \"difference\": true, \"u...   \n",
       "\n",
       "                              TransformationParameters  Ensemble  Runs  \\\n",
       "0    {\"fillna\": \"ffill\", \"transformations\": {\"0\": \"...         0     1   \n",
       "1    {\"fillna\": \"akima\", \"transformations\": {\"0\": \"...         0     1   \n",
       "2    {\"fillna\": \"mean\", \"transformations\": {\"0\": \"D...         0     1   \n",
       "3    {\"fillna\": \"zero\", \"transformations\": {\"0\": \"M...         0     1   \n",
       "4    {\"fillna\": \"ffill\", \"transformations\": {\"0\": \"...         0     1   \n",
       "..                                                 ...       ...   ...   \n",
       "245  {\"fillna\": \"ffill\", \"transformations\": {\"0\": \"...         0     1   \n",
       "246  {\"fillna\": \"pad\", \"transformations\": {\"0\": \"Se...         0     1   \n",
       "247  {\"fillna\": \"ffill_mean_biased\", \"transformatio...         0     1   \n",
       "248  {\"fillna\": \"ffill_mean_biased\", \"transformatio...         0     1   \n",
       "249  {\"fillna\": \"ffill_mean_biased\", \"transformatio...         0     1   \n",
       "\n",
       "          smape         mae        rmse       made  ...  imle_weighted  \\\n",
       "0      2.316156    2.423401    2.867593   1.383611  ...       2.020180   \n",
       "1      4.149241    4.471488    5.992628   1.828889  ...       4.265481   \n",
       "2      2.677405    2.734668    2.892484   1.257378  ...       1.454324   \n",
       "3    200.000000  103.166667  103.187991  11.477038  ...       4.645784   \n",
       "4      4.805821    4.862246    5.228598   0.890752  ...       1.665503   \n",
       "..          ...         ...         ...        ...  ...            ...   \n",
       "245    6.277477    6.291961    6.494045   1.222392  ...       1.958899   \n",
       "246   11.226916   10.935651   11.335064   2.538008  ...       2.446822   \n",
       "247    5.114701    5.166258    5.575854   0.857818  ...       1.700479   \n",
       "248    1.334853    1.365394    2.291086   1.357865  ...       1.365394   \n",
       "249    2.147988    2.198696    2.249606   1.095803  ...       1.407960   \n",
       "\n",
       "     spl_weighted  maxe_weighted  oda_weighted  dwae_weighted  mqae_weighted  \\\n",
       "0        3.193584       5.144475      1.000000       1.604863       1.879186   \n",
       "1        1.710114      11.639128      1.000000       1.976654       3.037960   \n",
       "2        0.887624       4.018525      1.000000       1.666721       2.477897   \n",
       "3       25.291811     104.416667      0.000000      83.212640     102.916667   \n",
       "4        2.186121       6.211038      0.666667       2.803470       4.592488   \n",
       "..            ...            ...           ...            ...            ...   \n",
       "245      1.112141       8.264160      0.333333       4.767047       5.897522   \n",
       "246      4.360755      14.937500      0.000000       9.229542      10.135281   \n",
       "247      1.062373       6.416084      1.000000       2.087790       4.916293   \n",
       "248      0.939039       5.376652      1.000000       1.373942       0.563142   \n",
       "249      0.670786       2.901817      1.000000       1.558683       2.058072   \n",
       "\n",
       "     containment_weighted  contour_weighted  TotalRuntimeSeconds        Score  \n",
       "0                0.166667          0.666667               0.2673    66.586756  \n",
       "1                1.000000          0.666667               0.6420    83.098819  \n",
       "2                1.000000          0.500000               0.1472    53.806634  \n",
       "3                0.000000          0.333333               0.0502  2274.357576  \n",
       "4                0.166667          0.500000               0.5352    90.373012  \n",
       "..                    ...               ...                  ...          ...  \n",
       "245              0.666667          0.500000               0.1244   101.158507  \n",
       "246              0.000000          0.333333               0.0623   190.960181  \n",
       "247              0.333333          0.666667               0.1118    84.817622  \n",
       "248              0.833333          0.666667               0.1319    37.854585  \n",
       "249              0.833333          0.666667               0.1182    43.884315  \n",
       "\n",
       "[250 rows x 36 columns]"
      ]
     },
     "execution_count": 15,
     "metadata": {},
     "output_type": "execute_result"
    }
   ],
   "source": [
    "# accuracy of all tried model results\n",
    "model_results = model.results()\n",
    "# and aggregated from cross validation\n",
    "validation_results = model.results(\"validation\")\n",
    "validation_results\n"
   ]
  },
  {
   "cell_type": "code",
   "execution_count": 16,
   "metadata": {},
   "outputs": [],
   "source": [
    "#Print validation results to csv\n",
    "validation_results.to_csv('AutoTS_Evaluations_Inequalities_SGY.csv', index=False)"
   ]
  }
 ],
 "metadata": {
  "kernelspec": {
   "display_name": "Python 3.10.9 64-bit (microsoft store)",
   "language": "python",
   "name": "python3"
  },
  "language_info": {
   "codemirror_mode": {
    "name": "ipython",
    "version": 3
   },
   "file_extension": ".py",
   "mimetype": "text/x-python",
   "name": "python",
   "nbconvert_exporter": "python",
   "pygments_lexer": "ipython3",
   "version": "3.10.10"
  },
  "orig_nbformat": 4,
  "vscode": {
   "interpreter": {
    "hash": "9eb92a4ab26d26848c8c97605f0707ae8c7b8fcfac58dddfca39ef7715bb137d"
   }
  }
 },
 "nbformat": 4,
 "nbformat_minor": 2
}
