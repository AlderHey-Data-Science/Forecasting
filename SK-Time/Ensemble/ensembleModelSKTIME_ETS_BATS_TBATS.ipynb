{
 "cells": [
  {
   "cell_type": "code",
   "execution_count": 1,
   "metadata": {},
   "outputs": [],
   "source": [
    "#   IMPORTS\n",
    "from sktime.utils.plotting import plot_series\n",
    "from sktime.forecasting.base import ForecastingHorizon\n",
    "from sktime.forecasting.model_selection import temporal_train_test_split\n",
    "from sktime.forecasting.naive import NaiveForecaster\n",
    "from sktime.performance_metrics.forecasting import MeanAbsolutePercentageError\n",
    "from sktime.performance_metrics.forecasting import mean_absolute_error\n",
    "from sktime.forecasting.compose import make_reduction\n",
    "from sktime.forecasting.fbprophet import Prophet\n",
    "from sktime.forecasting.ets import AutoETS\n",
    "from sktime.forecasting.exp_smoothing import ExponentialSmoothing\n",
    "from sktime.forecasting.bats import BATS\n",
    "from sktime.forecasting.tbats import TBATS\n",
    "from sktime.forecasting.var import VAR\n",
    "from sktime.forecasting.arima import AutoARIMA\n",
    "from sktime.forecasting.arima import ARIMA\n",
    "from sktime.forecasting.sarimax import SARIMAX\n",
    "from sktime.forecasting.theta import ThetaForecaster\n",
    "from sktime.forecasting.trend import TrendForecaster\n",
    "from sktime.forecasting.compose import EnsembleForecaster\n",
    "\n",
    "from xgboost import XGBRegressor\n",
    "from lightgbm import LGBMRegressor\n",
    "from prophet.forecaster import Prophet \n",
    "\n",
    "from sklearn.neighbors import KNeighborsRegressor\n",
    "from sklearn.ensemble import RandomForestRegressor\n",
    "from sklearn.tree import DecisionTreeRegressor\n",
    "from sklearn.ensemble import GradientBoostingRegressor\n",
    "from sklearn.ensemble import StackingRegressor\n",
    "from sklearn.ensemble import BaggingRegressor\n",
    "from sklearn.ensemble import BaseEnsemble\n",
    "from sklearn.metrics import mean_squared_log_error\n",
    "\n",
    "from pandas import read_csv\n",
    "import pandas as pd \n",
    "import numpy as np\n",
    "import warnings\n",
    "import datetime\n",
    "import warnings\n",
    "warnings.filterwarnings(\"ignore\")"
   ]
  },
  {
   "cell_type": "code",
   "execution_count": 2,
   "metadata": {},
   "outputs": [
    {
     "data": {
      "text/html": [
       "<div>\n",
       "<style scoped>\n",
       "    .dataframe tbody tr th:only-of-type {\n",
       "        vertical-align: middle;\n",
       "    }\n",
       "\n",
       "    .dataframe tbody tr th {\n",
       "        vertical-align: top;\n",
       "    }\n",
       "\n",
       "    .dataframe thead th {\n",
       "        text-align: right;\n",
       "    }\n",
       "</style>\n",
       "<table border=\"1\" class=\"dataframe\">\n",
       "  <thead>\n",
       "    <tr style=\"text-align: right;\">\n",
       "      <th></th>\n",
       "      <th>Date</th>\n",
       "      <th>Births</th>\n",
       "    </tr>\n",
       "  </thead>\n",
       "  <tbody>\n",
       "    <tr>\n",
       "      <th>0</th>\n",
       "      <td>1959-01-01</td>\n",
       "      <td>35</td>\n",
       "    </tr>\n",
       "    <tr>\n",
       "      <th>1</th>\n",
       "      <td>1959-01-02</td>\n",
       "      <td>32</td>\n",
       "    </tr>\n",
       "    <tr>\n",
       "      <th>2</th>\n",
       "      <td>1959-01-03</td>\n",
       "      <td>30</td>\n",
       "    </tr>\n",
       "    <tr>\n",
       "      <th>3</th>\n",
       "      <td>1959-01-04</td>\n",
       "      <td>31</td>\n",
       "    </tr>\n",
       "    <tr>\n",
       "      <th>4</th>\n",
       "      <td>1959-01-05</td>\n",
       "      <td>44</td>\n",
       "    </tr>\n",
       "  </tbody>\n",
       "</table>\n",
       "</div>"
      ],
      "text/plain": [
       "         Date  Births\n",
       "0  1959-01-01      35\n",
       "1  1959-01-02      32\n",
       "2  1959-01-03      30\n",
       "3  1959-01-04      31\n",
       "4  1959-01-05      44"
      ]
     },
     "execution_count": 2,
     "metadata": {},
     "output_type": "execute_result"
    }
   ],
   "source": [
    "#   LOAD IN DATA\n",
    "data = pd.read_csv('daily-total-female-births.csv')\n",
    "#View head\n",
    "data.head()"
   ]
  },
  {
   "cell_type": "code",
   "execution_count": 3,
   "metadata": {},
   "outputs": [],
   "source": [
    "#   USER DEFINED\n",
    "#Set target_col to column name you want to forecast \n",
    "#Example uses column named SG_Y\n",
    "target_col = 'Births'"
   ]
  },
  {
   "cell_type": "code",
   "execution_count": 4,
   "metadata": {},
   "outputs": [
    {
     "data": {
      "text/plain": [
       "0      35\n",
       "1      32\n",
       "2      30\n",
       "3      31\n",
       "4      44\n",
       "       ..\n",
       "268    43\n",
       "269    40\n",
       "270    47\n",
       "271    51\n",
       "272    56\n",
       "Name: Births, Length: 273, dtype: int64"
      ]
     },
     "execution_count": 4,
     "metadata": {},
     "output_type": "execute_result"
    }
   ],
   "source": [
    "#Train/Test split - 75% / 25%  366 rows/100 * 25 = 91.5 aka 92\n",
    "y = data[target_col]\n",
    "y_train, y_test = temporal_train_test_split(y, test_size=92)\n",
    "y_train"
   ]
  },
  {
   "cell_type": "code",
   "execution_count": 5,
   "metadata": {},
   "outputs": [
    {
     "data": {
      "text/plain": [
       "array([ 1,  2,  3,  4,  5,  6,  7,  8,  9, 10, 11, 12, 13, 14, 15, 16, 17,\n",
       "       18, 19, 20, 21, 22, 23, 24, 25, 26, 27, 28, 29, 30, 31, 32, 33, 34,\n",
       "       35, 36, 37, 38, 39, 40, 41, 42, 43, 44, 45, 46, 47, 48, 49, 50, 51,\n",
       "       52, 53, 54, 55, 56, 57, 58, 59, 60, 61, 62, 63, 64, 65, 66, 67, 68,\n",
       "       69, 70, 71, 72, 73, 74, 75, 76, 77, 78, 79, 80, 81, 82, 83, 84, 85,\n",
       "       86, 87, 88, 89, 90, 91, 92])"
      ]
     },
     "execution_count": 5,
     "metadata": {},
     "output_type": "execute_result"
    }
   ],
   "source": [
    "#Set Forecasting horizon ------ Forecast Horizon = length of test\n",
    "fh = np.arange(1, len(y_test) +1)\n",
    "fh"
   ]
  },
  {
   "cell_type": "code",
   "execution_count": 6,
   "metadata": {},
   "outputs": [],
   "source": [
    "#Create estimator and mae score array to be appended with models in ensemble \n",
    "estimators=[]\n",
    "mae_scores=[]"
   ]
  },
  {
   "cell_type": "code",
   "execution_count": 7,
   "metadata": {},
   "outputs": [
    {
     "name": "stdout",
     "output_type": "stream",
     "text": [
      "AUTO ETS Model - MAE: 5.891\n",
      "AUTO ETS Model - RMSLE: 0.166\n",
      "--------Auto ETS Forecast--------\n"
     ]
    },
    {
     "data": {
      "text/plain": [
       "273    47.149352\n",
       "274    47.149352\n",
       "275    47.149352\n",
       "276    47.149352\n",
       "277    47.149352\n",
       "         ...    \n",
       "360    47.149352\n",
       "361    47.149352\n",
       "362    47.149352\n",
       "363    47.149352\n",
       "364    47.149352\n",
       "Length: 92, dtype: float64"
      ]
     },
     "execution_count": 7,
     "metadata": {},
     "output_type": "execute_result"
    }
   ],
   "source": [
    "#   Build Auto ETS Model and score MAE in sample Forecast\n",
    "model1 = AutoETS(auto=True, sp=12, n_jobs=1)\n",
    "#Append estimators array by adding model1\n",
    "estimators.append((\"Auto ETS\",model1))\n",
    "#Fits model on training data\n",
    "model1.fit(y_train)\n",
    "#Forecasts\n",
    "target_pred1 = model1.predict(fh)\n",
    "#Calculates MAE for model1\n",
    "ETSmae = mean_absolute_error(y_test, target_pred1, symmetric=False)\n",
    "#Calculate RMSLE score for ensemble model\n",
    "ETSrmsle = mean_squared_log_error(y_test, target_pred1, squared=False)\n",
    "#Append mae_scores array by adding model1 mae score \n",
    "mae_scores.append(ETSmae)\n",
    "#Prints scores for model1\n",
    "print('AUTO ETS Model - MAE: %.3f' % (ETSmae))\n",
    "print(\"AUTO ETS Model - RMSLE: %.3f\" % ETSrmsle)\n",
    "print('--------Auto ETS Forecast--------')\n",
    "target_pred1"
   ]
  },
  {
   "cell_type": "code",
   "execution_count": 8,
   "metadata": {},
   "outputs": [
    {
     "name": "stdout",
     "output_type": "stream",
     "text": [
      "BATS Model - MAE: 6.237\n",
      "BATS Model - RMSLE: 0.179\n",
      "--------BATS Forecast--------\n"
     ]
    },
    {
     "data": {
      "text/plain": [
       "273    48.312670\n",
       "274    43.409958\n",
       "275    50.604114\n",
       "276    46.610369\n",
       "277    46.412655\n",
       "         ...    \n",
       "360    46.610369\n",
       "361    46.412655\n",
       "362    46.053692\n",
       "363    44.121403\n",
       "364    46.516257\n",
       "Name: Births, Length: 92, dtype: float64"
      ]
     },
     "execution_count": 8,
     "metadata": {},
     "output_type": "execute_result"
    }
   ],
   "source": [
    "#   Build BATS Model and score MAE in sample Forecast\n",
    "model2 = BATS(sp=12)\n",
    "#Append estimators array by adding model2\n",
    "estimators.append((\"BATS\",model2))\n",
    "#Fits model on training data\n",
    "model2.fit(y_train)\n",
    "#Forecasts\n",
    "target_pred2 = model2.predict(fh)\n",
    "#Calculates MAE for model2\n",
    "BATSmae = mean_absolute_error(y_test, target_pred2, symmetric=False)\n",
    "#Calculate RMSLE score for model2\n",
    "BATSrmsle = mean_squared_log_error(y_test, target_pred2, squared=False)\n",
    "#Append mae_scores array by adding model2 mae score \n",
    "mae_scores.append(BATSmae)\n",
    "#Prints scores for model1\n",
    "print('BATS Model - MAE: %.3f' % (BATSmae))\n",
    "print(\"BATS Model - RMSLE: %.3f\" % BATSrmsle)\n",
    "print('--------BATS Forecast--------')\n",
    "target_pred2"
   ]
  },
  {
   "cell_type": "code",
   "execution_count": 9,
   "metadata": {},
   "outputs": [
    {
     "name": "stdout",
     "output_type": "stream",
     "text": [
      "TBATS Model - MAE: 5.793\n",
      "TBATS Model - RMSLE: 0.164\n",
      "--------TBATS Forecast--------\n"
     ]
    },
    {
     "data": {
      "text/plain": [
       "273    46.903691\n",
       "274    46.903691\n",
       "275    46.903691\n",
       "276    46.903691\n",
       "277    46.903691\n",
       "         ...    \n",
       "360    46.903691\n",
       "361    46.903691\n",
       "362    46.903691\n",
       "363    46.903691\n",
       "364    46.903691\n",
       "Name: Births, Length: 92, dtype: float64"
      ]
     },
     "execution_count": 9,
     "metadata": {},
     "output_type": "execute_result"
    }
   ],
   "source": [
    "#   Build BATS Model and score MAE in sample Forecast\n",
    "model3 = TBATS(sp=12)\n",
    "#Append estimators array by adding model3\n",
    "estimators.append((\"TBATS\",model3))\n",
    "#Fits model on training data\n",
    "model3.fit(y_train)\n",
    "#Forecasts\n",
    "target_pred3 = model3.predict(fh)\n",
    "#Calculates MAE for model3\n",
    "TBATSmae = mean_absolute_error(y_test, target_pred3, symmetric=False)\n",
    "#Calculate RMSLE score for model3\n",
    "TBATSrmsle = mean_squared_log_error(y_test, target_pred3, squared=False)\n",
    "#Append mae_scores array by adding model3 mae score \n",
    "mae_scores.append(TBATSmae)\n",
    "#Prints scores for model3\n",
    "print('TBATS Model - MAE: %.3f' % (TBATSmae))\n",
    "print('TBATS Model - RMSLE: %.3f' % TBATSrmsle)\n",
    "print('--------TBATS Forecast--------')\n",
    "target_pred3"
   ]
  },
  {
   "cell_type": "code",
   "execution_count": 10,
   "metadata": {},
   "outputs": [
    {
     "name": "stdout",
     "output_type": "stream",
     "text": [
      "Ensemble MAE: 5.933\n",
      "Ensemble RMSLE: 0.168\n",
      "273    47.455238\n",
      "274    45.821000\n",
      "275    48.219052\n",
      "276    46.887804\n",
      "277    46.821899\n",
      "         ...    \n",
      "360    46.887804\n",
      "361    46.821899\n",
      "362    46.702245\n",
      "363    46.058149\n",
      "364    46.856433\n",
      "Length: 92, dtype: float64\n"
     ]
    }
   ],
   "source": [
    "'''   \n",
    "ENSEMBLE TOP 3 ALGORITHMS (AutoETS, BATS, TBATS) USING SKTIME'S ENSMEBLE FORECASTER\n",
    "'''\n",
    "ensemble_model = EnsembleForecaster(forecasters=estimators)\n",
    "#Fit model on training data \n",
    "er = ensemble_model.fit(y_train)\n",
    "#Forecast\n",
    "target_pred = er.predict(fh)\n",
    "#Calculate MAE score for ensemble model\n",
    "Ensemblemae = mean_absolute_error(y_test, target_pred, symetric=False)\n",
    "#Calculate RMSLE score for ensemble model\n",
    "EnsembleRMSLE = mean_squared_log_error(y_test, target_pred, squared=False)\n",
    "#Print scores for model3\n",
    "print(\"Ensemble MAE: %.3f\" % Ensemblemae)\n",
    "print(\"Ensemble RMSLE: %.3f\" % EnsembleRMSLE)\n",
    "print(target_pred)"
   ]
  },
  {
   "cell_type": "code",
   "execution_count": 11,
   "metadata": {},
   "outputs": [
    {
     "data": {
      "text/html": [
       "<div>\n",
       "<style scoped>\n",
       "    .dataframe tbody tr th:only-of-type {\n",
       "        vertical-align: middle;\n",
       "    }\n",
       "\n",
       "    .dataframe tbody tr th {\n",
       "        vertical-align: top;\n",
       "    }\n",
       "\n",
       "    .dataframe thead th {\n",
       "        text-align: right;\n",
       "    }\n",
       "</style>\n",
       "<table border=\"1\" class=\"dataframe\">\n",
       "  <thead>\n",
       "    <tr style=\"text-align: right;\">\n",
       "      <th></th>\n",
       "      <th>Actual</th>\n",
       "      <th>Predicted</th>\n",
       "    </tr>\n",
       "  </thead>\n",
       "  <tbody>\n",
       "    <tr>\n",
       "      <th>273</th>\n",
       "      <td>49</td>\n",
       "      <td>47.455238</td>\n",
       "    </tr>\n",
       "    <tr>\n",
       "      <th>274</th>\n",
       "      <td>54</td>\n",
       "      <td>45.821000</td>\n",
       "    </tr>\n",
       "    <tr>\n",
       "      <th>275</th>\n",
       "      <td>56</td>\n",
       "      <td>48.219052</td>\n",
       "    </tr>\n",
       "    <tr>\n",
       "      <th>276</th>\n",
       "      <td>47</td>\n",
       "      <td>46.887804</td>\n",
       "    </tr>\n",
       "    <tr>\n",
       "      <th>277</th>\n",
       "      <td>44</td>\n",
       "      <td>46.821899</td>\n",
       "    </tr>\n",
       "    <tr>\n",
       "      <th>...</th>\n",
       "      <td>...</td>\n",
       "      <td>...</td>\n",
       "    </tr>\n",
       "    <tr>\n",
       "      <th>360</th>\n",
       "      <td>37</td>\n",
       "      <td>46.887804</td>\n",
       "    </tr>\n",
       "    <tr>\n",
       "      <th>361</th>\n",
       "      <td>52</td>\n",
       "      <td>46.821899</td>\n",
       "    </tr>\n",
       "    <tr>\n",
       "      <th>362</th>\n",
       "      <td>48</td>\n",
       "      <td>46.702245</td>\n",
       "    </tr>\n",
       "    <tr>\n",
       "      <th>363</th>\n",
       "      <td>55</td>\n",
       "      <td>46.058149</td>\n",
       "    </tr>\n",
       "    <tr>\n",
       "      <th>364</th>\n",
       "      <td>50</td>\n",
       "      <td>46.856433</td>\n",
       "    </tr>\n",
       "  </tbody>\n",
       "</table>\n",
       "<p>92 rows × 2 columns</p>\n",
       "</div>"
      ],
      "text/plain": [
       "     Actual  Predicted\n",
       "273      49  47.455238\n",
       "274      54  45.821000\n",
       "275      56  48.219052\n",
       "276      47  46.887804\n",
       "277      44  46.821899\n",
       "..      ...        ...\n",
       "360      37  46.887804\n",
       "361      52  46.821899\n",
       "362      48  46.702245\n",
       "363      55  46.058149\n",
       "364      50  46.856433\n",
       "\n",
       "[92 rows x 2 columns]"
      ]
     },
     "execution_count": 11,
     "metadata": {},
     "output_type": "execute_result"
    }
   ],
   "source": [
    "#View actual values agaianst predictions\n",
    "df=pd.DataFrame({'Actual':y_test, 'Predicted':target_pred})\n",
    "df"
   ]
  },
  {
   "cell_type": "code",
   "execution_count": 16,
   "metadata": {},
   "outputs": [
    {
     "name": "stdout",
     "output_type": "stream",
     "text": [
      "AutoETS RMSLE      : 0.166019\n",
      "BATS RMSLE         : 0.178638\n",
      "TBATS RMSLE        : 0.163558\n",
      "Ensemble RMSLE     : 0.168025\n"
     ]
    }
   ],
   "source": [
    "#Evaluation side by side - RMSLE\n",
    "print(\"AutoETS RMSLE      : %.6f\" % ETSrmsle)\n",
    "print(\"BATS RMSLE         : %.6f\" % BATSrmsle)\n",
    "print(\"TBATS RMSLE        : %.6f\" % TBATSrmsle)\n",
    "print(\"Ensemble RMSLE     : %.6f\" % EnsembleRMSLE)"
   ]
  },
  {
   "cell_type": "code",
   "execution_count": 17,
   "metadata": {},
   "outputs": [
    {
     "name": "stdout",
     "output_type": "stream",
     "text": [
      "AutoETS RMSLE      : 5.891023\n",
      "BATS RMSLE         : 6.236692\n",
      "TBATS RMSLE        : 5.792588\n",
      "Ensemble RMSLE     : 5.933328\n"
     ]
    }
   ],
   "source": [
    "#Evaluation side by side - MAE\n",
    "print(\"AutoETS RMSLE      : %.6f\" % ETSmae)\n",
    "print(\"BATS RMSLE         : %.6f\" % BATSmae)\n",
    "print(\"TBATS RMSLE        : %.6f\" % TBATSmae)\n",
    "print(\"Ensemble RMSLE     : %.6f\" % Ensemblemae)"
   ]
  }
 ],
 "metadata": {
  "kernelspec": {
   "display_name": "Python 3.10.10 64-bit (microsoft store)",
   "language": "python",
   "name": "python3"
  },
  "language_info": {
   "codemirror_mode": {
    "name": "ipython",
    "version": 3
   },
   "file_extension": ".py",
   "mimetype": "text/x-python",
   "name": "python",
   "nbconvert_exporter": "python",
   "pygments_lexer": "ipython3",
   "version": "3.10.10"
  },
  "orig_nbformat": 4,
  "vscode": {
   "interpreter": {
    "hash": "9eb92a4ab26d26848c8c97605f0707ae8c7b8fcfac58dddfca39ef7715bb137d"
   }
  }
 },
 "nbformat": 4,
 "nbformat_minor": 2
}
