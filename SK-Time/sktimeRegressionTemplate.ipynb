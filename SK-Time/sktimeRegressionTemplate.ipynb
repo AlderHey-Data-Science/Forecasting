{
 "cells": [
  {
   "cell_type": "markdown",
   "metadata": {},
   "source": [
    "SK TIME REGRESSION "
   ]
  },
  {
   "cell_type": "code",
   "execution_count": 39,
   "metadata": {},
   "outputs": [],
   "source": [
    "#   IMPORTS\n",
    "from sktime.utils.plotting import plot_series\n",
    "from sktime.forecasting.base import ForecastingHorizon\n",
    "from sktime.forecasting.model_selection import temporal_train_test_split\n",
    "from sktime.forecasting.naive import NaiveForecaster\n",
    "from sktime.performance_metrics.forecasting import MeanAbsolutePercentageError\n",
    "from sktime.performance_metrics.forecasting import mean_absolute_error\n",
    "from sktime.forecasting.compose import make_reduction\n",
    "from sktime.forecasting.fbprophet import Prophet\n",
    "from prophet.forecaster import Prophet \n",
    "from sktime.forecasting.ets import AutoETS\n",
    "from sktime.forecasting.exp_smoothing import ExponentialSmoothing\n",
    "from sktime.forecasting.bats import BATS\n",
    "from sktime.forecasting.tbats import TBATS\n",
    "from sktime.forecasting.var import VAR\n",
    "from sklearn.neighbors import KNeighborsRegressor\n",
    "from sklearn.ensemble import RandomForestRegressor\n",
    "from sklearn.tree import DecisionTreeRegressor\n",
    "from xgboost import XGBRegressor\n",
    "from sktime.forecasting.arima import AutoARIMA\n",
    "from sktime.forecasting.arima import ARIMA\n",
    "from sktime.forecasting.sarimax import SARIMAX\n",
    "from pandas import read_csv\n",
    "import pandas as pd \n",
    "import numpy as np\n",
    "import warnings\n",
    "import datetime\n",
    "warnings.filterwarnings(\"ignore\")\n"
   ]
  },
  {
   "cell_type": "code",
   "execution_count": 40,
   "metadata": {},
   "outputs": [
    {
     "data": {
      "text/html": [
       "<div>\n",
       "<style scoped>\n",
       "    .dataframe tbody tr th:only-of-type {\n",
       "        vertical-align: middle;\n",
       "    }\n",
       "\n",
       "    .dataframe tbody tr th {\n",
       "        vertical-align: top;\n",
       "    }\n",
       "\n",
       "    .dataframe thead th {\n",
       "        text-align: right;\n",
       "    }\n",
       "</style>\n",
       "<table border=\"1\" class=\"dataframe\">\n",
       "  <thead>\n",
       "    <tr style=\"text-align: right;\">\n",
       "      <th></th>\n",
       "      <th>Date</th>\n",
       "      <th>SG_Y</th>\n",
       "    </tr>\n",
       "  </thead>\n",
       "  <tbody>\n",
       "    <tr>\n",
       "      <th>0</th>\n",
       "      <td>2017/12</td>\n",
       "      <td>76.500</td>\n",
       "    </tr>\n",
       "    <tr>\n",
       "      <th>1</th>\n",
       "      <td>2018/01</td>\n",
       "      <td>82.750</td>\n",
       "    </tr>\n",
       "    <tr>\n",
       "      <th>2</th>\n",
       "      <td>2018/02</td>\n",
       "      <td>85.500</td>\n",
       "    </tr>\n",
       "    <tr>\n",
       "      <th>3</th>\n",
       "      <td>2018/03</td>\n",
       "      <td>86.125</td>\n",
       "    </tr>\n",
       "    <tr>\n",
       "      <th>4</th>\n",
       "      <td>2018/04</td>\n",
       "      <td>88.700</td>\n",
       "    </tr>\n",
       "  </tbody>\n",
       "</table>\n",
       "</div>"
      ],
      "text/plain": [
       "      Date    SG_Y\n",
       "0  2017/12  76.500\n",
       "1  2018/01  82.750\n",
       "2  2018/02  85.500\n",
       "3  2018/03  86.125\n",
       "4  2018/04  88.700"
      ]
     },
     "execution_count": 40,
     "metadata": {},
     "output_type": "execute_result"
    }
   ],
   "source": [
    "#   LOAD IN DATA\n",
    "data = pd.read_csv('data_for_inequalities.csv')\n",
    "#View head\n",
    "data.head()"
   ]
  },
  {
   "cell_type": "code",
   "execution_count": 41,
   "metadata": {},
   "outputs": [],
   "source": [
    "#   USER DEFINED\n",
    "#Set target_col to column name you want to forecast \n",
    "#Example uses column named SG_Y\n",
    "target_col = 'SG_Y'"
   ]
  },
  {
   "cell_type": "code",
   "execution_count": 42,
   "metadata": {},
   "outputs": [
    {
     "data": {
      "text/plain": [
       "36    104.250000\n",
       "37    103.458333\n",
       "38    103.916667\n",
       "39    108.541667\n",
       "40    108.458333\n",
       "41    107.291667\n",
       "42    106.583333\n",
       "43    101.208333\n",
       "44    100.125000\n",
       "45     99.791667\n",
       "46    100.791667\n",
       "47    102.958333\n",
       "Name: SG_Y, dtype: float64"
      ]
     },
     "execution_count": 42,
     "metadata": {},
     "output_type": "execute_result"
    }
   ],
   "source": [
    "#   TRAIN/TEST SPLIT \n",
    "y = data[target_col]\n",
    "y_train, y_test = temporal_train_test_split(y, test_size=12)\n",
    "y_test"
   ]
  },
  {
   "cell_type": "code",
   "execution_count": 43,
   "metadata": {},
   "outputs": [
    {
     "data": {
      "text/plain": [
       "'2021/12'"
      ]
     },
     "execution_count": 43,
     "metadata": {},
     "output_type": "execute_result"
    }
   ],
   "source": [
    "#   Set Date\n",
    "data['Date'][36]"
   ]
  },
  {
   "cell_type": "code",
   "execution_count": 44,
   "metadata": {},
   "outputs": [
    {
     "data": {
      "text/plain": [
       "array([ 1,  2,  3,  4,  5,  6,  7,  8,  9, 10, 11, 12])"
      ]
     },
     "execution_count": 44,
     "metadata": {},
     "output_type": "execute_result"
    }
   ],
   "source": [
    "#Set Forecasting horizon ------ 12 months\n",
    "fh = np.arange(1, len(y_test)+1)\n",
    "fh"
   ]
  },
  {
   "cell_type": "markdown",
   "metadata": {},
   "source": [
    "UNIVARIATRE REGRESSION MODELS "
   ]
  },
  {
   "cell_type": "code",
   "execution_count": 45,
   "metadata": {},
   "outputs": [
    {
     "name": "stdout",
     "output_type": "stream",
     "text": [
      "Random Forest Model - MAE is 2.606042\n",
      "--------Random Forest Forecast--------\n"
     ]
    },
    {
     "data": {
      "text/plain": [
       "36    104.089167\n",
       "37    104.138333\n",
       "38    104.135000\n",
       "39    104.172500\n",
       "40    104.088333\n",
       "41    104.195000\n",
       "42    104.084167\n",
       "43    104.195000\n",
       "44    104.084167\n",
       "45    104.195000\n",
       "46    104.084167\n",
       "47    104.195000\n",
       "dtype: float64"
      ]
     },
     "execution_count": 45,
     "metadata": {},
     "output_type": "execute_result"
    }
   ],
   "source": [
    "\n",
    "#   Build Random Forest Model and score MAE in sample Forecast\n",
    "r_forest = RandomForestRegressor(random_state = 0)\n",
    "RFforecaster = make_reduction(r_forest, window_length = 12)\n",
    "#Fits model on training data\n",
    "RFforecaster.fit(y_train)\n",
    "#Forecasts\n",
    "RFy_preds = RFforecaster.predict(fh)\n",
    "#Calculates MAE for Random Forest model\n",
    "RFmae = mean_absolute_error(y_test, RFy_preds)\n",
    "#Prints MAE score for model\n",
    "print('Random Forest Model - MAE is %.6f' % (RFmae))\n",
    "print('--------Random Forest Forecast--------')\n",
    "RFy_preds"
   ]
  },
  {
   "cell_type": "code",
   "execution_count": 46,
   "metadata": {},
   "outputs": [
    {
     "name": "stdout",
     "output_type": "stream",
     "text": [
      "Decision Tree Model - MAE is 2.579861\n",
      "--------Decision Tree Forecast--------\n"
     ]
    },
    {
     "data": {
      "text/plain": [
       "36    104.333333\n",
       "37    103.916667\n",
       "38    104.416667\n",
       "39    103.916667\n",
       "40    104.416667\n",
       "41    103.916667\n",
       "42    104.416667\n",
       "43    103.916667\n",
       "44    104.416667\n",
       "45    103.916667\n",
       "46    104.416667\n",
       "47    103.916667\n",
       "dtype: float64"
      ]
     },
     "execution_count": 46,
     "metadata": {},
     "output_type": "execute_result"
    }
   ],
   "source": [
    "#   Build Decision Tree Model and score MAE in sample Forecast\n",
    "d_tree = DecisionTreeRegressor(random_state = 0)\n",
    "DTforecaster = make_reduction(d_tree, window_length = 12)\n",
    "#Fits model on training data\n",
    "DTforecaster.fit(y_train)\n",
    "#Forecasts\n",
    "DTy_preds = DTforecaster.predict(fh)\n",
    "#Calculates MAE for Decision Tree model\n",
    "DTmae = mean_absolute_error(y_test, DTy_preds)\n",
    "#Prints MAE score for model\n",
    "print('Decision Tree Model - MAE is %.6f' % (DTmae))\n",
    "print('--------Decision Tree Forecast--------')\n",
    "DTy_preds"
   ]
  },
  {
   "cell_type": "code",
   "execution_count": 60,
   "metadata": {},
   "outputs": [
    {
     "name": "stdout",
     "output_type": "stream",
     "text": [
      "XGBOOST Model - MAE is 2.593700\n",
      "--------XGBoost Forecast--------\n"
     ]
    },
    {
     "data": {
      "text/plain": [
       "36    103.999245\n",
       "37    104.329330\n",
       "38    103.836288\n",
       "39    103.922264\n",
       "40    103.922264\n",
       "41    103.922264\n",
       "42    103.922264\n",
       "43    103.922264\n",
       "44    103.922264\n",
       "45    103.922264\n",
       "46    103.922264\n",
       "47    103.922264\n",
       "dtype: float64"
      ]
     },
     "execution_count": 60,
     "metadata": {},
     "output_type": "execute_result"
    }
   ],
   "source": [
    "#   Build XGBoost Model and score MAE in sample Forecast\n",
    "xgb = XGBRegressor(random_state = 0, objective='reg:squarederror', n_estimators = 1000)\n",
    "XGBforecaster = make_reduction(xgb, window_length = 12, strategy=\"recursive\")\n",
    "#Fits model on training data\n",
    "XGBforecaster.fit(y_train)\n",
    "#Forecasts\n",
    "XGBy_preds = XGBforecaster.predict(fh)\n",
    "#Calculates MAE for XGBoost\n",
    "XGBmae = mean_absolute_error(y_test, XGBy_preds)\n",
    "#Prints MAE score for model\n",
    "print('XGBOOST Model - MAE is %.6f' % (XGBmae))\n",
    "print('--------XGBoost Forecast--------')\n",
    "XGBy_preds"
   ]
  },
  {
   "cell_type": "code",
   "execution_count": 48,
   "metadata": {},
   "outputs": [
    {
     "name": "stdout",
     "output_type": "stream",
     "text": [
      "K-Nearest Neighbors Model - MAE is 2.559028\n",
      "--------K-NN Forecast--------\n"
     ]
    },
    {
     "data": {
      "text/plain": [
       "36    103.916667\n",
       "37    103.916667\n",
       "38    103.916667\n",
       "39    103.916667\n",
       "40    103.916667\n",
       "41    103.916667\n",
       "42    103.916667\n",
       "43    103.916667\n",
       "44    103.916667\n",
       "45    103.916667\n",
       "46    103.916667\n",
       "47    103.916667\n",
       "dtype: float64"
      ]
     },
     "execution_count": 48,
     "metadata": {},
     "output_type": "execute_result"
    }
   ],
   "source": [
    "#   Build K Nearest Neighbors Model and score MAE in sample Forecast\n",
    "kNN = KNeighborsRegressor(n_neighbors=1)\n",
    "KNNforecaster = make_reduction(kNN, window_length=12, strategy=\"recursive\")\n",
    "#Fits model on training data\n",
    "KNNforecaster.fit(y_train)\n",
    "#Forecasts\n",
    "KNNy_preds = KNNforecaster.predict(fh)\n",
    "#Calculates MAE for KNN\n",
    "KNNmae = mean_absolute_error(y_test, KNNy_preds)\n",
    "#Prints MAE score for model\n",
    "print('K-Nearest Neighbors Model - MAE is %.6f' % (KNNmae))\n",
    "print('--------K-NN Forecast--------')\n",
    "KNNy_preds"
   ]
  },
  {
   "cell_type": "code",
   "execution_count": 49,
   "metadata": {},
   "outputs": [
    {
     "name": "stdout",
     "output_type": "stream",
     "text": [
      "Auto ARIMA Model - MAE is 6.104247\n",
      "--------Auto ARIMA Forecast--------\n"
     ]
    },
    {
     "data": {
      "text/plain": [
       "36    104.606131\n",
       "37    106.023768\n",
       "38    107.734597\n",
       "39    109.315119\n",
       "40    109.625139\n",
       "41    110.065467\n",
       "42    111.059604\n",
       "43    110.099123\n",
       "44    111.158413\n",
       "45    112.543473\n",
       "46    113.505033\n",
       "47    114.890093\n",
       "dtype: float64"
      ]
     },
     "execution_count": 49,
     "metadata": {},
     "output_type": "execute_result"
    }
   ],
   "source": [
    "#   Build AUTO ARIMA Model and score MAE in sample Forecast\n",
    "AAforecaster = AutoARIMA(sp=12)\n",
    "#Fits model on training data\n",
    "AAforecaster.fit(y_train)\n",
    "#Forecasts\n",
    "AAy_preds = AAforecaster.predict(fh)\n",
    "#Calculates MAE for Auto ARIMA\n",
    "autoArimaMAE = mean_absolute_error(y_test, AAy_preds)\n",
    "#Prints MAE score for model\n",
    "print('Auto ARIMA Model - MAE is %.6f' % (autoArimaMAE))\n",
    "print('--------Auto ARIMA Forecast--------')\n",
    "AAy_preds"
   ]
  },
  {
   "cell_type": "code",
   "execution_count": 50,
   "metadata": {},
   "outputs": [
    {
     "name": "stdout",
     "output_type": "stream",
     "text": [
      "ARIMA Model - MAE is 7.521689\n",
      "--------ARIMA Forecast--------\n"
     ]
    },
    {
     "data": {
      "text/plain": [
       "23     92.321507\n",
       "24     97.198792\n",
       "25     96.302627\n",
       "26     95.893231\n",
       "27     94.143612\n",
       "28     93.547725\n",
       "29     97.139154\n",
       "30     98.163094\n",
       "31     98.386985\n",
       "32    106.331560\n",
       "33    102.874812\n",
       "34    103.858961\n",
       "dtype: float64"
      ]
     },
     "execution_count": 50,
     "metadata": {},
     "output_type": "execute_result"
    }
   ],
   "source": [
    "#   Build ARIMA Model and score MAE in sample Forecast\n",
    "Aforecaster = ARIMA(order=(1,0,1))\n",
    "\n",
    "#Fits model on training data\n",
    "Aforecaster.fit(y_train)\n",
    "#Forecasts\n",
    "Ay_preds = Aforecaster.predict(-fh)\n",
    "#Calculates MAE for Auto ARIMA\n",
    "ArimaMAE = mean_absolute_error(y_test, Ay_preds)\n",
    "#Prints MAE score for model\n",
    "print('ARIMA Model - MAE is %.6f' % (ArimaMAE))\n",
    "print('--------ARIMA Forecast--------')\n",
    "Ay_preds"
   ]
  },
  {
   "cell_type": "code",
   "execution_count": 51,
   "metadata": {},
   "outputs": [
    {
     "name": "stdout",
     "output_type": "stream",
     "text": [
      "SARIMAX Model - MAE is 9.939516\n",
      "--------SARIMAX Forecast--------\n"
     ]
    },
    {
     "data": {
      "text/plain": [
       "36    105.138474\n",
       "37    106.942127\n",
       "38    109.038337\n",
       "39    111.068942\n",
       "40    112.069702\n",
       "41    113.225204\n",
       "42    114.893564\n",
       "43    114.953479\n",
       "44    116.765914\n",
       "45    118.898294\n",
       "46    120.716968\n",
       "47    122.938188\n",
       "Name: SG_Y, dtype: float64"
      ]
     },
     "execution_count": 51,
     "metadata": {},
     "output_type": "execute_result"
    }
   ],
   "source": [
    "#   Build SARIMAX Model and score MAE in sample Forecast\n",
    "Sforecaster = SARIMAX(trend='t', seasonal_order=(1, 0, 0, 12))\n",
    "#Fits model on training data\n",
    "Sforecaster.fit(y_train)\n",
    "#Forecasts\n",
    "Sy_preds = Sforecaster.predict(fh)\n",
    "#Calculates MAE for SARIMAX\n",
    "SarimaxMAE = mean_absolute_error(y_test, Sy_preds)\n",
    "#Prints MAE score for model\n",
    "print('SARIMAX Model - MAE is %.6f' % (SarimaxMAE))\n",
    "print('--------SARIMAX Forecast--------')\n",
    "Sy_preds"
   ]
  },
  {
   "cell_type": "code",
   "execution_count": 52,
   "metadata": {},
   "outputs": [
    {
     "name": "stderr",
     "output_type": "stream",
     "text": [
      "09:02:44 - cmdstanpy - INFO - Chain [1] start processing\n",
      "09:02:44 - cmdstanpy - INFO - Chain [1] done processing\n"
     ]
    },
    {
     "name": "stdout",
     "output_type": "stream",
     "text": [
      "PROPHET Model - MAE is 6.942886\n",
      "--------Prophet Forecast--------\n"
     ]
    },
    {
     "data": {
      "text/plain": [
       "36    105.038421\n",
       "37    106.195435\n",
       "38    108.219995\n",
       "39    109.443236\n",
       "40    109.607162\n",
       "41    110.253746\n",
       "42    110.377098\n",
       "43    111.648478\n",
       "44    112.805492\n",
       "45    114.830051\n",
       "46    116.053293\n",
       "47    116.217219\n",
       "dtype: float64"
      ]
     },
     "execution_count": 52,
     "metadata": {},
     "output_type": "execute_result"
    }
   ],
   "source": [
    "\n",
    "from sktime.forecasting.fbprophet import Prophet\n",
    "#   Build Prophet Model and Score MAE in sample Forecast\n",
    "Pforecaster = Prophet()\n",
    "#Fits model on training data\n",
    "Pforecaster.fit(y_train)\n",
    "#Forecasts\n",
    "PROPHy_preds = Pforecaster.predict(fh)\n",
    "#Calculates MAE for KNN\n",
    "Proph_mae = mean_absolute_error(y_test, PROPHy_preds)\n",
    "#Prints MAE score for model\n",
    "print('PROPHET Model - MAE is %.6f' % (Proph_mae))\n",
    "print('--------Prophet Forecast--------')\n",
    "PROPHy_preds"
   ]
  },
  {
   "cell_type": "code",
   "execution_count": 53,
   "metadata": {},
   "outputs": [
    {
     "name": "stdout",
     "output_type": "stream",
     "text": [
      "AUTO ETS Model - MAE is 2.600905\n",
      "--------Auto ETS Forecast--------\n"
     ]
    },
    {
     "data": {
      "text/plain": [
       "36    103.960567\n",
       "37    103.995618\n",
       "38    104.023659\n",
       "39    104.046092\n",
       "40    104.064038\n",
       "41    104.078394\n",
       "42    104.089880\n",
       "43    104.099068\n",
       "44    104.106419\n",
       "45    104.112300\n",
       "46    104.117004\n",
       "47    104.120768\n",
       "dtype: float64"
      ]
     },
     "execution_count": 53,
     "metadata": {},
     "output_type": "execute_result"
    }
   ],
   "source": [
    "#   Build Auto ETS Model and score MAE in sample Forecast\n",
    "ETSforecaster = AutoETS(auto=True, sp=4, n_jobs=-1)\n",
    "#Fits model on training data\n",
    "ETSforecaster.fit(y_train)\n",
    "#Forecasts\n",
    "ETSy_preds = ETSforecaster.predict(fh)\n",
    "#Calculates MAE for ETS \n",
    "ETSmae = mean_absolute_error(y_test, ETSy_preds, symmetric=False)\n",
    "#Prints MAE score for model\n",
    "print('AUTO ETS Model - MAE is %.6f' % (ETSmae))\n",
    "print('--------Auto ETS Forecast--------')\n",
    "ETSy_preds"
   ]
  },
  {
   "cell_type": "code",
   "execution_count": 54,
   "metadata": {},
   "outputs": [
    {
     "name": "stdout",
     "output_type": "stream",
     "text": [
      "Exponential Smoothing Model - MAE is 5.073832\n",
      "--------Exponential Smoothing Forecast--------\n"
     ]
    },
    {
     "data": {
      "text/plain": [
       "36    103.370652\n",
       "37    103.458847\n",
       "38    102.519828\n",
       "39    100.345130\n",
       "40     99.543366\n",
       "41     99.094908\n",
       "42     98.062865\n",
       "43     98.437097\n",
       "44     96.397269\n",
       "45     95.312068\n",
       "46     94.812829\n",
       "47     95.135187\n",
       "Name: SG_Y, dtype: float64"
      ]
     },
     "execution_count": 54,
     "metadata": {},
     "output_type": "execute_result"
    }
   ],
   "source": [
    "#   Build Exponential Smoothing Model and score MAE in sample Forecast\n",
    "ESforecaster = ExponentialSmoothing(trend=\"add\", seasonal=\"additive\", sp=12)\n",
    "#Fits model on training data\n",
    "ESforecaster.fit(y_train)\n",
    "#Forecasts\n",
    "ESy_preds = ESforecaster.predict(fh)\n",
    "#Calculates MAE for Exponential Smoothing\n",
    "ESmae = mean_absolute_error(y_test, ESy_preds, symmetric=False)\n",
    "#Prints MAE score for model\n",
    "print('Exponential Smoothing Model - MAE is %.6f' % (ESmae))\n",
    "print('--------Exponential Smoothing Forecast--------')\n",
    "ESy_preds"
   ]
  },
  {
   "cell_type": "code",
   "execution_count": 55,
   "metadata": {},
   "outputs": [
    {
     "name": "stdout",
     "output_type": "stream",
     "text": [
      "BATS Model - MAE is 3.050711\n",
      "--------BATS Model Forecast--------\n"
     ]
    },
    {
     "data": {
      "text/plain": [
       "36    104.148186\n",
       "37    104.329425\n",
       "38    104.510663\n",
       "39    104.691902\n",
       "40    104.873140\n",
       "41    105.054379\n",
       "42    105.235617\n",
       "43    105.416856\n",
       "44    105.598094\n",
       "45    105.779333\n",
       "46    105.960571\n",
       "47    106.141810\n",
       "Name: SG_Y, dtype: float64"
      ]
     },
     "execution_count": 55,
     "metadata": {},
     "output_type": "execute_result"
    }
   ],
   "source": [
    "#   Build BATS Model and score MAE in sample Forecast\n",
    "BATSforecaster = BATS(sp=12, use_trend=True, use_box_cox=False)\n",
    "#Fits model on training data\n",
    "BATSforecaster.fit(y_train)\n",
    "#Forecasts\n",
    "BATSy_preds = BATSforecaster.predict(fh)\n",
    "#Calculates MAE for BATS Model\n",
    "BATSmae = mean_absolute_error(y_test, BATSy_preds)\n",
    "#Prints MAE score for model\n",
    "print('BATS Model - MAE is %.6f' % (BATSmae))\n",
    "print('--------BATS Model Forecast--------')\n",
    "BATSy_preds"
   ]
  },
  {
   "cell_type": "code",
   "execution_count": 56,
   "metadata": {},
   "outputs": [
    {
     "name": "stdout",
     "output_type": "stream",
     "text": [
      "TBATS Model - MAE is 3.050711\n",
      "--------TBATS Model Forecast--------\n"
     ]
    },
    {
     "data": {
      "text/plain": [
       "36    104.148186\n",
       "37    104.329425\n",
       "38    104.510663\n",
       "39    104.691902\n",
       "40    104.873140\n",
       "41    105.054379\n",
       "42    105.235617\n",
       "43    105.416856\n",
       "44    105.598094\n",
       "45    105.779333\n",
       "46    105.960571\n",
       "47    106.141810\n",
       "Name: SG_Y, dtype: float64"
      ]
     },
     "execution_count": 56,
     "metadata": {},
     "output_type": "execute_result"
    }
   ],
   "source": [
    "#   Build TBATS Model and score MAE in sample Forecast\n",
    "TBATSforecaster = TBATS(sp=12, use_trend=True, use_box_cox=False)\n",
    "#Fits model on training data\n",
    "TBATSforecaster.fit(y_train)\n",
    "#Forecasts\n",
    "TBATSy_preds = TBATSforecaster.predict(fh)\n",
    "#Calculates MAE for BATS Model\n",
    "TBATSmae = mean_absolute_error(y_test, TBATSy_preds)\n",
    "#Prints MAE score for model\n",
    "print('TBATS Model - MAE is %.6f' % (TBATSmae))\n",
    "print('--------TBATS Model Forecast--------')\n",
    "TBATSy_preds"
   ]
  },
  {
   "cell_type": "code",
   "execution_count": 57,
   "metadata": {},
   "outputs": [],
   "source": [
    "mae_scores = np.array([RFmae, DTmae, XGBmae, KNNmae, autoArimaMAE, ArimaMAE, SarimaxMAE, Proph_mae, ETSmae, ESmae, BATSmae, TBATSmae])"
   ]
  },
  {
   "cell_type": "code",
   "execution_count": 58,
   "metadata": {},
   "outputs": [
    {
     "name": "stdout",
     "output_type": "stream",
     "text": [
      "Random Forest Model - MAE is 2.606042\n",
      "Decision Tree Model - MAE is 2.579861\n",
      "XGBOOST Model       - MAE is 2.496213\n",
      "K-NN Model          - MAE is 2.559028\n",
      "Auto ARIMA Model    - MAE is 6.104247\n",
      "ARIMA Model         - MAE is 7.521689\n",
      "SARIMAX Model       - MAE is 9.939516\n",
      "PROPHET Model       - MAE is 6.942886\n",
      "AUTO ETS Model      - MAE is 2.600905\n",
      "Exponential S Model - MAE is 5.073832\n",
      "BATS Model          - MAE is 3.050711\n",
      "TBATS Model         - MAE is 3.050711\n"
     ]
    }
   ],
   "source": [
    "#   EVALUATE\n",
    "print('Random Forest Model - MAE is %.6f' % (RFmae))\n",
    "print('Decision Tree Model - MAE is %.6f' % (DTmae))\n",
    "print('XGBOOST Model       - MAE is %.6f' % (XGBmae))\n",
    "print('K-NN Model          - MAE is %.6f' % (KNNmae))\n",
    "print('Auto ARIMA Model    - MAE is %.6f' % (autoArimaMAE))\n",
    "print('ARIMA Model         - MAE is %.6f' % (ArimaMAE))\n",
    "print('SARIMAX Model       - MAE is %.6f' % (SarimaxMAE))\n",
    "print('PROPHET Model       - MAE is %.6f' % (Proph_mae))\n",
    "print('AUTO ETS Model      - MAE is %.6f' % (ETSmae))\n",
    "print('Exponential S Model - MAE is %.6f' % (ESmae))\n",
    "print('BATS Model          - MAE is %.6f' % (BATSmae))\n",
    "print('TBATS Model         - MAE is %.6f' % (TBATSmae))"
   ]
  },
  {
   "cell_type": "code",
   "execution_count": 59,
   "metadata": {},
   "outputs": [
    {
     "name": "stdout",
     "output_type": "stream",
     "text": [
      "2.4962126438981116\n"
     ]
    }
   ],
   "source": [
    "#   Find Best Fit Model\n",
    "best_fit_model = np.amin(mae_scores)\n",
    "print(best_fit_model)\n",
    "#   For this data it shows ARIMA as best fit"
   ]
  }
 ],
 "metadata": {
  "kernelspec": {
   "display_name": "Python 3.10.9 64-bit (microsoft store)",
   "language": "python",
   "name": "python3"
  },
  "language_info": {
   "codemirror_mode": {
    "name": "ipython",
    "version": 3
   },
   "file_extension": ".py",
   "mimetype": "text/x-python",
   "name": "python",
   "nbconvert_exporter": "python",
   "pygments_lexer": "ipython3",
   "version": "3.10.9"
  },
  "orig_nbformat": 4,
  "vscode": {
   "interpreter": {
    "hash": "9eb92a4ab26d26848c8c97605f0707ae8c7b8fcfac58dddfca39ef7715bb137d"
   }
  }
 },
 "nbformat": 4,
 "nbformat_minor": 2
}
