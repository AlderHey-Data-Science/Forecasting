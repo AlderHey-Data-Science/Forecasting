{
 "cells": [
  {
   "cell_type": "markdown",
   "metadata": {},
   "source": [
    "SK TIME REGRESSION "
   ]
  },
  {
   "cell_type": "code",
   "execution_count": 644,
   "metadata": {},
   "outputs": [],
   "source": [
    "#   IMPORTS\n",
    "from sktime.utils.plotting import plot_series\n",
    "from sktime.forecasting.base import ForecastingHorizon\n",
    "from sktime.forecasting.model_selection import temporal_train_test_split\n",
    "from sktime.forecasting.naive import NaiveForecaster\n",
    "from sktime.performance_metrics.forecasting import MeanAbsolutePercentageError\n",
    "from sktime.performance_metrics.forecasting import mean_absolute_error\n",
    "from sktime.forecasting.compose import make_reduction\n",
    "from sktime.forecasting.fbprophet import Prophet\n",
    "from sktime.forecasting.ets import AutoETS\n",
    "from sktime.forecasting.exp_smoothing import ExponentialSmoothing\n",
    "from sktime.forecasting.bats import BATS\n",
    "from sktime.forecasting.tbats import TBATS\n",
    "from sktime.forecasting.var import VAR\n",
    "from sktime.forecasting.arima import AutoARIMA\n",
    "from sktime.forecasting.arima import ARIMA\n",
    "from sktime.forecasting.sarimax import SARIMAX\n",
    "from sktime.forecasting.theta import ThetaForecaster\n",
    "\n",
    "from xgboost import XGBRegressor\n",
    "from lightgbm import LGBMRegressor\n",
    "from prophet.forecaster import Prophet \n",
    "\n",
    "from sklearn.neighbors import KNeighborsRegressor\n",
    "from sklearn.ensemble import RandomForestRegressor\n",
    "from sklearn.tree import DecisionTreeRegressor\n",
    "from sklearn.ensemble import GradientBoostingRegressor\n",
    "\n",
    "from pandas import read_csv\n",
    "import pandas as pd \n",
    "import numpy as np\n",
    "import warnings\n",
    "import datetime\n",
    "import warnings\n",
    "warnings.filterwarnings(\"ignore\")\n"
   ]
  },
  {
   "cell_type": "code",
   "execution_count": 645,
   "metadata": {},
   "outputs": [
    {
     "data": {
      "text/html": [
       "<div>\n",
       "<style scoped>\n",
       "    .dataframe tbody tr th:only-of-type {\n",
       "        vertical-align: middle;\n",
       "    }\n",
       "\n",
       "    .dataframe tbody tr th {\n",
       "        vertical-align: top;\n",
       "    }\n",
       "\n",
       "    .dataframe thead th {\n",
       "        text-align: right;\n",
       "    }\n",
       "</style>\n",
       "<table border=\"1\" class=\"dataframe\">\n",
       "  <thead>\n",
       "    <tr style=\"text-align: right;\">\n",
       "      <th></th>\n",
       "      <th>Date</th>\n",
       "      <th>SG_Y</th>\n",
       "    </tr>\n",
       "  </thead>\n",
       "  <tbody>\n",
       "    <tr>\n",
       "      <th>0</th>\n",
       "      <td>2017/12</td>\n",
       "      <td>76.500</td>\n",
       "    </tr>\n",
       "    <tr>\n",
       "      <th>1</th>\n",
       "      <td>2018/01</td>\n",
       "      <td>82.750</td>\n",
       "    </tr>\n",
       "    <tr>\n",
       "      <th>2</th>\n",
       "      <td>2018/02</td>\n",
       "      <td>85.500</td>\n",
       "    </tr>\n",
       "    <tr>\n",
       "      <th>3</th>\n",
       "      <td>2018/03</td>\n",
       "      <td>86.125</td>\n",
       "    </tr>\n",
       "    <tr>\n",
       "      <th>4</th>\n",
       "      <td>2018/04</td>\n",
       "      <td>88.700</td>\n",
       "    </tr>\n",
       "  </tbody>\n",
       "</table>\n",
       "</div>"
      ],
      "text/plain": [
       "      Date    SG_Y\n",
       "0  2017/12  76.500\n",
       "1  2018/01  82.750\n",
       "2  2018/02  85.500\n",
       "3  2018/03  86.125\n",
       "4  2018/04  88.700"
      ]
     },
     "execution_count": 645,
     "metadata": {},
     "output_type": "execute_result"
    }
   ],
   "source": [
    "#   LOAD IN DATA\n",
    "data = pd.read_csv('data_for_inequalities.csv')\n",
    "#View head\n",
    "data.head()"
   ]
  },
  {
   "cell_type": "code",
   "execution_count": 646,
   "metadata": {},
   "outputs": [],
   "source": [
    "#   USER DEFINED\n",
    "#Set target_col to column name you want to forecast \n",
    "#Example uses column named SG_Y\n",
    "target_col = 'SG_Y'"
   ]
  },
  {
   "cell_type": "code",
   "execution_count": 647,
   "metadata": {},
   "outputs": [
    {
     "data": {
      "text/plain": [
       "36    104.250000\n",
       "37    103.458333\n",
       "38    103.916667\n",
       "39    108.541667\n",
       "40    108.458333\n",
       "41    107.291667\n",
       "42    106.583333\n",
       "43    101.208333\n",
       "44    100.125000\n",
       "45     99.791667\n",
       "46    100.791667\n",
       "47    102.958333\n",
       "Name: SG_Y, dtype: float64"
      ]
     },
     "execution_count": 647,
     "metadata": {},
     "output_type": "execute_result"
    }
   ],
   "source": [
    "#   TRAIN/TEST SPLIT \n",
    "y = data[target_col]\n",
    "y_train, y_test = temporal_train_test_split(y, test_size=12)\n",
    "y_test"
   ]
  },
  {
   "cell_type": "code",
   "execution_count": 648,
   "metadata": {},
   "outputs": [
    {
     "data": {
      "text/plain": [
       "'2021/12'"
      ]
     },
     "execution_count": 648,
     "metadata": {},
     "output_type": "execute_result"
    }
   ],
   "source": [
    "#   Set Date\n",
    "data['Date'][36]"
   ]
  },
  {
   "cell_type": "code",
   "execution_count": 649,
   "metadata": {},
   "outputs": [
    {
     "data": {
      "text/plain": [
       "array([ 1,  2,  3,  4,  5,  6,  7,  8,  9, 10, 11, 12])"
      ]
     },
     "execution_count": 649,
     "metadata": {},
     "output_type": "execute_result"
    }
   ],
   "source": [
    "#Set Forecasting horizon ------ 12 months\n",
    "fh = np.arange(1, len(y_test)+1)\n",
    "fh"
   ]
  },
  {
   "cell_type": "markdown",
   "metadata": {},
   "source": [
    "UNIVARIATRE REGRESSION MODELS "
   ]
  },
  {
   "cell_type": "code",
   "execution_count": 650,
   "metadata": {},
   "outputs": [
    {
     "name": "stdout",
     "output_type": "stream",
     "text": [
      "Random Forest Model - MAE is 2.606042\n",
      "--------Random Forest Forecast--------\n"
     ]
    },
    {
     "data": {
      "text/plain": [
       "36    104.089167\n",
       "37    104.138333\n",
       "38    104.135000\n",
       "39    104.172500\n",
       "40    104.088333\n",
       "41    104.195000\n",
       "42    104.084167\n",
       "43    104.195000\n",
       "44    104.084167\n",
       "45    104.195000\n",
       "46    104.084167\n",
       "47    104.195000\n",
       "dtype: float64"
      ]
     },
     "execution_count": 650,
     "metadata": {},
     "output_type": "execute_result"
    }
   ],
   "source": [
    "\n",
    "#   Build Random Forest Model and score MAE in sample Forecast\n",
    "r_forest = RandomForestRegressor(random_state = 0)\n",
    "RFforecaster = make_reduction(r_forest, window_length = 12)\n",
    "#Fits model on training data\n",
    "RFforecaster.fit(y_train)\n",
    "#Forecasts\n",
    "RFy_preds = RFforecaster.predict(fh)\n",
    "#Calculates MAE for Random Forest model\n",
    "RFmae = mean_absolute_error(y_test, RFy_preds)\n",
    "#Prints MAE score for model\n",
    "print('Random Forest Model - MAE is %.6f' % (RFmae))\n",
    "print('--------Random Forest Forecast--------')\n",
    "RFy_preds"
   ]
  },
  {
   "cell_type": "code",
   "execution_count": 651,
   "metadata": {},
   "outputs": [
    {
     "name": "stdout",
     "output_type": "stream",
     "text": [
      "Decision Tree Model - MAE is 2.579861\n",
      "--------Decision Tree Forecast--------\n"
     ]
    },
    {
     "data": {
      "text/plain": [
       "36    104.333333\n",
       "37    103.916667\n",
       "38    104.416667\n",
       "39    103.916667\n",
       "40    104.416667\n",
       "41    103.916667\n",
       "42    104.416667\n",
       "43    103.916667\n",
       "44    104.416667\n",
       "45    103.916667\n",
       "46    104.416667\n",
       "47    103.916667\n",
       "dtype: float64"
      ]
     },
     "execution_count": 651,
     "metadata": {},
     "output_type": "execute_result"
    }
   ],
   "source": [
    "#   Build Decision Tree Model and score MAE in sample Forecast\n",
    "d_tree = DecisionTreeRegressor(random_state = 0)\n",
    "DTforecaster = make_reduction(d_tree, window_length = 12)\n",
    "#Fits model on training data\n",
    "DTforecaster.fit(y_train)\n",
    "#Forecasts\n",
    "DTy_preds = DTforecaster.predict(fh)\n",
    "#Calculates MAE for Decision Tree model\n",
    "DTmae = mean_absolute_error(y_test, DTy_preds)\n",
    "#Prints MAE score for model\n",
    "print('Decision Tree Model - MAE is %.6f' % (DTmae))\n",
    "print('--------Decision Tree Forecast--------')\n",
    "DTy_preds"
   ]
  },
  {
   "cell_type": "code",
   "execution_count": 652,
   "metadata": {},
   "outputs": [
    {
     "name": "stdout",
     "output_type": "stream",
     "text": [
      "XGBOOST Model - MAE is 2.593700\n",
      "--------XGBoost Forecast--------\n"
     ]
    },
    {
     "data": {
      "text/plain": [
       "36    103.999245\n",
       "37    104.329330\n",
       "38    103.836288\n",
       "39    103.922264\n",
       "40    103.922264\n",
       "41    103.922264\n",
       "42    103.922264\n",
       "43    103.922264\n",
       "44    103.922264\n",
       "45    103.922264\n",
       "46    103.922264\n",
       "47    103.922264\n",
       "dtype: float64"
      ]
     },
     "execution_count": 652,
     "metadata": {},
     "output_type": "execute_result"
    }
   ],
   "source": [
    "#   Build XGBoost Model and score MAE in sample Forecast\n",
    "xgb = XGBRegressor(random_state = 0, objective='reg:squarederror', n_estimators = 1000)\n",
    "XGBforecaster = make_reduction(xgb, window_length = 12, strategy=\"recursive\")\n",
    "#Fits model on training data\n",
    "XGBforecaster.fit(y_train)\n",
    "#Forecasts\n",
    "XGBy_preds = XGBforecaster.predict(fh)\n",
    "#Calculates MAE for XGBoost\n",
    "XGBmae = mean_absolute_error(y_test, XGBy_preds)\n",
    "#Prints MAE score for model\n",
    "print('XGBOOST Model - MAE is %.6f' % (XGBmae))\n",
    "print('--------XGBoost Forecast--------')\n",
    "XGBy_preds"
   ]
  },
  {
   "cell_type": "code",
   "execution_count": 653,
   "metadata": {},
   "outputs": [
    {
     "name": "stdout",
     "output_type": "stream",
     "text": [
      "K-Nearest Neighbors Model - MAE is 2.559028\n",
      "--------K-NN Forecast--------\n"
     ]
    },
    {
     "data": {
      "text/plain": [
       "36    103.916667\n",
       "37    103.916667\n",
       "38    103.916667\n",
       "39    103.916667\n",
       "40    103.916667\n",
       "41    103.916667\n",
       "42    103.916667\n",
       "43    103.916667\n",
       "44    103.916667\n",
       "45    103.916667\n",
       "46    103.916667\n",
       "47    103.916667\n",
       "dtype: float64"
      ]
     },
     "execution_count": 653,
     "metadata": {},
     "output_type": "execute_result"
    }
   ],
   "source": [
    "#   Build K Nearest Neighbors Model and score MAE in sample Forecast\n",
    "kNN = KNeighborsRegressor(n_neighbors=1)\n",
    "KNNforecaster = make_reduction(kNN, window_length=12, strategy=\"recursive\")\n",
    "#Fits model on training data\n",
    "KNNforecaster.fit(y_train)\n",
    "#Forecasts\n",
    "KNNy_preds = KNNforecaster.predict(fh)\n",
    "#Calculates MAE for KNN\n",
    "KNNmae = mean_absolute_error(y_test, KNNy_preds)\n",
    "#Prints MAE score for model\n",
    "print('K-Nearest Neighbors Model - MAE is %.6f' % (KNNmae))\n",
    "print('--------K-NN Forecast--------')\n",
    "KNNy_preds"
   ]
  },
  {
   "cell_type": "code",
   "execution_count": 654,
   "metadata": {},
   "outputs": [
    {
     "name": "stdout",
     "output_type": "stream",
     "text": [
      "Auto ARIMA Model - MAE is 6.104247\n",
      "--------Auto ARIMA Forecast--------\n"
     ]
    },
    {
     "data": {
      "text/plain": [
       "36    104.606131\n",
       "37    106.023768\n",
       "38    107.734597\n",
       "39    109.315119\n",
       "40    109.625139\n",
       "41    110.065467\n",
       "42    111.059604\n",
       "43    110.099123\n",
       "44    111.158413\n",
       "45    112.543473\n",
       "46    113.505033\n",
       "47    114.890093\n",
       "dtype: float64"
      ]
     },
     "execution_count": 654,
     "metadata": {},
     "output_type": "execute_result"
    }
   ],
   "source": [
    "#   Build AUTO ARIMA Model and score MAE in sample Forecast\n",
    "AAforecaster = AutoARIMA(sp=12)\n",
    "#Fits model on training data\n",
    "AAforecaster.fit(y_train)\n",
    "#Forecasts\n",
    "AAy_preds = AAforecaster.predict(fh)\n",
    "#Calculates MAE for Auto ARIMA\n",
    "autoArimaMAE = mean_absolute_error(y_test, AAy_preds)\n",
    "#Prints MAE score for model\n",
    "print('Auto ARIMA Model - MAE is %.6f' % (autoArimaMAE))\n",
    "print('--------Auto ARIMA Forecast--------')\n",
    "AAy_preds"
   ]
  },
  {
   "cell_type": "code",
   "execution_count": 655,
   "metadata": {},
   "outputs": [
    {
     "name": "stdout",
     "output_type": "stream",
     "text": [
      "ARIMA Model - MAE is 7.521689\n",
      "--------ARIMA Forecast--------\n"
     ]
    },
    {
     "data": {
      "text/plain": [
       "23     92.321507\n",
       "24     97.198792\n",
       "25     96.302627\n",
       "26     95.893231\n",
       "27     94.143612\n",
       "28     93.547725\n",
       "29     97.139154\n",
       "30     98.163094\n",
       "31     98.386985\n",
       "32    106.331560\n",
       "33    102.874812\n",
       "34    103.858961\n",
       "dtype: float64"
      ]
     },
     "execution_count": 655,
     "metadata": {},
     "output_type": "execute_result"
    }
   ],
   "source": [
    "#   Build ARIMA Model and score MAE in sample Forecast\n",
    "Aforecaster = ARIMA(order=(1,0,1))\n",
    "\n",
    "#Fits model on training data\n",
    "Aforecaster.fit(y_train)\n",
    "#Forecasts\n",
    "Ay_preds = Aforecaster.predict(-fh)\n",
    "#Calculates MAE for Auto ARIMA\n",
    "ArimaMAE = mean_absolute_error(y_test, Ay_preds)\n",
    "#Prints MAE score for model\n",
    "print('ARIMA Model - MAE is %.6f' % (ArimaMAE))\n",
    "print('--------ARIMA Forecast--------')\n",
    "Ay_preds"
   ]
  },
  {
   "cell_type": "code",
   "execution_count": 656,
   "metadata": {},
   "outputs": [
    {
     "name": "stdout",
     "output_type": "stream",
     "text": [
      "SARIMAX Model - MAE is 9.939516\n",
      "--------SARIMAX Forecast--------\n"
     ]
    },
    {
     "data": {
      "text/plain": [
       "36    105.138474\n",
       "37    106.942127\n",
       "38    109.038337\n",
       "39    111.068942\n",
       "40    112.069702\n",
       "41    113.225204\n",
       "42    114.893564\n",
       "43    114.953479\n",
       "44    116.765914\n",
       "45    118.898294\n",
       "46    120.716968\n",
       "47    122.938188\n",
       "Name: SG_Y, dtype: float64"
      ]
     },
     "execution_count": 656,
     "metadata": {},
     "output_type": "execute_result"
    }
   ],
   "source": [
    "#   Build SARIMAX Model and score MAE in sample Forecast\n",
    "Sforecaster = SARIMAX(trend='t', seasonal_order=(1, 0, 0, 12))\n",
    "#Fits model on training data\n",
    "Sforecaster.fit(y_train)\n",
    "#Forecasts\n",
    "Sy_preds = Sforecaster.predict(fh)\n",
    "#Calculates MAE for SARIMAX\n",
    "SarimaxMAE = mean_absolute_error(y_test, Sy_preds)\n",
    "#Prints MAE score for model\n",
    "print('SARIMAX Model - MAE is %.6f' % (SarimaxMAE))\n",
    "print('--------SARIMAX Forecast--------')\n",
    "Sy_preds"
   ]
  },
  {
   "cell_type": "code",
   "execution_count": 657,
   "metadata": {},
   "outputs": [
    {
     "name": "stderr",
     "output_type": "stream",
     "text": [
      "14:35:54 - cmdstanpy - INFO - Chain [1] start processing\n",
      "14:35:55 - cmdstanpy - INFO - Chain [1] done processing\n"
     ]
    },
    {
     "name": "stdout",
     "output_type": "stream",
     "text": [
      "PROPHET Model - MAE is 6.942886\n",
      "--------Prophet Forecast--------\n"
     ]
    },
    {
     "data": {
      "text/plain": [
       "36    105.038421\n",
       "37    106.195435\n",
       "38    108.219995\n",
       "39    109.443236\n",
       "40    109.607162\n",
       "41    110.253746\n",
       "42    110.377098\n",
       "43    111.648478\n",
       "44    112.805492\n",
       "45    114.830051\n",
       "46    116.053293\n",
       "47    116.217219\n",
       "dtype: float64"
      ]
     },
     "execution_count": 657,
     "metadata": {},
     "output_type": "execute_result"
    }
   ],
   "source": [
    "\n",
    "from sktime.forecasting.fbprophet import Prophet\n",
    "#   Build Prophet Model and Score MAE in sample Forecast\n",
    "Pforecaster = Prophet()\n",
    "#Fits model on training data\n",
    "Pforecaster.fit(y_train)\n",
    "#Forecasts\n",
    "PROPHy_preds = Pforecaster.predict(fh)\n",
    "#Calculates MAE for KNN\n",
    "Proph_mae = mean_absolute_error(y_test, PROPHy_preds)\n",
    "#Prints MAE score for model\n",
    "print('PROPHET Model - MAE is %.6f' % (Proph_mae))\n",
    "print('--------Prophet Forecast--------')\n",
    "PROPHy_preds"
   ]
  },
  {
   "cell_type": "code",
   "execution_count": 658,
   "metadata": {},
   "outputs": [
    {
     "name": "stdout",
     "output_type": "stream",
     "text": [
      "AUTO ETS Model - MAE is 2.600905\n",
      "--------Auto ETS Forecast--------\n"
     ]
    },
    {
     "data": {
      "text/plain": [
       "36    103.960567\n",
       "37    103.995618\n",
       "38    104.023659\n",
       "39    104.046092\n",
       "40    104.064038\n",
       "41    104.078394\n",
       "42    104.089880\n",
       "43    104.099068\n",
       "44    104.106419\n",
       "45    104.112300\n",
       "46    104.117004\n",
       "47    104.120768\n",
       "dtype: float64"
      ]
     },
     "execution_count": 658,
     "metadata": {},
     "output_type": "execute_result"
    }
   ],
   "source": [
    "#   Build Auto ETS Model and score MAE in sample Forecast\n",
    "ETSforecaster = AutoETS(auto=True, sp=4, n_jobs=-1)\n",
    "#Fits model on training data\n",
    "ETSforecaster.fit(y_train)\n",
    "#Forecasts\n",
    "ETSy_preds = ETSforecaster.predict(fh)\n",
    "#Calculates MAE for ETS \n",
    "ETSmae = mean_absolute_error(y_test, ETSy_preds, symmetric=False)\n",
    "#Prints MAE score for model\n",
    "print('AUTO ETS Model - MAE is %.6f' % (ETSmae))\n",
    "print('--------Auto ETS Forecast--------')\n",
    "ETSy_preds"
   ]
  },
  {
   "cell_type": "code",
   "execution_count": 659,
   "metadata": {},
   "outputs": [
    {
     "name": "stdout",
     "output_type": "stream",
     "text": [
      "Exponential Smoothing Model - MAE is 5.073832\n",
      "--------Exponential Smoothing Forecast--------\n"
     ]
    },
    {
     "data": {
      "text/plain": [
       "36    103.370652\n",
       "37    103.458847\n",
       "38    102.519828\n",
       "39    100.345130\n",
       "40     99.543366\n",
       "41     99.094908\n",
       "42     98.062865\n",
       "43     98.437097\n",
       "44     96.397269\n",
       "45     95.312068\n",
       "46     94.812829\n",
       "47     95.135187\n",
       "Name: SG_Y, dtype: float64"
      ]
     },
     "execution_count": 659,
     "metadata": {},
     "output_type": "execute_result"
    }
   ],
   "source": [
    "#   Build Exponential Smoothing Model and score MAE in sample Forecast\n",
    "ESforecaster = ExponentialSmoothing(trend=\"add\", seasonal=\"additive\", sp=12)\n",
    "#Fits model on training data\n",
    "ESforecaster.fit(y_train)\n",
    "#Forecasts\n",
    "ESy_preds = ESforecaster.predict(fh)\n",
    "#Calculates MAE for Exponential Smoothing\n",
    "ESmae = mean_absolute_error(y_test, ESy_preds, symmetric=False)\n",
    "#Prints MAE score for model\n",
    "print('Exponential Smoothing Model - MAE is %.6f' % (ESmae))\n",
    "print('--------Exponential Smoothing Forecast--------')\n",
    "ESy_preds"
   ]
  },
  {
   "cell_type": "code",
   "execution_count": 660,
   "metadata": {},
   "outputs": [
    {
     "name": "stdout",
     "output_type": "stream",
     "text": [
      "BATS Model - MAE is 3.050711\n",
      "--------BATS Model Forecast--------\n"
     ]
    },
    {
     "data": {
      "text/plain": [
       "36    104.148186\n",
       "37    104.329425\n",
       "38    104.510663\n",
       "39    104.691902\n",
       "40    104.873140\n",
       "41    105.054379\n",
       "42    105.235617\n",
       "43    105.416856\n",
       "44    105.598094\n",
       "45    105.779333\n",
       "46    105.960571\n",
       "47    106.141810\n",
       "Name: SG_Y, dtype: float64"
      ]
     },
     "execution_count": 660,
     "metadata": {},
     "output_type": "execute_result"
    }
   ],
   "source": [
    "#   Build BATS Model and score MAE in sample Forecast\n",
    "BATSforecaster = BATS(sp=12, use_trend=True, use_box_cox=False)\n",
    "#Fits model on training data\n",
    "BATSforecaster.fit(y_train)\n",
    "#Forecasts\n",
    "BATSy_preds = BATSforecaster.predict(fh)\n",
    "#Calculates MAE for BATS Model\n",
    "BATSmae = mean_absolute_error(y_test, BATSy_preds)\n",
    "#Prints MAE score for model\n",
    "print('BATS Model - MAE is %.6f' % (BATSmae))\n",
    "print('--------BATS Model Forecast--------')\n",
    "BATSy_preds"
   ]
  },
  {
   "cell_type": "code",
   "execution_count": 661,
   "metadata": {},
   "outputs": [
    {
     "name": "stdout",
     "output_type": "stream",
     "text": [
      "TBATS Model - MAE is 3.050711\n",
      "--------TBATS Model Forecast--------\n"
     ]
    },
    {
     "data": {
      "text/plain": [
       "36    104.148186\n",
       "37    104.329425\n",
       "38    104.510663\n",
       "39    104.691902\n",
       "40    104.873140\n",
       "41    105.054379\n",
       "42    105.235617\n",
       "43    105.416856\n",
       "44    105.598094\n",
       "45    105.779333\n",
       "46    105.960571\n",
       "47    106.141810\n",
       "Name: SG_Y, dtype: float64"
      ]
     },
     "execution_count": 661,
     "metadata": {},
     "output_type": "execute_result"
    }
   ],
   "source": [
    "#   Build TBATS Model and score MAE in sample Forecast\n",
    "TBATSforecaster = TBATS(sp=12, use_trend=True, use_box_cox=False)\n",
    "#Fits model on training data\n",
    "TBATSforecaster.fit(y_train)\n",
    "#Forecasts\n",
    "TBATSy_preds = TBATSforecaster.predict(fh)\n",
    "#Calculates MAE for BATS Model\n",
    "TBATSmae = mean_absolute_error(y_test, TBATSy_preds)\n",
    "#Prints MAE score for model\n",
    "print('TBATS Model - MAE is %.6f' % (TBATSmae))\n",
    "print('--------TBATS Model Forecast--------')\n",
    "TBATSy_preds"
   ]
  },
  {
   "cell_type": "code",
   "execution_count": 662,
   "metadata": {},
   "outputs": [
    {
     "name": "stdout",
     "output_type": "stream",
     "text": [
      "Naive Forecaster Model - MAE is 6.996528\n",
      "--------Naive Model Forecast--------\n"
     ]
    },
    {
     "data": {
      "text/plain": [
       "36     96.750000\n",
       "37     96.166667\n",
       "38     94.833333\n",
       "39     93.833333\n",
       "40     96.083333\n",
       "41     98.000000\n",
       "42     98.500000\n",
       "43    104.000000\n",
       "44    104.333333\n",
       "45    103.833333\n",
       "46    104.416667\n",
       "47    103.916667\n",
       "dtype: float64"
      ]
     },
     "execution_count": 662,
     "metadata": {},
     "output_type": "execute_result"
    }
   ],
   "source": [
    "#Build Naive Forecaster Model and score MAE in sample Forecast\n",
    "Naiveforecaster = NaiveForecaster(strategy=\"last\", sp=12)\n",
    "#Fits Model on training data\n",
    "Naiveforecaster.fit(y_train)\n",
    "#Forecasts\n",
    "Naive_y_preds = Naiveforecaster.predict(fh)\n",
    "#Calculates MAE for BATS Model\n",
    "NaiveMAE = mean_absolute_error(y_test, Naive_y_preds)\n",
    "#Prints MAE score for model\n",
    "print('Naive Forecaster Model - MAE is %.6f' % (NaiveMAE))\n",
    "print('--------Naive Model Forecast--------')\n",
    "Naive_y_preds"
   ]
  },
  {
   "cell_type": "code",
   "execution_count": 663,
   "metadata": {},
   "outputs": [
    {
     "name": "stdout",
     "output_type": "stream",
     "text": [
      "LGBM Model - MAE is 9.871528\n",
      "--------LGBM Forecast--------\n"
     ]
    },
    {
     "data": {
      "text/plain": [
       "36    94.076389\n",
       "37    94.076389\n",
       "38    94.076389\n",
       "39    94.076389\n",
       "40    94.076389\n",
       "41    94.076389\n",
       "42    94.076389\n",
       "43    94.076389\n",
       "44    94.076389\n",
       "45    94.076389\n",
       "46    94.076389\n",
       "47    94.076389\n",
       "dtype: float64"
      ]
     },
     "execution_count": 663,
     "metadata": {},
     "output_type": "execute_result"
    }
   ],
   "source": [
    "#   Build LGBM Model and score MAE in sample forecast\n",
    "lgbm = LGBMRegressor(n_estimators=500)\n",
    "LGBMforecaster = make_reduction(lgbm, window_length=12, strategy=\"recursive\")\n",
    "#Fits model on training data\n",
    "LGBMforecaster.fit(y_train)\n",
    "#Forecasts\n",
    "lgbm_y_preds = LGBMforecaster.predict(fh)\n",
    "#Calculates MAE for LGBM\n",
    "lgbmMAE = mean_absolute_error(y_test, lgbm_y_preds)\n",
    "#Prints \n",
    "#Prints MAE score for model and predictions from model\n",
    "print('LGBM Model - MAE is %.6f' % (lgbmMAE))\n",
    "print('--------LGBM Forecast--------')\n",
    "lgbm_y_preds"
   ]
  },
  {
   "cell_type": "code",
   "execution_count": 664,
   "metadata": {},
   "outputs": [
    {
     "name": "stdout",
     "output_type": "stream",
     "text": [
      "Theta Model - MAE is 3.122123\n",
      "--------Theta Forecast--------\n"
     ]
    },
    {
     "data": {
      "text/plain": [
       "48    103.490247\n",
       "49    103.379537\n",
       "50    103.728106\n",
       "51    104.580414\n",
       "52    104.412162\n",
       "53    104.653024\n",
       "54    105.510799\n",
       "55    106.873632\n",
       "56    105.544606\n",
       "57    105.235887\n",
       "58    105.420555\n",
       "59    106.520083\n",
       "Name: SG_Y, dtype: float64"
      ]
     },
     "execution_count": 664,
     "metadata": {},
     "output_type": "execute_result"
    }
   ],
   "source": [
    "\n",
    "#Build Theta Model and score MAE on sample Forecast\n",
    "theta = ThetaForecaster(sp=12)  \n",
    "#THETAforecaster = make_reduction(theta, window_length=12, strategy='recursive')\n",
    "#Fits on training data\n",
    "theta.fit(y)  \n",
    "#Forecasts\n",
    "Theta_y_preds = theta.predict(fh)\n",
    "#Calculates MAE for Theta \n",
    "thetaMAE = mean_absolute_error(y_test, Theta_y_preds)\n",
    "#Prints MAE score for model and predictions from model\n",
    "print('Theta Model - MAE is %.6f' % (thetaMAE))\n",
    "print('--------Theta Forecast--------')\n",
    "Theta_y_preds\n"
   ]
  },
  {
   "cell_type": "code",
   "execution_count": 665,
   "metadata": {},
   "outputs": [],
   "source": [
    "mae_scores = np.array([RFmae, DTmae, XGBmae, KNNmae, autoArimaMAE, ArimaMAE, SarimaxMAE, Proph_mae, ETSmae, ESmae, BATSmae, TBATSmae, NaiveMAE, lgbmMAE, thetaMAE])"
   ]
  },
  {
   "cell_type": "code",
   "execution_count": 666,
   "metadata": {},
   "outputs": [
    {
     "name": "stdout",
     "output_type": "stream",
     "text": [
      "Random Forest Model - MAE is 2.606042\n",
      "Decision Tree Model - MAE is 2.579861\n",
      "XGBOOST Model       - MAE is 2.593700\n",
      "K-NN Model          - MAE is 2.559028\n",
      "Auto ARIMA Model    - MAE is 6.104247\n",
      "ARIMA Model         - MAE is 7.521689\n",
      "SARIMAX Model       - MAE is 9.939516\n",
      "PROPHET Model       - MAE is 6.942886\n",
      "AUTO ETS Model      - MAE is 2.600905\n",
      "Exponential S Model - MAE is 5.073832\n",
      "BATS Model          - MAE is 3.050711\n",
      "TBATS Model         - MAE is 3.050711\n",
      "NAIVE Model         - MAE is 6.996528\n",
      "LGBM Model          - MAE is 9.871528\n",
      "Theta Model          - MAE is 3.122123\n"
     ]
    }
   ],
   "source": [
    "#   EVALUATION \n",
    "#Currently evaluates score of 15 regression models \n",
    "print('Random Forest Model - MAE is %.6f' % (RFmae))\n",
    "print('Decision Tree Model - MAE is %.6f' % (DTmae))\n",
    "print('XGBOOST Model       - MAE is %.6f' % (XGBmae))\n",
    "print('K-NN Model          - MAE is %.6f' % (KNNmae))\n",
    "print('Auto ARIMA Model    - MAE is %.6f' % (autoArimaMAE))\n",
    "print('ARIMA Model         - MAE is %.6f' % (ArimaMAE))\n",
    "print('SARIMAX Model       - MAE is %.6f' % (SarimaxMAE))\n",
    "print('PROPHET Model       - MAE is %.6f' % (Proph_mae))\n",
    "print('AUTO ETS Model      - MAE is %.6f' % (ETSmae))\n",
    "print('Exponential S Model - MAE is %.6f' % (ESmae))\n",
    "print('BATS Model          - MAE is %.6f' % (BATSmae))\n",
    "print('TBATS Model         - MAE is %.6f' % (TBATSmae))\n",
    "print('NAIVE Model         - MAE is %.6f' % (NaiveMAE))\n",
    "print('LGBM Model          - MAE is %.6f' % (lgbmMAE))\n",
    "print('Theta Model          - MAE is %.6f' % (thetaMAE))"
   ]
  },
  {
   "cell_type": "code",
   "execution_count": 667,
   "metadata": {},
   "outputs": [
    {
     "name": "stdout",
     "output_type": "stream",
     "text": [
      "Best MAE Result:  2.5590277858333317     Worst MAE Result:  9.93951591190452\n"
     ]
    }
   ],
   "source": [
    "#   Find Best Fit Model\n",
    "best_fit_model = np.amin(mae_scores)\n",
    "worst_fit_model = np.amax(mae_scores)\n",
    "print('Best MAE Result: ',best_fit_model, '    Worst MAE Result: ',worst_fit_model)\n",
    "#   For this data it shows K-NN as the model best fit and SARIMAX as the worst fit"
   ]
  },
  {
   "cell_type": "markdown",
   "metadata": {},
   "source": [
    "Multivariate VAR SKTIME Model"
   ]
  },
  {
   "cell_type": "code",
   "execution_count": 668,
   "metadata": {},
   "outputs": [],
   "source": [
    "#Imports\n",
    "#Using SKTIME 'load_longley' data for multivariate model\n",
    "from sktime.datasets import load_longley\n",
    "from sktime.forecasting.var import VAR\n",
    "from sktime.performance_metrics.forecasting import mean_absolute_error"
   ]
  },
  {
   "cell_type": "code",
   "execution_count": 669,
   "metadata": {},
   "outputs": [
    {
     "data": {
      "text/plain": [
       "Period\n",
       "1947    60323.0\n",
       "1948    61122.0\n",
       "1949    60171.0\n",
       "1950    61187.0\n",
       "1951    63221.0\n",
       "1952    63639.0\n",
       "1953    64989.0\n",
       "1954    63761.0\n",
       "1955    66019.0\n",
       "1956    67857.0\n",
       "1957    68169.0\n",
       "1958    66513.0\n",
       "1959    68655.0\n",
       "1960    69564.0\n",
       "1961    69331.0\n",
       "1962    70551.0\n",
       "Freq: A-DEC, Name: TOTEMP, dtype: float64"
      ]
     },
     "execution_count": 669,
     "metadata": {},
     "output_type": "execute_result"
    }
   ],
   "source": [
    "#Load data\n",
    "_, y = load_longley()\n",
    "\n",
    "#Show '_' data\n",
    "_"
   ]
  },
  {
   "cell_type": "code",
   "execution_count": 670,
   "metadata": {},
   "outputs": [
    {
     "data": {
      "text/html": [
       "<div>\n",
       "<style scoped>\n",
       "    .dataframe tbody tr th:only-of-type {\n",
       "        vertical-align: middle;\n",
       "    }\n",
       "\n",
       "    .dataframe tbody tr th {\n",
       "        vertical-align: top;\n",
       "    }\n",
       "\n",
       "    .dataframe thead th {\n",
       "        text-align: right;\n",
       "    }\n",
       "</style>\n",
       "<table border=\"1\" class=\"dataframe\">\n",
       "  <thead>\n",
       "    <tr style=\"text-align: right;\">\n",
       "      <th></th>\n",
       "      <th>GNPDEFL</th>\n",
       "      <th>GNP</th>\n",
       "      <th>UNEMP</th>\n",
       "      <th>ARMED</th>\n",
       "      <th>POP</th>\n",
       "    </tr>\n",
       "    <tr>\n",
       "      <th>Period</th>\n",
       "      <th></th>\n",
       "      <th></th>\n",
       "      <th></th>\n",
       "      <th></th>\n",
       "      <th></th>\n",
       "    </tr>\n",
       "  </thead>\n",
       "  <tbody>\n",
       "    <tr>\n",
       "      <th>1947</th>\n",
       "      <td>83.0</td>\n",
       "      <td>234289.0</td>\n",
       "      <td>2356.0</td>\n",
       "      <td>1590.0</td>\n",
       "      <td>107608.0</td>\n",
       "    </tr>\n",
       "    <tr>\n",
       "      <th>1948</th>\n",
       "      <td>88.5</td>\n",
       "      <td>259426.0</td>\n",
       "      <td>2325.0</td>\n",
       "      <td>1456.0</td>\n",
       "      <td>108632.0</td>\n",
       "    </tr>\n",
       "    <tr>\n",
       "      <th>1949</th>\n",
       "      <td>88.2</td>\n",
       "      <td>258054.0</td>\n",
       "      <td>3682.0</td>\n",
       "      <td>1616.0</td>\n",
       "      <td>109773.0</td>\n",
       "    </tr>\n",
       "    <tr>\n",
       "      <th>1950</th>\n",
       "      <td>89.5</td>\n",
       "      <td>284599.0</td>\n",
       "      <td>3351.0</td>\n",
       "      <td>1650.0</td>\n",
       "      <td>110929.0</td>\n",
       "    </tr>\n",
       "    <tr>\n",
       "      <th>1951</th>\n",
       "      <td>96.2</td>\n",
       "      <td>328975.0</td>\n",
       "      <td>2099.0</td>\n",
       "      <td>3099.0</td>\n",
       "      <td>112075.0</td>\n",
       "    </tr>\n",
       "    <tr>\n",
       "      <th>1952</th>\n",
       "      <td>98.1</td>\n",
       "      <td>346999.0</td>\n",
       "      <td>1932.0</td>\n",
       "      <td>3594.0</td>\n",
       "      <td>113270.0</td>\n",
       "    </tr>\n",
       "    <tr>\n",
       "      <th>1953</th>\n",
       "      <td>99.0</td>\n",
       "      <td>365385.0</td>\n",
       "      <td>1870.0</td>\n",
       "      <td>3547.0</td>\n",
       "      <td>115094.0</td>\n",
       "    </tr>\n",
       "    <tr>\n",
       "      <th>1954</th>\n",
       "      <td>100.0</td>\n",
       "      <td>363112.0</td>\n",
       "      <td>3578.0</td>\n",
       "      <td>3350.0</td>\n",
       "      <td>116219.0</td>\n",
       "    </tr>\n",
       "    <tr>\n",
       "      <th>1955</th>\n",
       "      <td>101.2</td>\n",
       "      <td>397469.0</td>\n",
       "      <td>2904.0</td>\n",
       "      <td>3048.0</td>\n",
       "      <td>117388.0</td>\n",
       "    </tr>\n",
       "    <tr>\n",
       "      <th>1956</th>\n",
       "      <td>104.6</td>\n",
       "      <td>419180.0</td>\n",
       "      <td>2822.0</td>\n",
       "      <td>2857.0</td>\n",
       "      <td>118734.0</td>\n",
       "    </tr>\n",
       "    <tr>\n",
       "      <th>1957</th>\n",
       "      <td>108.4</td>\n",
       "      <td>442769.0</td>\n",
       "      <td>2936.0</td>\n",
       "      <td>2798.0</td>\n",
       "      <td>120445.0</td>\n",
       "    </tr>\n",
       "    <tr>\n",
       "      <th>1958</th>\n",
       "      <td>110.8</td>\n",
       "      <td>444546.0</td>\n",
       "      <td>4681.0</td>\n",
       "      <td>2637.0</td>\n",
       "      <td>121950.0</td>\n",
       "    </tr>\n",
       "    <tr>\n",
       "      <th>1959</th>\n",
       "      <td>112.6</td>\n",
       "      <td>482704.0</td>\n",
       "      <td>3813.0</td>\n",
       "      <td>2552.0</td>\n",
       "      <td>123366.0</td>\n",
       "    </tr>\n",
       "    <tr>\n",
       "      <th>1960</th>\n",
       "      <td>114.2</td>\n",
       "      <td>502601.0</td>\n",
       "      <td>3931.0</td>\n",
       "      <td>2514.0</td>\n",
       "      <td>125368.0</td>\n",
       "    </tr>\n",
       "    <tr>\n",
       "      <th>1961</th>\n",
       "      <td>115.7</td>\n",
       "      <td>518173.0</td>\n",
       "      <td>4806.0</td>\n",
       "      <td>2572.0</td>\n",
       "      <td>127852.0</td>\n",
       "    </tr>\n",
       "    <tr>\n",
       "      <th>1962</th>\n",
       "      <td>116.9</td>\n",
       "      <td>554894.0</td>\n",
       "      <td>4007.0</td>\n",
       "      <td>2827.0</td>\n",
       "      <td>130081.0</td>\n",
       "    </tr>\n",
       "  </tbody>\n",
       "</table>\n",
       "</div>"
      ],
      "text/plain": [
       "        GNPDEFL       GNP   UNEMP   ARMED       POP\n",
       "Period                                             \n",
       "1947       83.0  234289.0  2356.0  1590.0  107608.0\n",
       "1948       88.5  259426.0  2325.0  1456.0  108632.0\n",
       "1949       88.2  258054.0  3682.0  1616.0  109773.0\n",
       "1950       89.5  284599.0  3351.0  1650.0  110929.0\n",
       "1951       96.2  328975.0  2099.0  3099.0  112075.0\n",
       "1952       98.1  346999.0  1932.0  3594.0  113270.0\n",
       "1953       99.0  365385.0  1870.0  3547.0  115094.0\n",
       "1954      100.0  363112.0  3578.0  3350.0  116219.0\n",
       "1955      101.2  397469.0  2904.0  3048.0  117388.0\n",
       "1956      104.6  419180.0  2822.0  2857.0  118734.0\n",
       "1957      108.4  442769.0  2936.0  2798.0  120445.0\n",
       "1958      110.8  444546.0  4681.0  2637.0  121950.0\n",
       "1959      112.6  482704.0  3813.0  2552.0  123366.0\n",
       "1960      114.2  502601.0  3931.0  2514.0  125368.0\n",
       "1961      115.7  518173.0  4806.0  2572.0  127852.0\n",
       "1962      116.9  554894.0  4007.0  2827.0  130081.0"
      ]
     },
     "execution_count": 670,
     "metadata": {},
     "output_type": "execute_result"
    }
   ],
   "source": [
    "#Show data\n",
    "y"
   ]
  },
  {
   "cell_type": "code",
   "execution_count": 671,
   "metadata": {},
   "outputs": [
    {
     "data": {
      "text/html": [
       "<div>\n",
       "<style scoped>\n",
       "    .dataframe tbody tr th:only-of-type {\n",
       "        vertical-align: middle;\n",
       "    }\n",
       "\n",
       "    .dataframe tbody tr th {\n",
       "        vertical-align: top;\n",
       "    }\n",
       "\n",
       "    .dataframe thead th {\n",
       "        text-align: right;\n",
       "    }\n",
       "</style>\n",
       "<table border=\"1\" class=\"dataframe\">\n",
       "  <thead>\n",
       "    <tr style=\"text-align: right;\">\n",
       "      <th></th>\n",
       "      <th>GNPDEFL</th>\n",
       "      <th>GNP</th>\n",
       "    </tr>\n",
       "    <tr>\n",
       "      <th>Period</th>\n",
       "      <th></th>\n",
       "      <th></th>\n",
       "    </tr>\n",
       "  </thead>\n",
       "  <tbody>\n",
       "    <tr>\n",
       "      <th>1947</th>\n",
       "      <td>83.0</td>\n",
       "      <td>234289.0</td>\n",
       "    </tr>\n",
       "    <tr>\n",
       "      <th>1948</th>\n",
       "      <td>88.5</td>\n",
       "      <td>259426.0</td>\n",
       "    </tr>\n",
       "    <tr>\n",
       "      <th>1949</th>\n",
       "      <td>88.2</td>\n",
       "      <td>258054.0</td>\n",
       "    </tr>\n",
       "    <tr>\n",
       "      <th>1950</th>\n",
       "      <td>89.5</td>\n",
       "      <td>284599.0</td>\n",
       "    </tr>\n",
       "    <tr>\n",
       "      <th>1951</th>\n",
       "      <td>96.2</td>\n",
       "      <td>328975.0</td>\n",
       "    </tr>\n",
       "    <tr>\n",
       "      <th>1952</th>\n",
       "      <td>98.1</td>\n",
       "      <td>346999.0</td>\n",
       "    </tr>\n",
       "    <tr>\n",
       "      <th>1953</th>\n",
       "      <td>99.0</td>\n",
       "      <td>365385.0</td>\n",
       "    </tr>\n",
       "    <tr>\n",
       "      <th>1954</th>\n",
       "      <td>100.0</td>\n",
       "      <td>363112.0</td>\n",
       "    </tr>\n",
       "    <tr>\n",
       "      <th>1955</th>\n",
       "      <td>101.2</td>\n",
       "      <td>397469.0</td>\n",
       "    </tr>\n",
       "    <tr>\n",
       "      <th>1956</th>\n",
       "      <td>104.6</td>\n",
       "      <td>419180.0</td>\n",
       "    </tr>\n",
       "    <tr>\n",
       "      <th>1957</th>\n",
       "      <td>108.4</td>\n",
       "      <td>442769.0</td>\n",
       "    </tr>\n",
       "    <tr>\n",
       "      <th>1958</th>\n",
       "      <td>110.8</td>\n",
       "      <td>444546.0</td>\n",
       "    </tr>\n",
       "    <tr>\n",
       "      <th>1959</th>\n",
       "      <td>112.6</td>\n",
       "      <td>482704.0</td>\n",
       "    </tr>\n",
       "    <tr>\n",
       "      <th>1960</th>\n",
       "      <td>114.2</td>\n",
       "      <td>502601.0</td>\n",
       "    </tr>\n",
       "    <tr>\n",
       "      <th>1961</th>\n",
       "      <td>115.7</td>\n",
       "      <td>518173.0</td>\n",
       "    </tr>\n",
       "    <tr>\n",
       "      <th>1962</th>\n",
       "      <td>116.9</td>\n",
       "      <td>554894.0</td>\n",
       "    </tr>\n",
       "  </tbody>\n",
       "</table>\n",
       "</div>"
      ],
      "text/plain": [
       "        GNPDEFL       GNP\n",
       "Period                   \n",
       "1947       83.0  234289.0\n",
       "1948       88.5  259426.0\n",
       "1949       88.2  258054.0\n",
       "1950       89.5  284599.0\n",
       "1951       96.2  328975.0\n",
       "1952       98.1  346999.0\n",
       "1953       99.0  365385.0\n",
       "1954      100.0  363112.0\n",
       "1955      101.2  397469.0\n",
       "1956      104.6  419180.0\n",
       "1957      108.4  442769.0\n",
       "1958      110.8  444546.0\n",
       "1959      112.6  482704.0\n",
       "1960      114.2  502601.0\n",
       "1961      115.7  518173.0\n",
       "1962      116.9  554894.0"
      ]
     },
     "execution_count": 671,
     "metadata": {},
     "output_type": "execute_result"
    }
   ],
   "source": [
    "#Drop Columns\n",
    "y = y.drop(columns=[\"UNEMP\", \"ARMED\", \"POP\"])\n",
    "\n",
    "y"
   ]
  },
  {
   "cell_type": "code",
   "execution_count": 672,
   "metadata": {},
   "outputs": [
    {
     "name": "stdout",
     "output_type": "stream",
     "text": [
      "VAR Forecaster Model - MAE is 186908.124322\n",
      "--------VAR Model Forecast--------\n"
     ]
    },
    {
     "data": {
      "text/html": [
       "<div>\n",
       "<style scoped>\n",
       "    .dataframe tbody tr th:only-of-type {\n",
       "        vertical-align: middle;\n",
       "    }\n",
       "\n",
       "    .dataframe tbody tr th {\n",
       "        vertical-align: top;\n",
       "    }\n",
       "\n",
       "    .dataframe thead th {\n",
       "        text-align: right;\n",
       "    }\n",
       "</style>\n",
       "<table border=\"1\" class=\"dataframe\">\n",
       "  <thead>\n",
       "    <tr style=\"text-align: right;\">\n",
       "      <th></th>\n",
       "      <th>GNPDEFL</th>\n",
       "      <th>GNP</th>\n",
       "    </tr>\n",
       "  </thead>\n",
       "  <tbody>\n",
       "    <tr>\n",
       "      <th>1963</th>\n",
       "      <td>121.688295</td>\n",
       "      <td>578514.398653</td>\n",
       "    </tr>\n",
       "    <tr>\n",
       "      <th>1964</th>\n",
       "      <td>124.353664</td>\n",
       "      <td>601873.015890</td>\n",
       "    </tr>\n",
       "    <tr>\n",
       "      <th>1965</th>\n",
       "      <td>126.847886</td>\n",
       "      <td>625411.588754</td>\n",
       "    </tr>\n",
       "    <tr>\n",
       "      <th>1966</th>\n",
       "      <td>129.348210</td>\n",
       "      <td>649172.142647</td>\n",
       "    </tr>\n",
       "    <tr>\n",
       "      <th>1967</th>\n",
       "      <td>131.870921</td>\n",
       "      <td>673160.464237</td>\n",
       "    </tr>\n",
       "    <tr>\n",
       "      <th>1968</th>\n",
       "      <td>134.417707</td>\n",
       "      <td>697379.071966</td>\n",
       "    </tr>\n",
       "    <tr>\n",
       "      <th>1969</th>\n",
       "      <td>136.988932</td>\n",
       "      <td>721830.206958</td>\n",
       "    </tr>\n",
       "    <tr>\n",
       "      <th>1970</th>\n",
       "      <td>139.584842</td>\n",
       "      <td>746516.104508</td>\n",
       "    </tr>\n",
       "    <tr>\n",
       "      <th>1971</th>\n",
       "      <td>142.205677</td>\n",
       "      <td>771439.018889</td>\n",
       "    </tr>\n",
       "    <tr>\n",
       "      <th>1972</th>\n",
       "      <td>144.851675</td>\n",
       "      <td>796601.225796</td>\n",
       "    </tr>\n",
       "    <tr>\n",
       "      <th>1973</th>\n",
       "      <td>147.523078</td>\n",
       "      <td>822005.022750</td>\n",
       "    </tr>\n",
       "    <tr>\n",
       "      <th>1974</th>\n",
       "      <td>150.220131</td>\n",
       "      <td>847652.729334</td>\n",
       "    </tr>\n",
       "    <tr>\n",
       "      <th>1975</th>\n",
       "      <td>152.943078</td>\n",
       "      <td>873546.687396</td>\n",
       "    </tr>\n",
       "    <tr>\n",
       "      <th>1976</th>\n",
       "      <td>155.692169</td>\n",
       "      <td>899689.261274</td>\n",
       "    </tr>\n",
       "    <tr>\n",
       "      <th>1977</th>\n",
       "      <td>158.467655</td>\n",
       "      <td>926082.838003</td>\n",
       "    </tr>\n",
       "    <tr>\n",
       "      <th>1978</th>\n",
       "      <td>161.269790</td>\n",
       "      <td>952729.827540</td>\n",
       "    </tr>\n",
       "  </tbody>\n",
       "</table>\n",
       "</div>"
      ],
      "text/plain": [
       "         GNPDEFL            GNP\n",
       "1963  121.688295  578514.398653\n",
       "1964  124.353664  601873.015890\n",
       "1965  126.847886  625411.588754\n",
       "1966  129.348210  649172.142647\n",
       "1967  131.870921  673160.464237\n",
       "1968  134.417707  697379.071966\n",
       "1969  136.988932  721830.206958\n",
       "1970  139.584842  746516.104508\n",
       "1971  142.205677  771439.018889\n",
       "1972  144.851675  796601.225796\n",
       "1973  147.523078  822005.022750\n",
       "1974  150.220131  847652.729334\n",
       "1975  152.943078  873546.687396\n",
       "1976  155.692169  899689.261274\n",
       "1977  158.467655  926082.838003\n",
       "1978  161.269790  952729.827540"
      ]
     },
     "execution_count": 672,
     "metadata": {},
     "output_type": "execute_result"
    }
   ],
   "source": [
    "#Build multivariate Model\n",
    "#Define VAR Model\n",
    "forecaster = VAR()\n",
    "#Fit VAR Model\n",
    "forecaster.fit(y, fh=[1, 2, 3, 4, 5, 6, 7, 8, 9, 10, 11, 12, 13, 14, 15, 16])\n",
    "#Forecasts\n",
    "var_y_preds = forecaster.predict()\n",
    "#Calculates MAE for BATS Model\n",
    "varMAE = mean_absolute_error(y, var_y_preds)\n",
    "#Prints MAE score for model\n",
    "print('VAR Forecaster Model - MAE is %.6f' % (varMAE))\n",
    "print('--------VAR Model Forecast--------')\n",
    "\n",
    "\n",
    "var_y_preds\n"
   ]
  }
 ],
 "metadata": {
  "kernelspec": {
   "display_name": "Python 3.10.9 64-bit (microsoft store)",
   "language": "python",
   "name": "python3"
  },
  "language_info": {
   "codemirror_mode": {
    "name": "ipython",
    "version": 3
   },
   "file_extension": ".py",
   "mimetype": "text/x-python",
   "name": "python",
   "nbconvert_exporter": "python",
   "pygments_lexer": "ipython3",
   "version": "3.10.9"
  },
  "orig_nbformat": 4,
  "vscode": {
   "interpreter": {
    "hash": "9eb92a4ab26d26848c8c97605f0707ae8c7b8fcfac58dddfca39ef7715bb137d"
   }
  }
 },
 "nbformat": 4,
 "nbformat_minor": 2
}
