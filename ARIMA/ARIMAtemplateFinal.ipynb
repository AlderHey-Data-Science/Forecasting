{
 "cells": [
  {
   "cell_type": "markdown",
   "metadata": {},
   "source": [
    "-------------------TIME SERIES MODELS------------------\n",
    "\n",
    "ARIMA REGRESSION TEMPLATE\n",
    "\n",
    "For use on datasets with a named 'Date' column and target (Y) Value column as shown below:\n",
    "\n",
    "Date ¦ Value"
   ]
  },
  {
   "cell_type": "code",
   "execution_count": 163,
   "metadata": {},
   "outputs": [],
   "source": [
    "''' --ARIMA MODEL--\n",
    "IMPORTS \n",
    "'''\n",
    "import warnings\n",
    "warnings.filterwarnings(\"ignore\")\n",
    "import pandas as pd\n",
    "import datetime as dt\n",
    "import numpy as np\n",
    "from numpy import asarray\n",
    "from pandas import read_csv\n",
    "from pandas import DataFrame\n",
    "from pandas import concat\n",
    "from sklearn.metrics import mean_absolute_error \n",
    "from sklearn.metrics import mean_squared_error\n",
    "from dateutil.relativedelta import *\n",
    "from statsmodels.tsa.arima.model import ARIMA"
   ]
  },
  {
   "cell_type": "code",
   "execution_count": 164,
   "metadata": {},
   "outputs": [],
   "source": [
    "''' LOAD DATA \n",
    "'''\n",
    "data = pd.read_csv('data_for_inequalities.csv')\n",
    "\n",
    "'''Sets User Defined 'target_col' as Series.\n",
    "'''\n",
    "data = pd.Series(data['SG_Y'])"
   ]
  },
  {
   "cell_type": "code",
   "execution_count": 165,
   "metadata": {},
   "outputs": [],
   "source": [
    "''' USER DEFINED\n",
    " \n",
    "Length_of_split: Use 12 for month cycles or 30 for daily cycles or 24 for hourly cycles\n",
    "\n",
    "target_col: specify target Y column name - target_col = 'Name of your target column'\n",
    "\n",
    "number_of_steps: Specify Number of steps to predict \n",
    "\n",
    "length_of_train: Specify number of values to train \n",
    " \n",
    "Use # to comment out what you dont need and remove # for what you need\n",
    "'''\n",
    "length_of_split = 12\n",
    "#   length_of_split = 30\n",
    "#   length_of_split = 24\n",
    "target_col = 'SG_Y'\n",
    "number_of_steps = 36\n",
    "length_of_train = 24"
   ]
  },
  {
   "cell_type": "code",
   "execution_count": 166,
   "metadata": {},
   "outputs": [],
   "source": [
    "'''Last n rows are hidden from training \n",
    "'''\n",
    "data = data.drop(data.tail(length_of_split).index)"
   ]
  },
  {
   "cell_type": "code",
   "execution_count": 167,
   "metadata": {},
   "outputs": [],
   "source": [
    "'''ARIMA Model\n",
    "- ARIMA Order is dependant on data\n",
    "'''\n",
    "# Fit the model on the historic data\n",
    "model = ARIMA(ARIMAdata, order=(1, 0, 1))\n",
    "model_fit = model.fit()\n",
    "pred = model_fit.predict(-length_of_split)"
   ]
  },
  {
   "cell_type": "code",
   "execution_count": 168,
   "metadata": {},
   "outputs": [
    {
     "name": "stdout",
     "output_type": "stream",
     "text": [
      "ARIMA MAE: 7.21\n",
      "ARIMA MSE: 69.66\n",
      "ARIMA RMSE: 8.35\n"
     ]
    }
   ],
   "source": [
    "'''Model Metric Score\n",
    "'''\n",
    "#Mean Absolute Error Metric\n",
    "arimaMAE = mean_absolute_error(y_test, pred)\n",
    "arimaMSE = mean_squared_error(y_test, pred)\n",
    "print(\"ARIMA MAE: %.2f\" % arimaMAE)\n",
    "print(\"ARIMA MSE: %.2f\" % arimaMSE)\n",
    "print(\"ARIMA RMSE: %.2f\" % (arimaMSE**(1/2.0)))"
   ]
  },
  {
   "cell_type": "code",
   "execution_count": 169,
   "metadata": {},
   "outputs": [],
   "source": [
    "#predict\n",
    "pred = (model_fit.predict(len(data), len(data)+ number_of_steps))\n",
    "pred = pd.DataFrame(pred).reset_index()\n",
    "pred = pred.rename(columns={'predicted_mean':'Values'})\n",
    "pred['Values'] = pred['Values'].round()"
   ]
  },
  {
   "cell_type": "code",
   "execution_count": 170,
   "metadata": {},
   "outputs": [],
   "source": [
    "'''Print Predictions to csv called: 'arimaPredictions.csv'\n",
    "'''\n",
    "pred.to_csv('arimaPredictions.csv', index=False)"
   ]
  },
  {
   "cell_type": "code",
   "execution_count": 171,
   "metadata": {},
   "outputs": [
    {
     "name": "stdout",
     "output_type": "stream",
     "text": [
      "ARIMA    MAE:  7.21\n"
     ]
    }
   ],
   "source": [
    "'''Evaluation of Models by Mean Absolute Error\n",
    "'''\n",
    "#Closer MAE to 0 shows the model with more accurate predictions and thus should be used for Users data.\n",
    "print(\"ARIMA    MAE:  %.2f\" % arimaMAE)"
   ]
  }
 ],
 "metadata": {
  "kernelspec": {
   "display_name": "Python 3.10.9 64-bit (microsoft store)",
   "language": "python",
   "name": "python3"
  },
  "language_info": {
   "codemirror_mode": {
    "name": "ipython",
    "version": 3
   },
   "file_extension": ".py",
   "mimetype": "text/x-python",
   "name": "python",
   "nbconvert_exporter": "python",
   "pygments_lexer": "ipython3",
   "version": "3.10.9"
  },
  "orig_nbformat": 4,
  "vscode": {
   "interpreter": {
    "hash": "9eb92a4ab26d26848c8c97605f0707ae8c7b8fcfac58dddfca39ef7715bb137d"
   }
  }
 },
 "nbformat": 4,
 "nbformat_minor": 2
}
