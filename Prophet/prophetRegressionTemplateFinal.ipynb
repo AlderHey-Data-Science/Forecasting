{
 "cells": [
  {
   "cell_type": "markdown",
   "metadata": {},
   "source": [
    "-------------------TIME SERIES MODELS------------------\n",
    "\n",
    "PROPHET TEMPLATE \n",
    "\n",
    "For use on datasets with a Date column and target (Y) Value column as shown below:\n",
    "\n",
    "Date ¦ Value\n"
   ]
  },
  {
   "cell_type": "code",
   "execution_count": 97,
   "metadata": {},
   "outputs": [],
   "source": [
    "#PROPHET REGRESSION FOR TIME SERIES\n",
    "\n",
    "#IMPORTS\n",
    "import numpy as np\n",
    "import pandas as pd\n",
    "from prophet import Prophet\n",
    "from sklearn.metrics import mean_absolute_error\n",
    "from pandas import DataFrame\n",
    "from pandas import read_csv\n",
    "from pandas import to_datetime\n",
    "import matplotlib.pyplot as plt "
   ]
  },
  {
   "cell_type": "code",
   "execution_count": 98,
   "metadata": {},
   "outputs": [
    {
     "data": {
      "text/html": [
       "<div>\n",
       "<style scoped>\n",
       "    .dataframe tbody tr th:only-of-type {\n",
       "        vertical-align: middle;\n",
       "    }\n",
       "\n",
       "    .dataframe tbody tr th {\n",
       "        vertical-align: top;\n",
       "    }\n",
       "\n",
       "    .dataframe thead th {\n",
       "        text-align: right;\n",
       "    }\n",
       "</style>\n",
       "<table border=\"1\" class=\"dataframe\">\n",
       "  <thead>\n",
       "    <tr style=\"text-align: right;\">\n",
       "      <th></th>\n",
       "      <th>ds</th>\n",
       "      <th>y</th>\n",
       "    </tr>\n",
       "  </thead>\n",
       "  <tbody>\n",
       "    <tr>\n",
       "      <th>0</th>\n",
       "      <td>2017-12-01</td>\n",
       "      <td>76.500</td>\n",
       "    </tr>\n",
       "    <tr>\n",
       "      <th>1</th>\n",
       "      <td>2018-01-01</td>\n",
       "      <td>82.750</td>\n",
       "    </tr>\n",
       "    <tr>\n",
       "      <th>2</th>\n",
       "      <td>2018-02-01</td>\n",
       "      <td>85.500</td>\n",
       "    </tr>\n",
       "    <tr>\n",
       "      <th>3</th>\n",
       "      <td>2018-03-01</td>\n",
       "      <td>86.125</td>\n",
       "    </tr>\n",
       "    <tr>\n",
       "      <th>4</th>\n",
       "      <td>2018-04-01</td>\n",
       "      <td>88.700</td>\n",
       "    </tr>\n",
       "  </tbody>\n",
       "</table>\n",
       "</div>"
      ],
      "text/plain": [
       "          ds       y\n",
       "0 2017-12-01  76.500\n",
       "1 2018-01-01  82.750\n",
       "2 2018-02-01  85.500\n",
       "3 2018-03-01  86.125\n",
       "4 2018-04-01  88.700"
      ]
     },
     "execution_count": 98,
     "metadata": {},
     "output_type": "execute_result"
    }
   ],
   "source": [
    "#Load data\n",
    "data = pd.read_csv('data_for_inequalities.csv')\n",
    "#Prepare expected column names for Prophet model 'ds' date col and 'y' observations column\n",
    "data.columns = ['ds', 'y']\n",
    "data['ds'] = to_datetime(data['ds'])\n",
    "data.head()"
   ]
  },
  {
   "cell_type": "code",
   "execution_count": 99,
   "metadata": {},
   "outputs": [],
   "source": [
    "#USER DEFINED\n",
    "#Define number of steps to Predict\n",
    "number_of_steps = 12"
   ]
  },
  {
   "cell_type": "code",
   "execution_count": 100,
   "metadata": {},
   "outputs": [
    {
     "name": "stderr",
     "output_type": "stream",
     "text": [
      "11:46:55 - cmdstanpy - INFO - Chain [1] start processing\n",
      "11:46:55 - cmdstanpy - INFO - Chain [1] done processing\n"
     ]
    },
    {
     "data": {
      "text/plain": [
       "<prophet.forecaster.Prophet at 0x212f4907b80>"
      ]
     },
     "execution_count": 100,
     "metadata": {},
     "output_type": "execute_result"
    }
   ],
   "source": [
    "#Fitting Prophet Model\n",
    "\n",
    "#Define Model\n",
    "prophetModel = Prophet()\n",
    "#Fitting the model\n",
    "prophetModel.fit(data)"
   ]
  },
  {
   "cell_type": "code",
   "execution_count": 101,
   "metadata": {},
   "outputs": [],
   "source": [
    "# define the period for which we want a prediction\n",
    "in_sample = list()\n",
    "for i in range(1, number_of_steps+1):\n",
    " date = '2022-%12d' % i\n",
    " in_sample.append([date])\n",
    "in_sample = DataFrame(in_sample)\n",
    "in_sample.columns = ['ds']\n",
    "in_sample['ds']= to_datetime(in_sample['ds'])"
   ]
  },
  {
   "cell_type": "code",
   "execution_count": 102,
   "metadata": {},
   "outputs": [
    {
     "name": "stdout",
     "output_type": "stream",
     "text": [
      "           ds        yhat  yhat_lower  yhat_upper\n",
      "0  2022-01-01  103.537132   99.832534  107.324065\n",
      "1  2022-02-01  105.439908  101.550640  109.070371\n",
      "2  2022-03-01  103.750603   99.899220  107.314674\n",
      "3  2022-04-01  104.345211  100.697495  108.308721\n",
      "4  2022-05-01  104.827930  101.072118  108.559787\n",
      "5  2022-06-01  104.889418  101.206021  108.504496\n",
      "6  2022-07-01  104.736227  101.040451  108.341095\n",
      "7  2022-08-01  103.721332   99.801991  107.387904\n",
      "8  2022-09-01  103.514679   99.886864  107.270157\n",
      "9  2022-10-01  103.978689  100.159006  107.570956\n",
      "10 2022-11-01  105.237863  101.375891  108.906427\n",
      "11 2022-12-01  105.013123  101.265322  108.590781\n"
     ]
    }
   ],
   "source": [
    "# ds                = Forecasted Datetime\n",
    "# yhat              = Forecasted Value\n",
    "# yhat_lower/upper  = Lower and Upper bounds of the Forecasted Value\n",
    "\n",
    "# use the model to make an in-sample forecast\n",
    "forecast = prophetModel.predict(in_sample)\n",
    "# summarize the forecast\n",
    "print(forecast[['ds', 'yhat', 'yhat_lower', 'yhat_upper']])"
   ]
  },
  {
   "cell_type": "code",
   "execution_count": 103,
   "metadata": {},
   "outputs": [],
   "source": [
    "# plot forecast\n",
    "#prophetModel.plot(forecast)\n",
    "#plt.show()"
   ]
  },
  {
   "cell_type": "code",
   "execution_count": 104,
   "metadata": {},
   "outputs": [
    {
     "name": "stdout",
     "output_type": "stream",
     "text": [
      "MAE: 2.627\n"
     ]
    }
   ],
   "source": [
    "#   Metric Score of Model\n",
    "#Mean Absolute Error\n",
    "# calculates MAE between expected and predicted values for defined period set by user \n",
    "y_true = data['y'][-number_of_steps:].values\n",
    "y_pred = forecast['yhat'].values\n",
    "mae = mean_absolute_error(y_true, y_pred)\n",
    "print('MAE: %.3f' % mae)"
   ]
  },
  {
   "cell_type": "code",
   "execution_count": 105,
   "metadata": {},
   "outputs": [],
   "source": [
    "#   Prophet Model Out-of-sample Forecast\n",
    "# define the period for which we want a prediction\n",
    "future = list()\n",
    "for j in range(1, number_of_steps+1):\n",
    " future_date = '2023-%02d' % j\n",
    " future.append([future_date])\n",
    "future = DataFrame(future)\n",
    "future.columns = ['ds']\n",
    "future['ds']= to_datetime(future['ds'])"
   ]
  },
  {
   "cell_type": "code",
   "execution_count": 106,
   "metadata": {},
   "outputs": [
    {
     "name": "stdout",
     "output_type": "stream",
     "text": [
      "           ds        yhat  yhat_lower  yhat_upper\n",
      "0  2023-01-01  105.926546  101.956777  109.441592\n",
      "1  2023-02-01  106.384485  102.774351  110.309529\n",
      "2  2023-03-01  107.034522  103.254483  110.841518\n",
      "3  2023-04-01  106.764195  102.970852  110.444595\n",
      "4  2023-05-01  107.592777  103.799133  111.441877\n",
      "5  2023-06-01  109.007483  105.395500  112.660922\n",
      "6  2023-07-01  106.390248  102.635919  110.043644\n",
      "7  2023-08-01  105.796126  101.878390  109.405343\n",
      "8  2023-09-01  106.273019  102.550990  110.021032\n",
      "9  2023-10-01  105.912594  102.217656  109.967613\n",
      "10 2023-11-01  108.148028  104.181406  112.006834\n",
      "11 2023-12-01  109.340729  105.496951  112.965674\n"
     ]
    }
   ],
   "source": [
    "# ds                = Forecasted Datetime\n",
    "# yhat              = Forecasted Value\n",
    "# yhat_lower/upper  = Lower and Upper bounds of the Forecasted Value\n",
    "\n",
    "# use the model to make an out-of-sample forecast\n",
    "futureForecast = prophetModel.predict(future)\n",
    "# summarize the forecast\n",
    "print(futureForecast[['ds', 'yhat', 'yhat_lower', 'yhat_upper']])"
   ]
  },
  {
   "cell_type": "code",
   "execution_count": 107,
   "metadata": {},
   "outputs": [
    {
     "name": "stdout",
     "output_type": "stream",
     "text": [
      "MAE: 2.627\n"
     ]
    }
   ],
   "source": [
    "#MAE\n",
    "print('MAE: %.3f' % mae)"
   ]
  },
  {
   "cell_type": "code",
   "execution_count": 108,
   "metadata": {},
   "outputs": [],
   "source": [
    "# plot forecast\n",
    "#prophetModel.plot(futureForecast)\n",
    "#Plot\n",
    "#plt.show()"
   ]
  }
 ],
 "metadata": {
  "kernelspec": {
   "display_name": "Python 3.10.9 64-bit (microsoft store)",
   "language": "python",
   "name": "python3"
  },
  "language_info": {
   "codemirror_mode": {
    "name": "ipython",
    "version": 3
   },
   "file_extension": ".py",
   "mimetype": "text/x-python",
   "name": "python",
   "nbconvert_exporter": "python",
   "pygments_lexer": "ipython3",
   "version": "3.10.9"
  },
  "orig_nbformat": 4,
  "vscode": {
   "interpreter": {
    "hash": "9eb92a4ab26d26848c8c97605f0707ae8c7b8fcfac58dddfca39ef7715bb137d"
   }
  }
 },
 "nbformat": 4,
 "nbformat_minor": 2
}
