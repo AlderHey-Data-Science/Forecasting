{
 "cells": [
  {
   "cell_type": "markdown",
   "metadata": {},
   "source": [
    "-------------------UNIVARIATE TIME SERIES FORECASTING------------------\n",
    "\n",
    "XGBOOST REGRESSION TEMPLATE\n",
    "\n",
    "For use on datasets with a named 'Date' column and target (Y) Value column as shown below:\n",
    "\n",
    "Date ¦ Value"
   ]
  },
  {
   "cell_type": "code",
   "execution_count": 57,
   "metadata": {},
   "outputs": [],
   "source": [
    "''' IMPORTS\n",
    "'''\n",
    "import warnings\n",
    "warnings.filterwarnings(\"ignore\")\n",
    "import pandas as pd\n",
    "import xgboost as xgb\n",
    "import datetime as dt\n",
    "import numpy as np\n",
    "from numpy import asarray\n",
    "from pandas import read_csv\n",
    "from pandas import DataFrame\n",
    "from pandas import concat\n",
    "from xgboost import XGBRegressor\n",
    "from sklearn.metrics import mean_absolute_error \n",
    "from sklearn.metrics import mean_squared_error\n",
    "from dateutil.relativedelta import *\n",
    "from statsmodels.tsa.arima.model import ARIMA"
   ]
  },
  {
   "cell_type": "code",
   "execution_count": 58,
   "metadata": {},
   "outputs": [],
   "source": [
    "''' LOAD DATA\n",
    "Load Data with X 'Date' Column and Y target value column. Y column must be numeric value!\n",
    "Change file path specific to the location of your time series data. file path for data and loop must match exactly!\n",
    "-\n",
    "ARIMAdata is used so user only has to input csv file Once!\n",
    "'''\n",
    "                        #Change Input Data\n",
    "data = pd.read_csv('data_for_inequalities.csv')\n",
    "                        #Change Input Data\n",
    "loopData = pd.read_csv('data_for_inequalities.csv')\n"
   ]
  },
  {
   "cell_type": "code",
   "execution_count": 59,
   "metadata": {},
   "outputs": [],
   "source": [
    "''' USER DEFINED\n",
    " \n",
    "Length_of_split: Use 12 for month cycles or 30 for daily cycles or 24 for hourly cycles\n",
    "\n",
    "target_col: specify target Y column name - target_col = 'Name of your target column'\n",
    "\n",
    "number_of_steps: Specify Number of steps to predict \n",
    "\n",
    "length_of_train: Specify number of values to train \n",
    " \n",
    "Use # to comment out what you dont need and remove # for what you need\n",
    "'''\n",
    "length_of_split = 12\n",
    "#   length_of_split = 30\n",
    "#   length_of_split = 24\n",
    "target_col = 'SG_Y'\n",
    "number_of_steps = 36\n",
    "length_of_train = 24\n",
    "\n",
    "#Turns target value Y column into type integer to type float for use in XGB Loop\n",
    "loopData[target_col] = loopData[target_col].astype(float)\n"
   ]
  },
  {
   "cell_type": "code",
   "execution_count": 60,
   "metadata": {},
   "outputs": [],
   "source": [
    "''' PRE PROCESSING \n",
    "Sorts data in sliding window technique shifting values one-step\n",
    "to create new columns of X variables for target 'target_col' Y variable.\n",
    "'''\n",
    "for i in range(1, length_of_split+1):\n",
    "    col_name = 'n-' + str(i)\n",
    "    data[col_name] = data[target_col].shift(i)\n",
    "\n",
    "data.set_index('Date', inplace = True)"
   ]
  },
  {
   "cell_type": "code",
   "execution_count": 61,
   "metadata": {},
   "outputs": [],
   "source": [
    "''' DROPS NAN VALUES\n",
    "'''\n",
    "data = data.dropna()"
   ]
  },
  {
   "cell_type": "code",
   "execution_count": 62,
   "metadata": {},
   "outputs": [],
   "source": [
    "''' TRAIN/TEST SPLIT\n",
    "Splits processed data into train/test.\n",
    "'''\n",
    "X_train = data.head(length_of_train).drop(target_col, axis = 1)\n",
    "y_train = data.head(length_of_train)[target_col]\n",
    "\n",
    "X_test = data.tail(length_of_split).drop(target_col, axis = 1)\n",
    "y_test = data.tail(length_of_split)[target_col]\n"
   ]
  },
  {
   "cell_type": "code",
   "execution_count": 63,
   "metadata": {},
   "outputs": [
    {
     "data": {
      "text/plain": [
       "array([104.091156, 103.92977 , 104.415306, 104.32933 , 103.92977 ,\n",
       "       104.01575 , 104.01575 , 104.01575 , 104.415306, 104.32769 ,\n",
       "       104.32769 , 104.32769 ], dtype=float32)"
      ]
     },
     "execution_count": 63,
     "metadata": {},
     "output_type": "execute_result"
    }
   ],
   "source": [
    "''' XGBOOST\n",
    "Creates model then fits model on Training data.\n",
    "'''\n",
    "model_fit = xgb.XGBRegressor(objective='reg:squarederror', n_estimators = 1000)\n",
    "model_fit.fit(X_train, y_train)\n",
    "model_fit.predict(X_test)"
   ]
  },
  {
   "cell_type": "code",
   "execution_count": 64,
   "metadata": {},
   "outputs": [
    {
     "name": "stdout",
     "output_type": "stream",
     "text": [
      "XGBoost MAE: 2.69\n",
      "XGBoost MSE: 9.78\n",
      "XGBoost RMSE: 3.13\n"
     ]
    }
   ],
   "source": [
    "''' METRICS\n",
    "Gives MAE, MSE & RMSE scores for XGBoost\n",
    "'''\n",
    "ypred = model_fit.predict(X_test)\n",
    "mse = mean_squared_error(y_test, ypred)\n",
    "mae = mean_absolute_error(y_test, ypred)\n",
    "print(\"XGBoost MAE: %.2f\" % mae)\n",
    "print(\"XGBoost MSE: %.2f\" % mse)\n",
    "print(\"XGBoost RMSE: %.2f\" % (mse**(1/2.0)))"
   ]
  },
  {
   "cell_type": "code",
   "execution_count": 65,
   "metadata": {},
   "outputs": [
    {
     "name": "stdout",
     "output_type": "stream",
     "text": [
      "---XGBoost MAE: 2.69\n",
      "---XGBoost Predictions:\n",
      "       Date   SG_Y\n",
      "47  2022/11  103.0\n",
      "48  2022/12  107.0\n",
      "49  2023/01  107.0\n",
      "50  2023/02  106.0\n",
      "51  2023/03  104.0\n",
      "52  2023/04  100.0\n",
      "53  2023/05  100.0\n",
      "54  2023/06  100.0\n",
      "55  2023/07  102.0\n",
      "56  2023/08  105.0\n",
      "57  2023/09  107.0\n",
      "58  2023/10  106.0\n",
      "59  2023/11  104.0\n",
      "60  2023/12  104.0\n",
      "61  2024/01  101.0\n",
      "62  2024/02   99.0\n",
      "63  2024/03  102.0\n",
      "64  2024/04  105.0\n",
      "65  2024/05  107.0\n",
      "66  2024/06  107.0\n",
      "67  2024/07  106.0\n",
      "68  2024/08  104.0\n",
      "69  2024/09  101.0\n",
      "70  2024/10  100.0\n",
      "71  2024/11  101.0\n",
      "72  2024/12  103.0\n",
      "73  2025/01  107.0\n",
      "74  2025/02  107.0\n",
      "75  2025/03  106.0\n",
      "76  2025/04  105.0\n",
      "77  2025/05  101.0\n",
      "78  2025/06  100.0\n",
      "79  2025/07  100.0\n",
      "80  2025/08  102.0\n",
      "81  2025/09  105.0\n",
      "82  2025/10  106.0\n"
     ]
    }
   ],
   "source": [
    "''' FUTURE PREDICTIONS\n",
    "Loop used for predicting next 'n' values - 'n' = number_of_steps (as defined by user earlier)\n",
    "Change file path specific to your time series data\n",
    "'''\n",
    "                    #Change Input Data \n",
    "df = loopData\n",
    "print(\"---XGBoost MAE: %.2f\" % mae)\n",
    "print('---XGBoost Predictions:')\n",
    "for i in range(1, number_of_steps):\n",
    "    forecast = pd.DataFrame(columns=df.columns)\n",
    "    forecast['Date'] = pd.date_range(start = pd.to_datetime(max(df['Date'])) + relativedelta(months = 1), periods = 1, freq='M')\n",
    "    forecast['Date'] = pd.to_datetime(forecast['Date'])\n",
    "    forecast['Date'] = forecast['Date'].dt.strftime('%Y/%m')\n",
    "   \n",
    "    #Adds empty row to dataframe\n",
    "    data = df.append(forecast)\n",
    "\n",
    "    #Creates shifted columns n-1, n-2 ... n-12 for previous values\n",
    "    for j in range(1, length_of_split + 1):\n",
    "        coll_name = 'n-' + str(j)\n",
    "        data[coll_name] = data[target_col].shift(j)\n",
    "\n",
    "    data.set_index('Date', inplace = True)\n",
    "\n",
    "    #Uses last row of n values as input for predictions\n",
    "    X_forecast = data.tail(1).drop(target_col, axis = 1)\n",
    "\n",
    "    #Removes last row as not for future so shouldn't be used in Training\n",
    "    data = data.dropna()\n",
    "    X_test_forecast = data.drop(target_col, axis = 1)\n",
    "    y_test_forecast = data[target_col]\n",
    "\n",
    "    #Fits XGBoost model\n",
    "    import xgboost as xgb\n",
    "    model_fit = xgb.XGBRegressor(objective = 'reg:squarederror', n_estimators = 1000)\n",
    "    model_fit.fit(X_test_forecast, y_test_forecast)\n",
    "    predictions = model_fit.predict(X_forecast)\n",
    "\n",
    "    #Fill the next NaN values\n",
    "    forecast = forecast.fillna(predictions[0])\n",
    "    df = df.append(forecast).reset_index(drop = True)\n",
    "\n",
    "#Rounds predictions to the nearest whole number    \n",
    "df[target_col] = df[target_col].round()\n",
    "print(df.tail(number_of_steps))\n",
    "\n",
    "#Outputs future dates column and prediction column to csv file named: 'xgbPredictions.csv'\n",
    "df.tail(number_of_steps).to_csv('xgbPredictions.csv', index=False)"
   ]
  }
 ],
 "metadata": {
  "kernelspec": {
   "display_name": "Python 3.10.9 64-bit (microsoft store)",
   "language": "python",
   "name": "python3"
  },
  "language_info": {
   "codemirror_mode": {
    "name": "ipython",
    "version": 3
   },
   "file_extension": ".py",
   "mimetype": "text/x-python",
   "name": "python",
   "nbconvert_exporter": "python",
   "pygments_lexer": "ipython3",
   "version": "3.10.9"
  },
  "orig_nbformat": 4,
  "vscode": {
   "interpreter": {
    "hash": "9eb92a4ab26d26848c8c97605f0707ae8c7b8fcfac58dddfca39ef7715bb137d"
   }
  }
 },
 "nbformat": 4,
 "nbformat_minor": 2
}
