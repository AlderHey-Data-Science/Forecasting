{
 "cells": [
  {
   "cell_type": "code",
   "execution_count": 2,
   "metadata": {},
   "outputs": [],
   "source": [
    "#   IMPORTS\n",
    "from sktime.utils.plotting import plot_series\n",
    "from sktime.forecasting.base import ForecastingHorizon\n",
    "from sktime.forecasting.model_selection import temporal_train_test_split\n",
    "from sktime.forecasting.naive import NaiveForecaster\n",
    "from sktime.performance_metrics.forecasting import MeanAbsolutePercentageError\n",
    "from sktime.performance_metrics.forecasting import mean_absolute_error\n",
    "from sktime.forecasting.compose import make_reduction\n",
    "from sktime.forecasting.fbprophet import Prophet\n",
    "from sktime.forecasting.ets import AutoETS\n",
    "from sktime.forecasting.exp_smoothing import ExponentialSmoothing\n",
    "from sktime.forecasting.bats import BATS\n",
    "from sktime.forecasting.tbats import TBATS\n",
    "from sktime.forecasting.var import VAR\n",
    "from sktime.forecasting.arima import AutoARIMA\n",
    "from sktime.forecasting.arima import ARIMA\n",
    "from sktime.forecasting.sarimax import SARIMAX\n",
    "from sktime.forecasting.theta import ThetaForecaster\n",
    "from sktime.forecasting.trend import TrendForecaster\n",
    "from sktime.forecasting.compose import EnsembleForecaster\n",
    "\n",
    "from xgboost import XGBRegressor\n",
    "from lightgbm import LGBMRegressor\n",
    "from prophet.forecaster import Prophet \n",
    "\n",
    "import pandas as pd\n",
    "\n",
    "from sklearn.neighbors import KNeighborsRegressor\n",
    "from sklearn.ensemble import RandomForestRegressor\n",
    "from sklearn.tree import DecisionTreeRegressor\n",
    "from sklearn.ensemble import GradientBoostingRegressor\n",
    "from sklearn.ensemble import StackingRegressor\n",
    "from sklearn.ensemble import BaggingRegressor\n",
    "from sklearn.ensemble import BaseEnsemble\n",
    "from sklearn.metrics import mean_squared_log_error\n",
    "\n",
    "from pandas import read_csv\n",
    "import pandas as pd \n",
    "import numpy as np\n",
    "import warnings\n",
    "import datetime\n",
    "import warnings\n",
    "warnings.filterwarnings(\"ignore\")"
   ]
  },
  {
   "cell_type": "code",
   "execution_count": 3,
   "metadata": {},
   "outputs": [
    {
     "data": {
      "text/html": [
       "<div>\n",
       "<style scoped>\n",
       "    .dataframe tbody tr th:only-of-type {\n",
       "        vertical-align: middle;\n",
       "    }\n",
       "\n",
       "    .dataframe tbody tr th {\n",
       "        vertical-align: top;\n",
       "    }\n",
       "\n",
       "    .dataframe thead th {\n",
       "        text-align: right;\n",
       "    }\n",
       "</style>\n",
       "<table border=\"1\" class=\"dataframe\">\n",
       "  <thead>\n",
       "    <tr style=\"text-align: right;\">\n",
       "      <th></th>\n",
       "      <th>Date</th>\n",
       "      <th>SG_Y</th>\n",
       "    </tr>\n",
       "  </thead>\n",
       "  <tbody>\n",
       "    <tr>\n",
       "      <th>0</th>\n",
       "      <td>2017/12</td>\n",
       "      <td>76.500</td>\n",
       "    </tr>\n",
       "    <tr>\n",
       "      <th>1</th>\n",
       "      <td>2018/01</td>\n",
       "      <td>82.750</td>\n",
       "    </tr>\n",
       "    <tr>\n",
       "      <th>2</th>\n",
       "      <td>2018/02</td>\n",
       "      <td>85.500</td>\n",
       "    </tr>\n",
       "    <tr>\n",
       "      <th>3</th>\n",
       "      <td>2018/03</td>\n",
       "      <td>86.125</td>\n",
       "    </tr>\n",
       "    <tr>\n",
       "      <th>4</th>\n",
       "      <td>2018/04</td>\n",
       "      <td>88.700</td>\n",
       "    </tr>\n",
       "  </tbody>\n",
       "</table>\n",
       "</div>"
      ],
      "text/plain": [
       "      Date    SG_Y\n",
       "0  2017/12  76.500\n",
       "1  2018/01  82.750\n",
       "2  2018/02  85.500\n",
       "3  2018/03  86.125\n",
       "4  2018/04  88.700"
      ]
     },
     "execution_count": 3,
     "metadata": {},
     "output_type": "execute_result"
    }
   ],
   "source": [
    "#   LOAD IN DATA\n",
    "data = pd.read_csv('data_for_inequalities.csv')\n",
    "#View head\n",
    "data.head()"
   ]
  },
  {
   "cell_type": "code",
   "execution_count": 4,
   "metadata": {},
   "outputs": [],
   "source": [
    "#   USER DEFINED\n",
    "#Set target_col to column name you want to forecast \n",
    "#Example uses column named SG_Y\n",
    "target_col = 'SG_Y'"
   ]
  },
  {
   "cell_type": "code",
   "execution_count": 5,
   "metadata": {},
   "outputs": [
    {
     "data": {
      "text/plain": [
       "0      76.500000\n",
       "1      82.750000\n",
       "2      85.500000\n",
       "3      86.125000\n",
       "4      88.700000\n",
       "5      89.916667\n",
       "6      89.214286\n",
       "7      89.062500\n",
       "8      84.833333\n",
       "9      83.550000\n",
       "10     83.772727\n",
       "11     84.375000\n",
       "12     84.375000\n",
       "13     85.708333\n",
       "14     87.791667\n",
       "15     87.541667\n",
       "16     85.791667\n",
       "17     86.375000\n",
       "18     88.125000\n",
       "19     88.125000\n",
       "20     89.708333\n",
       "21     91.625000\n",
       "22     92.291667\n",
       "23     95.708333\n",
       "24     96.750000\n",
       "25     96.166667\n",
       "26     94.833333\n",
       "27     93.833333\n",
       "28     96.083333\n",
       "29     98.000000\n",
       "30     98.500000\n",
       "31    104.000000\n",
       "32    104.333333\n",
       "33    103.833333\n",
       "34    104.416667\n",
       "35    103.916667\n",
       "Name: SG_Y, dtype: float64"
      ]
     },
     "execution_count": 5,
     "metadata": {},
     "output_type": "execute_result"
    }
   ],
   "source": [
    "#   TRAIN/TEST SPLIT \n",
    "y = data[target_col]\n",
    "y_train, y_test = temporal_train_test_split(y, test_size=12)\n",
    "y_train"
   ]
  },
  {
   "cell_type": "code",
   "execution_count": 6,
   "metadata": {},
   "outputs": [
    {
     "data": {
      "text/plain": [
       "array([ 1,  2,  3,  4,  5,  6,  7,  8,  9, 10, 11, 12])"
      ]
     },
     "execution_count": 6,
     "metadata": {},
     "output_type": "execute_result"
    }
   ],
   "source": [
    "#Set Forecasting horizon ------ Forecast next 730 hours (730 hours in a month)\n",
    "fh = np.arange(1, len(y_test) +1)\n",
    "fh"
   ]
  },
  {
   "cell_type": "code",
   "execution_count": 7,
   "metadata": {},
   "outputs": [],
   "source": [
    "#Create estimator and mae score array to be appended with models in ensemble \n",
    "estimators=[]\n",
    "mae_scores=[]"
   ]
  },
  {
   "cell_type": "code",
   "execution_count": 8,
   "metadata": {},
   "outputs": [
    {
     "name": "stdout",
     "output_type": "stream",
     "text": [
      "Decision Tree Model - MAE: 2.580\n",
      "Decision Tree Model - RMSLE: 0.029\n",
      "--------Decision Tree Forecast--------\n"
     ]
    },
    {
     "data": {
      "text/plain": [
       "36    104.333333\n",
       "37    103.916667\n",
       "38    104.416667\n",
       "39    103.916667\n",
       "40    104.416667\n",
       "41    103.916667\n",
       "42    104.416667\n",
       "43    103.916667\n",
       "44    104.416667\n",
       "45    103.916667\n",
       "46    104.416667\n",
       "47    103.916667\n",
       "dtype: float64"
      ]
     },
     "execution_count": 8,
     "metadata": {},
     "output_type": "execute_result"
    }
   ],
   "source": [
    "#   Build Decision Tree Model and score MAE in sample Forecast\n",
    "DTmodel = DecisionTreeRegressor()\n",
    "#Make reduction for univariate data - one column \n",
    "model1 = make_reduction(DTmodel, window_length = 24)\n",
    "#Append estimators array by adding model1\n",
    "estimators.append((\"D Tree\",model1))\n",
    "#Fits model on training data\n",
    "model1.fit(y_train)\n",
    "#Forecasts\n",
    "target_pred1 = model1.predict(fh)\n",
    "#Calculates MAE for model1\n",
    "DTREEmae = mean_absolute_error(y_test, target_pred1, symmetric=False)\n",
    "#Calculate RMSLE score for ensemble model\n",
    "DTREErmsle = mean_squared_log_error(y_test, target_pred1, squared=False)\n",
    "#Append mae_scores array by adding model1 mae score \n",
    "mae_scores.append(DTREEmae)\n",
    "#Prints scores for model1\n",
    "print('Decision Tree Model - MAE: %.3f' % (DTREEmae))\n",
    "print(\"Decision Tree Model - RMSLE: %.3f\" % DTREErmsle)\n",
    "print('--------Decision Tree Forecast--------')\n",
    "target_pred1"
   ]
  },
  {
   "cell_type": "code",
   "execution_count": 9,
   "metadata": {},
   "outputs": [
    {
     "name": "stdout",
     "output_type": "stream",
     "text": [
      "SARIMAX Model - MAE: 9.940\n",
      "SARIMAX Model - RMSLE: 0.110\n",
      "--------SARIMAX Forecast--------\n"
     ]
    },
    {
     "data": {
      "text/plain": [
       "36    105.138474\n",
       "37    106.942127\n",
       "38    109.038337\n",
       "39    111.068942\n",
       "40    112.069702\n",
       "41    113.225204\n",
       "42    114.893564\n",
       "43    114.953479\n",
       "44    116.765914\n",
       "45    118.898294\n",
       "46    120.716968\n",
       "47    122.938188\n",
       "Name: SG_Y, dtype: float64"
      ]
     },
     "execution_count": 9,
     "metadata": {},
     "output_type": "execute_result"
    }
   ],
   "source": [
    "#   Build BATS Model and score MAE in sample Forecast\n",
    "model2 = SARIMAX(trend='t', seasonal_order=(1, 0, 0, 12))\n",
    "#Append estimators array by adding model2\n",
    "estimators.append((\"SARIMAX\",model2))\n",
    "#Fits model on training data\n",
    "model2.fit(y_train)\n",
    "#Forecasts\n",
    "target_pred2 = model2.predict(fh)\n",
    "#Calculates MAE for model2\n",
    "SARIMAXmae = mean_absolute_error(y_test, target_pred2, symmetric=False)\n",
    "#Calculate RMSLE score for model2\n",
    "SARIMAXrmsle = mean_squared_log_error(y_test, target_pred2, squared=False)\n",
    "#Append mae_scores array by adding model2 mae score \n",
    "mae_scores.append(SARIMAXmae)\n",
    "#Prints scores for model1\n",
    "print('SARIMAX Model - MAE: %.3f' % (SARIMAXmae))\n",
    "print(\"SARIMAX Model - RMSLE: %.3f\" % SARIMAXrmsle)\n",
    "print('--------SARIMAX Forecast--------')\n",
    "target_pred2"
   ]
  },
  {
   "cell_type": "code",
   "execution_count": 10,
   "metadata": {},
   "outputs": [
    {
     "name": "stdout",
     "output_type": "stream",
     "text": [
      "AUTO ETS Model - MAE: 2.601\n",
      "AUTO ETS Model - RMSLE: 0.029\n",
      "--------Auto ETS Forecast--------\n"
     ]
    },
    {
     "data": {
      "text/plain": [
       "36    103.960567\n",
       "37    103.995618\n",
       "38    104.023659\n",
       "39    104.046092\n",
       "40    104.064038\n",
       "41    104.078394\n",
       "42    104.089880\n",
       "43    104.099068\n",
       "44    104.106419\n",
       "45    104.112300\n",
       "46    104.117004\n",
       "47    104.120768\n",
       "dtype: float64"
      ]
     },
     "execution_count": 10,
     "metadata": {},
     "output_type": "execute_result"
    }
   ],
   "source": [
    "#   Build Auto ETS Model and score MAE in sample Forecast\n",
    "model3 = AutoETS(auto=True, sp=4, n_jobs=-1)\n",
    "#Append estimators array by adding model3\n",
    "estimators.append((\"Auto ETS\",model3))\n",
    "#Fits model on training data\n",
    "model3.fit(y_train)\n",
    "#Forecasts\n",
    "target_pred3 = model3.predict(fh)\n",
    "#Calculates MAE for model3\n",
    "ETSmae = mean_absolute_error(y_test, target_pred3, symmetric=False)\n",
    "#Calculate RMSLE score for model3\n",
    "ETSrmsle = mean_squared_log_error(y_test, target_pred3, squared=False)\n",
    "#Append mae_scores array by adding model3 mae score \n",
    "mae_scores.append(ETSmae)\n",
    "#Prints scores for model3\n",
    "print('AUTO ETS Model - MAE: %.3f' % (ETSmae))\n",
    "print(\"AUTO ETS Model - RMSLE: %.3f\" % ETSrmsle)\n",
    "print('--------Auto ETS Forecast--------')\n",
    "target_pred3"
   ]
  },
  {
   "cell_type": "code",
   "execution_count": 11,
   "metadata": {},
   "outputs": [
    {
     "name": "stdout",
     "output_type": "stream",
     "text": [
      "Ensemble MAE: 4.055\n",
      "Ensemble RMSLE: 0.050\n",
      "36    104.366347\n",
      "37    104.979248\n",
      "38    105.687332\n",
      "39    106.371678\n",
      "40    106.711246\n",
      "41    107.101199\n",
      "42    107.661148\n",
      "43    107.684182\n",
      "44    108.290778\n",
      "45    109.003531\n",
      "46    109.611324\n",
      "47    110.352985\n",
      "dtype: float64\n"
     ]
    }
   ],
   "source": [
    "'''   \n",
    "ENSEMBLE TOP 3 ALGORITHMS (AutoETS, BATS, TBATS) USING SKTIME'S ENSMEBLE FORECASTER\n",
    "'''\n",
    "ensemble_model = EnsembleForecaster(forecasters=estimators)\n",
    "#Fit model on training data \n",
    "er = ensemble_model.fit(y_train)\n",
    "#Forecast\n",
    "target_pred = er.predict(fh)\n",
    "#Calculate MAE score for ensemble model\n",
    "Ensemblemae = mean_absolute_error(y_test, target_pred, symetric=False)\n",
    "#Calculate RMSLE score for ensemble model\n",
    "EnsembleRMSLE = mean_squared_log_error(y_test, target_pred, squared=False)\n",
    "#Print scores for model3\n",
    "print(\"Ensemble MAE: %.3f\" % Ensemblemae)\n",
    "print(\"Ensemble RMSLE: %.3f\" % EnsembleRMSLE)\n",
    "print(target_pred)"
   ]
  },
  {
   "cell_type": "code",
   "execution_count": 12,
   "metadata": {},
   "outputs": [
    {
     "data": {
      "text/html": [
       "<div>\n",
       "<style scoped>\n",
       "    .dataframe tbody tr th:only-of-type {\n",
       "        vertical-align: middle;\n",
       "    }\n",
       "\n",
       "    .dataframe tbody tr th {\n",
       "        vertical-align: top;\n",
       "    }\n",
       "\n",
       "    .dataframe thead th {\n",
       "        text-align: right;\n",
       "    }\n",
       "</style>\n",
       "<table border=\"1\" class=\"dataframe\">\n",
       "  <thead>\n",
       "    <tr style=\"text-align: right;\">\n",
       "      <th></th>\n",
       "      <th>Actual</th>\n",
       "      <th>Predicted</th>\n",
       "    </tr>\n",
       "  </thead>\n",
       "  <tbody>\n",
       "    <tr>\n",
       "      <th>36</th>\n",
       "      <td>104.250000</td>\n",
       "      <td>104.366347</td>\n",
       "    </tr>\n",
       "    <tr>\n",
       "      <th>37</th>\n",
       "      <td>103.458333</td>\n",
       "      <td>104.979248</td>\n",
       "    </tr>\n",
       "    <tr>\n",
       "      <th>38</th>\n",
       "      <td>103.916667</td>\n",
       "      <td>105.687332</td>\n",
       "    </tr>\n",
       "    <tr>\n",
       "      <th>39</th>\n",
       "      <td>108.541667</td>\n",
       "      <td>106.371678</td>\n",
       "    </tr>\n",
       "    <tr>\n",
       "      <th>40</th>\n",
       "      <td>108.458333</td>\n",
       "      <td>106.711246</td>\n",
       "    </tr>\n",
       "    <tr>\n",
       "      <th>41</th>\n",
       "      <td>107.291667</td>\n",
       "      <td>107.101199</td>\n",
       "    </tr>\n",
       "    <tr>\n",
       "      <th>42</th>\n",
       "      <td>106.583333</td>\n",
       "      <td>107.661148</td>\n",
       "    </tr>\n",
       "    <tr>\n",
       "      <th>43</th>\n",
       "      <td>101.208333</td>\n",
       "      <td>107.684182</td>\n",
       "    </tr>\n",
       "    <tr>\n",
       "      <th>44</th>\n",
       "      <td>100.125000</td>\n",
       "      <td>108.290778</td>\n",
       "    </tr>\n",
       "    <tr>\n",
       "      <th>45</th>\n",
       "      <td>99.791667</td>\n",
       "      <td>109.003531</td>\n",
       "    </tr>\n",
       "    <tr>\n",
       "      <th>46</th>\n",
       "      <td>100.791667</td>\n",
       "      <td>109.611324</td>\n",
       "    </tr>\n",
       "    <tr>\n",
       "      <th>47</th>\n",
       "      <td>102.958333</td>\n",
       "      <td>110.352985</td>\n",
       "    </tr>\n",
       "  </tbody>\n",
       "</table>\n",
       "</div>"
      ],
      "text/plain": [
       "        Actual   Predicted\n",
       "36  104.250000  104.366347\n",
       "37  103.458333  104.979248\n",
       "38  103.916667  105.687332\n",
       "39  108.541667  106.371678\n",
       "40  108.458333  106.711246\n",
       "41  107.291667  107.101199\n",
       "42  106.583333  107.661148\n",
       "43  101.208333  107.684182\n",
       "44  100.125000  108.290778\n",
       "45   99.791667  109.003531\n",
       "46  100.791667  109.611324\n",
       "47  102.958333  110.352985"
      ]
     },
     "execution_count": 12,
     "metadata": {},
     "output_type": "execute_result"
    }
   ],
   "source": [
    "df=pd.DataFrame({'Actual':y_test, 'Predicted':target_pred})\n",
    "df"
   ]
  },
  {
   "cell_type": "code",
   "execution_count": 13,
   "metadata": {},
   "outputs": [
    {
     "name": "stdout",
     "output_type": "stream",
     "text": [
      "AUTO ETS RMSLE      : 0.029033\n",
      "SARIMAX RMSLE       : 0.110113\n",
      "Decision Tree RMSLE : 0.028960\n",
      "Ensemble RMSLE      : 0.050275\n"
     ]
    }
   ],
   "source": [
    "#Evaluation side by side\n",
    "print(\"AUTO ETS RMSLE      : %.6f\" % ETSrmsle)\n",
    "print(\"SARIMAX RMSLE       : %.6f\" % SARIMAXrmsle)\n",
    "print(\"Decision Tree RMSLE : %.6f\" % DTREErmsle)\n",
    "print(\"Ensemble RMSLE      : %.6f\" % EnsembleRMSLE)"
   ]
  }
 ],
 "metadata": {
  "kernelspec": {
   "display_name": "Python 3.10.10 64-bit (microsoft store)",
   "language": "python",
   "name": "python3"
  },
  "language_info": {
   "codemirror_mode": {
    "name": "ipython",
    "version": 3
   },
   "file_extension": ".py",
   "mimetype": "text/x-python",
   "name": "python",
   "nbconvert_exporter": "python",
   "pygments_lexer": "ipython3",
   "version": "3.10.10"
  },
  "orig_nbformat": 4,
  "vscode": {
   "interpreter": {
    "hash": "9eb92a4ab26d26848c8c97605f0707ae8c7b8fcfac58dddfca39ef7715bb137d"
   }
  }
 },
 "nbformat": 4,
 "nbformat_minor": 2
}
