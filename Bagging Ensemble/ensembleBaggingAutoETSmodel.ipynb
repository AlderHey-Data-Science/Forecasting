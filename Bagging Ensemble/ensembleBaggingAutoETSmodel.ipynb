{
 "cells": [
  {
   "cell_type": "code",
   "execution_count": 1,
   "metadata": {},
   "outputs": [],
   "source": [
    "#   IMPORTS\n",
    "from sktime.utils.plotting import plot_series\n",
    "from sktime.forecasting.base import ForecastingHorizon\n",
    "from sktime.forecasting.model_selection import temporal_train_test_split\n",
    "from sktime.forecasting.naive import NaiveForecaster\n",
    "from sktime.performance_metrics.forecasting import MeanAbsolutePercentageError\n",
    "from sktime.performance_metrics.forecasting import mean_absolute_error\n",
    "from sktime.forecasting.compose import make_reduction\n",
    "from sktime.forecasting.fbprophet import Prophet\n",
    "from sktime.forecasting.ets import AutoETS\n",
    "from sktime.forecasting.exp_smoothing import ExponentialSmoothing\n",
    "from sktime.forecasting.bats import BATS\n",
    "from sktime.forecasting.tbats import TBATS\n",
    "from sktime.forecasting.var import VAR\n",
    "from sktime.forecasting.arima import AutoARIMA\n",
    "from sktime.forecasting.arima import ARIMA\n",
    "from sktime.forecasting.sarimax import SARIMAX\n",
    "from sktime.forecasting.theta import ThetaForecaster\n",
    "from sktime.forecasting.trend import TrendForecaster\n",
    "from sktime.forecasting.compose import EnsembleForecaster\n",
    "\n",
    "from xgboost import XGBRegressor\n",
    "from lightgbm import LGBMRegressor\n",
    "from prophet.forecaster import Prophet \n",
    "\n",
    "from sklearn.neighbors import KNeighborsRegressor\n",
    "from sklearn.ensemble import RandomForestRegressor\n",
    "from sklearn.tree import DecisionTreeRegressor\n",
    "from sklearn.ensemble import GradientBoostingRegressor\n",
    "from sklearn.ensemble import StackingRegressor\n",
    "from sklearn.ensemble import BaggingRegressor\n",
    "from sklearn.ensemble import BaseEnsemble\n",
    "from sklearn.metrics import mean_squared_log_error\n",
    "\n",
    "from pandas import read_csv\n",
    "import pandas as pd \n",
    "import numpy as np\n",
    "import warnings\n",
    "import datetime\n",
    "import warnings\n",
    "warnings.filterwarnings(\"ignore\")"
   ]
  },
  {
   "cell_type": "code",
   "execution_count": 2,
   "metadata": {},
   "outputs": [
    {
     "data": {
      "text/html": [
       "<div>\n",
       "<style scoped>\n",
       "    .dataframe tbody tr th:only-of-type {\n",
       "        vertical-align: middle;\n",
       "    }\n",
       "\n",
       "    .dataframe tbody tr th {\n",
       "        vertical-align: top;\n",
       "    }\n",
       "\n",
       "    .dataframe thead th {\n",
       "        text-align: right;\n",
       "    }\n",
       "</style>\n",
       "<table border=\"1\" class=\"dataframe\">\n",
       "  <thead>\n",
       "    <tr style=\"text-align: right;\">\n",
       "      <th></th>\n",
       "      <th>Date</th>\n",
       "      <th>SG_Y</th>\n",
       "    </tr>\n",
       "  </thead>\n",
       "  <tbody>\n",
       "    <tr>\n",
       "      <th>0</th>\n",
       "      <td>2017/12</td>\n",
       "      <td>76.500</td>\n",
       "    </tr>\n",
       "    <tr>\n",
       "      <th>1</th>\n",
       "      <td>2018/01</td>\n",
       "      <td>82.750</td>\n",
       "    </tr>\n",
       "    <tr>\n",
       "      <th>2</th>\n",
       "      <td>2018/02</td>\n",
       "      <td>85.500</td>\n",
       "    </tr>\n",
       "    <tr>\n",
       "      <th>3</th>\n",
       "      <td>2018/03</td>\n",
       "      <td>86.125</td>\n",
       "    </tr>\n",
       "    <tr>\n",
       "      <th>4</th>\n",
       "      <td>2018/04</td>\n",
       "      <td>88.700</td>\n",
       "    </tr>\n",
       "  </tbody>\n",
       "</table>\n",
       "</div>"
      ],
      "text/plain": [
       "      Date    SG_Y\n",
       "0  2017/12  76.500\n",
       "1  2018/01  82.750\n",
       "2  2018/02  85.500\n",
       "3  2018/03  86.125\n",
       "4  2018/04  88.700"
      ]
     },
     "execution_count": 2,
     "metadata": {},
     "output_type": "execute_result"
    }
   ],
   "source": [
    "#   LOAD IN DATA\n",
    "data = pd.read_csv('data_for_inequalities.csv')\n",
    "#View head\n",
    "data.head()"
   ]
  },
  {
   "cell_type": "code",
   "execution_count": 3,
   "metadata": {},
   "outputs": [],
   "source": [
    "#   USER DEFINED\n",
    "#Set target_col to column name you want to forecast \n",
    "#Example uses column named SG_Y\n",
    "target_col = 'SG_Y'"
   ]
  },
  {
   "cell_type": "code",
   "execution_count": 4,
   "metadata": {},
   "outputs": [],
   "source": [
    "#   TRAIN/TEST SPLIT \n",
    "y = data[target_col]\n",
    "y_train, y_test = temporal_train_test_split(y, test_size=12)"
   ]
  },
  {
   "cell_type": "code",
   "execution_count": 5,
   "metadata": {},
   "outputs": [
    {
     "data": {
      "text/plain": [
       "array([ 1,  2,  3,  4,  5,  6,  7,  8,  9, 10, 11, 12])"
      ]
     },
     "execution_count": 5,
     "metadata": {},
     "output_type": "execute_result"
    }
   ],
   "source": [
    "#Set Forecasting horizon ------ Forecast next 730 hours (730 hours in a month)\n",
    "fh = np.arange(1, len(y_test) +1)\n",
    "fh"
   ]
  },
  {
   "cell_type": "code",
   "execution_count": 6,
   "metadata": {},
   "outputs": [],
   "source": [
    "#Create estimator and mae score array to be appended with models in ensemble \n",
    "estimators=[]\n",
    "mae_scores=[]"
   ]
  },
  {
   "cell_type": "code",
   "execution_count": 7,
   "metadata": {},
   "outputs": [
    {
     "name": "stdout",
     "output_type": "stream",
     "text": [
      "AUTO ETS Model - MAE: 2.601\n",
      "AUTO ETS Model - RMSLE: 0.029\n",
      "--------Auto ETS Forecast--------\n"
     ]
    },
    {
     "data": {
      "text/plain": [
       "36    103.960567\n",
       "37    103.995618\n",
       "38    104.023659\n",
       "39    104.046092\n",
       "40    104.064038\n",
       "41    104.078394\n",
       "42    104.089880\n",
       "43    104.099068\n",
       "44    104.106419\n",
       "45    104.112300\n",
       "46    104.117004\n",
       "47    104.120768\n",
       "dtype: float64"
      ]
     },
     "execution_count": 7,
     "metadata": {},
     "output_type": "execute_result"
    }
   ],
   "source": [
    "#   Build Auto ETS Model and score MAE in sample Forecast\n",
    "model1 = AutoETS(auto=True, sp=4, n_jobs=-1)\n",
    "#Append estimators array by adding model1\n",
    "estimators.append((\"Auto ETS\",model1))\n",
    "#Fits model on training data\n",
    "model1.fit(y_train)\n",
    "#Forecasts\n",
    "target_pred1 = model1.predict(fh)\n",
    "#Calculates MAE for model1\n",
    "ETSmae = mean_absolute_error(y_test, target_pred1, symmetric=False)\n",
    "#Calculate RMSLE score for ensemble model\n",
    "ETSrmsle = mean_squared_log_error(y_test, target_pred1, squared=False)\n",
    "#Append mae_scores array by adding model1 mae score \n",
    "mae_scores.append(ETSmae)\n",
    "#Prints scores for model1\n",
    "print('AUTO ETS Model - MAE: %.3f' % (ETSmae))\n",
    "print(\"AUTO ETS Model - RMSLE: %.3f\" % ETSrmsle)\n",
    "print('--------Auto ETS Forecast--------')\n",
    "target_pred1"
   ]
  },
  {
   "cell_type": "code",
   "execution_count": 8,
   "metadata": {},
   "outputs": [
    {
     "name": "stdout",
     "output_type": "stream",
     "text": [
      "Ensemble MAE: 2.575\n",
      "Ensemble RMSLE: 0.029\n",
      "36    104.166667\n",
      "37    104.183333\n",
      "38    103.925000\n",
      "39    104.166667\n",
      "40    104.125000\n",
      "41    104.125000\n",
      "42    104.125000\n",
      "43    104.125000\n",
      "44    104.125000\n",
      "45    104.125000\n",
      "46    104.125000\n",
      "47    104.125000\n",
      "dtype: float64\n"
     ]
    }
   ],
   "source": [
    "#Bagging\n",
    "#Define the bagging ensemble\n",
    "BaggingEnsemble = BaggingRegressor()\n",
    "ensemble_model = make_reduction(BaggingEnsemble)\n",
    "#Fit model on training data \n",
    "ensembleBagging = ensemble_model.fit(y_train)\n",
    "#Forecast\n",
    "target_pred = ensembleBagging.predict(fh)\n",
    "#Calculate MAE score for ensemble model\n",
    "Ensemblemae = mean_absolute_error(y_test, target_pred)\n",
    "#Calculate RMSLE score for ensemble model\n",
    "EnsembleRMSLE = mean_squared_log_error(y_test, target_pred, squared=False)\n",
    "#Print scores for model3\n",
    "print(\"Ensemble MAE: %.3f\" % Ensemblemae)\n",
    "print(\"Ensemble RMSLE: %.3f\" % EnsembleRMSLE)\n",
    "print(target_pred)"
   ]
  }
 ],
 "metadata": {
  "kernelspec": {
   "display_name": "Python 3.10.10 64-bit (microsoft store)",
   "language": "python",
   "name": "python3"
  },
  "language_info": {
   "codemirror_mode": {
    "name": "ipython",
    "version": 3
   },
   "file_extension": ".py",
   "mimetype": "text/x-python",
   "name": "python",
   "nbconvert_exporter": "python",
   "pygments_lexer": "ipython3",
   "version": "3.10.10"
  },
  "orig_nbformat": 4,
  "vscode": {
   "interpreter": {
    "hash": "9eb92a4ab26d26848c8c97605f0707ae8c7b8fcfac58dddfca39ef7715bb137d"
   }
  }
 },
 "nbformat": 4,
 "nbformat_minor": 2
}
